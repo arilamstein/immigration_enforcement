{
 "cells": [
  {
   "cell_type": "code",
   "execution_count": 1,
   "id": "44e200ce",
   "metadata": {},
   "outputs": [
    {
     "data": {
      "text/html": [
       "<div>\n",
       "<style scoped>\n",
       "    .dataframe tbody tr th:only-of-type {\n",
       "        vertical-align: middle;\n",
       "    }\n",
       "\n",
       "    .dataframe tbody tr th {\n",
       "        vertical-align: top;\n",
       "    }\n",
       "\n",
       "    .dataframe thead th {\n",
       "        text-align: right;\n",
       "    }\n",
       "</style>\n",
       "<table border=\"1\" class=\"dataframe\">\n",
       "  <thead>\n",
       "    <tr style=\"text-align: right;\">\n",
       "      <th></th>\n",
       "      <th>date</th>\n",
       "      <th>ice_all</th>\n",
       "      <th>cbp_all</th>\n",
       "      <th>total_all</th>\n",
       "      <th>ice_other</th>\n",
       "      <th>cbp_other</th>\n",
       "      <th>total_other</th>\n",
       "      <th>ice_pend</th>\n",
       "      <th>cbp_pend</th>\n",
       "      <th>total_pend</th>\n",
       "      <th>ice_conv</th>\n",
       "      <th>cbp_conv</th>\n",
       "      <th>total_conv</th>\n",
       "    </tr>\n",
       "  </thead>\n",
       "  <tbody>\n",
       "    <tr>\n",
       "      <th>0</th>\n",
       "      <td>06/15/2025</td>\n",
       "      <td>39312</td>\n",
       "      <td>17085</td>\n",
       "      <td>56397</td>\n",
       "      <td>11763</td>\n",
       "      <td>14407</td>\n",
       "      <td>26170</td>\n",
       "      <td>13022</td>\n",
       "      <td>1241</td>\n",
       "      <td>14263</td>\n",
       "      <td>14527</td>\n",
       "      <td>1437</td>\n",
       "      <td>15964</td>\n",
       "    </tr>\n",
       "    <tr>\n",
       "      <th>1</th>\n",
       "      <td>06/01/2025</td>\n",
       "      <td>33976</td>\n",
       "      <td>17326</td>\n",
       "      <td>51302</td>\n",
       "      <td>7781</td>\n",
       "      <td>14657</td>\n",
       "      <td>22438</td>\n",
       "      <td>12414</td>\n",
       "      <td>1257</td>\n",
       "      <td>13671</td>\n",
       "      <td>13781</td>\n",
       "      <td>1412</td>\n",
       "      <td>15193</td>\n",
       "    </tr>\n",
       "    <tr>\n",
       "      <th>2</th>\n",
       "      <td>05/18/2025</td>\n",
       "      <td>31095</td>\n",
       "      <td>17775</td>\n",
       "      <td>48870</td>\n",
       "      <td>5845</td>\n",
       "      <td>15196</td>\n",
       "      <td>21041</td>\n",
       "      <td>11721</td>\n",
       "      <td>1199</td>\n",
       "      <td>12920</td>\n",
       "      <td>13529</td>\n",
       "      <td>1380</td>\n",
       "      <td>14909</td>\n",
       "    </tr>\n",
       "    <tr>\n",
       "      <th>3</th>\n",
       "      <td>05/04/2025</td>\n",
       "      <td>30420</td>\n",
       "      <td>18585</td>\n",
       "      <td>49005</td>\n",
       "      <td>5400</td>\n",
       "      <td>15850</td>\n",
       "      <td>21250</td>\n",
       "      <td>11529</td>\n",
       "      <td>1201</td>\n",
       "      <td>12730</td>\n",
       "      <td>13491</td>\n",
       "      <td>1534</td>\n",
       "      <td>15025</td>\n",
       "    </tr>\n",
       "    <tr>\n",
       "      <th>4</th>\n",
       "      <td>04/20/2025</td>\n",
       "      <td>30039</td>\n",
       "      <td>19145</td>\n",
       "      <td>49184</td>\n",
       "      <td>5433</td>\n",
       "      <td>16564</td>\n",
       "      <td>21997</td>\n",
       "      <td>10987</td>\n",
       "      <td>1010</td>\n",
       "      <td>11997</td>\n",
       "      <td>13619</td>\n",
       "      <td>1571</td>\n",
       "      <td>15190</td>\n",
       "    </tr>\n",
       "  </tbody>\n",
       "</table>\n",
       "</div>"
      ],
      "text/plain": [
       "         date  ice_all  cbp_all  total_all  ice_other  cbp_other  total_other  \\\n",
       "0  06/15/2025    39312    17085      56397      11763      14407        26170   \n",
       "1  06/01/2025    33976    17326      51302       7781      14657        22438   \n",
       "2  05/18/2025    31095    17775      48870       5845      15196        21041   \n",
       "3  05/04/2025    30420    18585      49005       5400      15850        21250   \n",
       "4  04/20/2025    30039    19145      49184       5433      16564        21997   \n",
       "\n",
       "   ice_pend  cbp_pend  total_pend  ice_conv  cbp_conv  total_conv  \n",
       "0     13022      1241       14263     14527      1437       15964  \n",
       "1     12414      1257       13671     13781      1412       15193  \n",
       "2     11721      1199       12920     13529      1380       14909  \n",
       "3     11529      1201       12730     13491      1534       15025  \n",
       "4     10987      1010       11997     13619      1571       15190  "
      ]
     },
     "execution_count": 1,
     "metadata": {},
     "output_type": "execute_result"
    }
   ],
   "source": [
    "import requests\n",
    "import pandas as pd\n",
    "\n",
    "response = requests.get(\n",
    "    \"https://tracreports.org/immigration/detentionstats/pop_agen_table.json\"\n",
    ")\n",
    "\n",
    "df = pd.DataFrame(response.json())\n",
    "df.head()"
   ]
  },
  {
   "cell_type": "code",
   "execution_count": 2,
   "id": "7d372cc5",
   "metadata": {},
   "outputs": [
    {
     "data": {
      "text/plain": [
       "date           datetime64[ns]\n",
       "ice_all                 int64\n",
       "cbp_all                 int64\n",
       "total_all               int64\n",
       "ice_other               int64\n",
       "cbp_other               int64\n",
       "total_other             int64\n",
       "ice_pend                int64\n",
       "cbp_pend                int64\n",
       "total_pend              int64\n",
       "ice_conv                int64\n",
       "cbp_conv                int64\n",
       "total_conv              int64\n",
       "dtype: object"
      ]
     },
     "execution_count": 2,
     "metadata": {},
     "output_type": "execute_result"
    }
   ],
   "source": [
    "df.date = pd.to_datetime(df.date)\n",
    "df.dtypes"
   ]
  },
  {
   "cell_type": "code",
   "execution_count": 3,
   "id": "2afd2d8a",
   "metadata": {},
   "outputs": [
    {
     "data": {
      "application/vnd.plotly.v1+json": {
       "config": {
        "plotlyServerURL": "https://plot.ly"
       },
       "data": [
        {
         "hovertemplate": "date=%{x}<br>total_all=%{y}<extra></extra>",
         "legendgroup": "",
         "line": {
          "color": "#636efa",
          "dash": "solid"
         },
         "marker": {
          "symbol": "circle"
         },
         "mode": "lines",
         "name": "",
         "orientation": "v",
         "showlegend": false,
         "type": "scatter",
         "x": [
          "2025-06-15T00:00:00.000000000",
          "2025-06-01T00:00:00.000000000",
          "2025-05-18T00:00:00.000000000",
          "2025-05-04T00:00:00.000000000",
          "2025-04-20T00:00:00.000000000",
          "2025-04-06T00:00:00.000000000",
          "2025-03-23T00:00:00.000000000",
          "2025-03-09T00:00:00.000000000",
          "2025-02-23T00:00:00.000000000",
          "2025-02-09T00:00:00.000000000",
          "2025-01-26T00:00:00.000000000",
          "2025-01-12T00:00:00.000000000",
          "2024-12-29T00:00:00.000000000",
          "2024-12-15T00:00:00.000000000",
          "2024-12-01T00:00:00.000000000",
          "2024-11-03T00:00:00.000000000",
          "2024-09-08T00:00:00.000000000",
          "2024-08-25T00:00:00.000000000",
          "2024-08-11T00:00:00.000000000",
          "2024-07-14T00:00:00.000000000",
          "2024-06-30T00:00:00.000000000",
          "2024-06-16T00:00:00.000000000",
          "2024-06-02T00:00:00.000000000",
          "2024-05-19T00:00:00.000000000",
          "2024-05-05T00:00:00.000000000",
          "2024-04-21T00:00:00.000000000",
          "2024-04-07T00:00:00.000000000",
          "2024-03-24T00:00:00.000000000",
          "2024-03-10T00:00:00.000000000",
          "2024-02-25T00:00:00.000000000",
          "2024-02-11T00:00:00.000000000",
          "2024-01-28T00:00:00.000000000",
          "2024-01-13T00:00:00.000000000",
          "2023-12-31T00:00:00.000000000",
          "2023-12-17T00:00:00.000000000",
          "2023-12-03T00:00:00.000000000",
          "2023-11-19T00:00:00.000000000",
          "2023-11-05T00:00:00.000000000",
          "2023-10-03T00:00:00.000000000",
          "2023-09-24T00:00:00.000000000",
          "2023-09-10T00:00:00.000000000",
          "2023-08-27T00:00:00.000000000",
          "2023-08-13T00:00:00.000000000",
          "2023-07-30T00:00:00.000000000",
          "2023-07-16T00:00:00.000000000",
          "2023-07-02T00:00:00.000000000",
          "2023-06-18T00:00:00.000000000",
          "2023-06-04T00:00:00.000000000",
          "2023-05-21T00:00:00.000000000",
          "2023-05-07T00:00:00.000000000",
          "2023-04-23T00:00:00.000000000",
          "2023-04-09T00:00:00.000000000",
          "2023-03-26T00:00:00.000000000",
          "2023-03-12T00:00:00.000000000",
          "2023-02-26T00:00:00.000000000",
          "2023-02-12T00:00:00.000000000",
          "2023-01-29T00:00:00.000000000",
          "2023-01-15T00:00:00.000000000",
          "2023-01-01T00:00:00.000000000",
          "2022-12-18T00:00:00.000000000",
          "2022-12-04T00:00:00.000000000",
          "2022-11-20T00:00:00.000000000",
          "2022-10-31T00:00:00.000000000",
          "2022-09-25T00:00:00.000000000",
          "2022-09-10T00:00:00.000000000",
          "2022-08-15T00:00:00.000000000",
          "2022-07-31T00:00:00.000000000",
          "2022-07-17T00:00:00.000000000",
          "2022-07-05T00:00:00.000000000",
          "2022-06-19T00:00:00.000000000",
          "2022-06-05T00:00:00.000000000",
          "2022-05-07T00:00:00.000000000",
          "2022-04-24T00:00:00.000000000",
          "2022-04-11T00:00:00.000000000",
          "2022-03-27T00:00:00.000000000",
          "2022-03-13T00:00:00.000000000",
          "2022-02-27T00:00:00.000000000",
          "2022-02-13T00:00:00.000000000",
          "2022-01-16T00:00:00.000000000",
          "2022-01-02T00:00:00.000000000",
          "2021-12-19T00:00:00.000000000",
          "2021-12-05T00:00:00.000000000",
          "2021-11-21T00:00:00.000000000",
          "2021-10-01T00:00:00.000000000",
          "2021-09-16T00:00:00.000000000",
          "2021-09-13T00:00:00.000000000",
          "2021-08-24T00:00:00.000000000",
          "2021-08-06T00:00:00.000000000",
          "2021-07-22T00:00:00.000000000",
          "2021-07-08T00:00:00.000000000",
          "2021-06-24T00:00:00.000000000",
          "2021-06-11T00:00:00.000000000",
          "2021-05-28T00:00:00.000000000",
          "2021-05-13T00:00:00.000000000",
          "2021-05-03T00:00:00.000000000",
          "2021-04-14T00:00:00.000000000",
          "2021-03-31T00:00:00.000000000",
          "2021-03-17T00:00:00.000000000",
          "2021-02-25T00:00:00.000000000",
          "2021-02-11T00:00:00.000000000",
          "2021-01-22T00:00:00.000000000",
          "2021-01-07T00:00:00.000000000",
          "2020-12-30T00:00:00.000000000",
          "2020-12-10T00:00:00.000000000",
          "2020-11-26T00:00:00.000000000",
          "2020-11-14T00:00:00.000000000",
          "2020-09-18T00:00:00.000000000",
          "2020-09-04T00:00:00.000000000",
          "2020-08-21T00:00:00.000000000",
          "2020-08-08T00:00:00.000000000",
          "2020-08-01T00:00:00.000000000",
          "2020-07-25T00:00:00.000000000",
          "2020-07-18T00:00:00.000000000",
          "2020-07-11T00:00:00.000000000",
          "2020-07-04T00:00:00.000000000",
          "2020-06-27T00:00:00.000000000",
          "2020-06-20T00:00:00.000000000",
          "2020-06-13T00:00:00.000000000",
          "2020-06-06T00:00:00.000000000",
          "2020-05-30T00:00:00.000000000",
          "2020-05-23T00:00:00.000000000",
          "2020-05-16T00:00:00.000000000",
          "2020-05-09T00:00:00.000000000",
          "2020-05-02T00:00:00.000000000",
          "2020-04-25T00:00:00.000000000",
          "2020-04-18T00:00:00.000000000",
          "2020-04-11T00:00:00.000000000",
          "2020-03-21T00:00:00.000000000",
          "2020-02-29T00:00:00.000000000",
          "2020-02-08T00:00:00.000000000",
          "2020-01-04T00:00:00.000000000",
          "2019-12-21T00:00:00.000000000",
          "2019-11-30T00:00:00.000000000",
          "2019-10-26T00:00:00.000000000",
          "2019-09-30T00:00:00.000000000",
          "2019-09-21T00:00:00.000000000",
          "2019-08-31T00:00:00.000000000",
          "2019-08-03T00:00:00.000000000",
          "2019-06-01T00:00:00.000000000",
          "2019-05-04T00:00:00.000000000"
         ],
         "xaxis": "x",
         "y": {
          "bdata": "TdwAAGbIAADmvgAAbb8AACDAAAA4uwAAFLsAAL20AADvqgAA0aAAAEaZAAAXmwAA8JgAAAaWAABIlwAAz5cAABOSAAB/jQAA5o0AAIyQAACFkgAAfZYAAPCRAADbjgAA+44AAEWGAAAUhwAAQ5AAAMeYAAAHmQAAcpUAAGKWAACWkwAAC5EAAKeNAACTjwAAZZgAAESbAADtjwAA2YkAAAWLAADnfwAA6HUAAOZ2AABYeQAAM3UAAK1zAADadAAAwmoAAC1TAABwYQAAmWQAABJpAABLbAAAgmkAACpnAABqXgAAnFEAABpQAAAUWgAAYnEAADF1AAAgdQAALmIAALBkAAA/XgAAXlsAAGZZAAB0WgAAXlsAAA9gAAAJVwAALkwAAJ5JAAD9UAAAsk4AAEBGAADsTQAAllEAADRWAACPUAAAwFUAAKZXAABxVgAAPlQAAOZZAABKYgAAtmMAAJNoAABRagAAbmYAAI9fAAAPVAAAYUoAAFE9AAAgOwAAWjYAAOQ2AADKMwAADzcAAHM3AABUPAAA9jsAAJw9AADLPgAA+kAAADJOAAAJUAAAD1IAAH5SAAAqVAAAfFUAAH5WAABEVwAAM1gAABVZAACFWwAA6V0AAIlgAABNYwAAN2UAACRoAAAEbQAAwXAAAOtzAAAReAAANX4AAKqUAACJlgAA/pkAAJ+iAADNowAAPK8AAAvBAADqxgAAZsgAAMLOAABm2QAA8cwAAO3BAAA=",
          "dtype": "i4"
         },
         "yaxis": "y"
        }
       ],
       "layout": {
        "legend": {
         "tracegroupgap": 0
        },
        "margin": {
         "t": 60
        },
        "template": {
         "data": {
          "bar": [
           {
            "error_x": {
             "color": "#2a3f5f"
            },
            "error_y": {
             "color": "#2a3f5f"
            },
            "marker": {
             "line": {
              "color": "#E5ECF6",
              "width": 0.5
             },
             "pattern": {
              "fillmode": "overlay",
              "size": 10,
              "solidity": 0.2
             }
            },
            "type": "bar"
           }
          ],
          "barpolar": [
           {
            "marker": {
             "line": {
              "color": "#E5ECF6",
              "width": 0.5
             },
             "pattern": {
              "fillmode": "overlay",
              "size": 10,
              "solidity": 0.2
             }
            },
            "type": "barpolar"
           }
          ],
          "carpet": [
           {
            "aaxis": {
             "endlinecolor": "#2a3f5f",
             "gridcolor": "white",
             "linecolor": "white",
             "minorgridcolor": "white",
             "startlinecolor": "#2a3f5f"
            },
            "baxis": {
             "endlinecolor": "#2a3f5f",
             "gridcolor": "white",
             "linecolor": "white",
             "minorgridcolor": "white",
             "startlinecolor": "#2a3f5f"
            },
            "type": "carpet"
           }
          ],
          "choropleth": [
           {
            "colorbar": {
             "outlinewidth": 0,
             "ticks": ""
            },
            "type": "choropleth"
           }
          ],
          "contour": [
           {
            "colorbar": {
             "outlinewidth": 0,
             "ticks": ""
            },
            "colorscale": [
             [
              0,
              "#0d0887"
             ],
             [
              0.1111111111111111,
              "#46039f"
             ],
             [
              0.2222222222222222,
              "#7201a8"
             ],
             [
              0.3333333333333333,
              "#9c179e"
             ],
             [
              0.4444444444444444,
              "#bd3786"
             ],
             [
              0.5555555555555556,
              "#d8576b"
             ],
             [
              0.6666666666666666,
              "#ed7953"
             ],
             [
              0.7777777777777778,
              "#fb9f3a"
             ],
             [
              0.8888888888888888,
              "#fdca26"
             ],
             [
              1,
              "#f0f921"
             ]
            ],
            "type": "contour"
           }
          ],
          "contourcarpet": [
           {
            "colorbar": {
             "outlinewidth": 0,
             "ticks": ""
            },
            "type": "contourcarpet"
           }
          ],
          "heatmap": [
           {
            "colorbar": {
             "outlinewidth": 0,
             "ticks": ""
            },
            "colorscale": [
             [
              0,
              "#0d0887"
             ],
             [
              0.1111111111111111,
              "#46039f"
             ],
             [
              0.2222222222222222,
              "#7201a8"
             ],
             [
              0.3333333333333333,
              "#9c179e"
             ],
             [
              0.4444444444444444,
              "#bd3786"
             ],
             [
              0.5555555555555556,
              "#d8576b"
             ],
             [
              0.6666666666666666,
              "#ed7953"
             ],
             [
              0.7777777777777778,
              "#fb9f3a"
             ],
             [
              0.8888888888888888,
              "#fdca26"
             ],
             [
              1,
              "#f0f921"
             ]
            ],
            "type": "heatmap"
           }
          ],
          "histogram": [
           {
            "marker": {
             "pattern": {
              "fillmode": "overlay",
              "size": 10,
              "solidity": 0.2
             }
            },
            "type": "histogram"
           }
          ],
          "histogram2d": [
           {
            "colorbar": {
             "outlinewidth": 0,
             "ticks": ""
            },
            "colorscale": [
             [
              0,
              "#0d0887"
             ],
             [
              0.1111111111111111,
              "#46039f"
             ],
             [
              0.2222222222222222,
              "#7201a8"
             ],
             [
              0.3333333333333333,
              "#9c179e"
             ],
             [
              0.4444444444444444,
              "#bd3786"
             ],
             [
              0.5555555555555556,
              "#d8576b"
             ],
             [
              0.6666666666666666,
              "#ed7953"
             ],
             [
              0.7777777777777778,
              "#fb9f3a"
             ],
             [
              0.8888888888888888,
              "#fdca26"
             ],
             [
              1,
              "#f0f921"
             ]
            ],
            "type": "histogram2d"
           }
          ],
          "histogram2dcontour": [
           {
            "colorbar": {
             "outlinewidth": 0,
             "ticks": ""
            },
            "colorscale": [
             [
              0,
              "#0d0887"
             ],
             [
              0.1111111111111111,
              "#46039f"
             ],
             [
              0.2222222222222222,
              "#7201a8"
             ],
             [
              0.3333333333333333,
              "#9c179e"
             ],
             [
              0.4444444444444444,
              "#bd3786"
             ],
             [
              0.5555555555555556,
              "#d8576b"
             ],
             [
              0.6666666666666666,
              "#ed7953"
             ],
             [
              0.7777777777777778,
              "#fb9f3a"
             ],
             [
              0.8888888888888888,
              "#fdca26"
             ],
             [
              1,
              "#f0f921"
             ]
            ],
            "type": "histogram2dcontour"
           }
          ],
          "mesh3d": [
           {
            "colorbar": {
             "outlinewidth": 0,
             "ticks": ""
            },
            "type": "mesh3d"
           }
          ],
          "parcoords": [
           {
            "line": {
             "colorbar": {
              "outlinewidth": 0,
              "ticks": ""
             }
            },
            "type": "parcoords"
           }
          ],
          "pie": [
           {
            "automargin": true,
            "type": "pie"
           }
          ],
          "scatter": [
           {
            "fillpattern": {
             "fillmode": "overlay",
             "size": 10,
             "solidity": 0.2
            },
            "type": "scatter"
           }
          ],
          "scatter3d": [
           {
            "line": {
             "colorbar": {
              "outlinewidth": 0,
              "ticks": ""
             }
            },
            "marker": {
             "colorbar": {
              "outlinewidth": 0,
              "ticks": ""
             }
            },
            "type": "scatter3d"
           }
          ],
          "scattercarpet": [
           {
            "marker": {
             "colorbar": {
              "outlinewidth": 0,
              "ticks": ""
             }
            },
            "type": "scattercarpet"
           }
          ],
          "scattergeo": [
           {
            "marker": {
             "colorbar": {
              "outlinewidth": 0,
              "ticks": ""
             }
            },
            "type": "scattergeo"
           }
          ],
          "scattergl": [
           {
            "marker": {
             "colorbar": {
              "outlinewidth": 0,
              "ticks": ""
             }
            },
            "type": "scattergl"
           }
          ],
          "scattermap": [
           {
            "marker": {
             "colorbar": {
              "outlinewidth": 0,
              "ticks": ""
             }
            },
            "type": "scattermap"
           }
          ],
          "scattermapbox": [
           {
            "marker": {
             "colorbar": {
              "outlinewidth": 0,
              "ticks": ""
             }
            },
            "type": "scattermapbox"
           }
          ],
          "scatterpolar": [
           {
            "marker": {
             "colorbar": {
              "outlinewidth": 0,
              "ticks": ""
             }
            },
            "type": "scatterpolar"
           }
          ],
          "scatterpolargl": [
           {
            "marker": {
             "colorbar": {
              "outlinewidth": 0,
              "ticks": ""
             }
            },
            "type": "scatterpolargl"
           }
          ],
          "scatterternary": [
           {
            "marker": {
             "colorbar": {
              "outlinewidth": 0,
              "ticks": ""
             }
            },
            "type": "scatterternary"
           }
          ],
          "surface": [
           {
            "colorbar": {
             "outlinewidth": 0,
             "ticks": ""
            },
            "colorscale": [
             [
              0,
              "#0d0887"
             ],
             [
              0.1111111111111111,
              "#46039f"
             ],
             [
              0.2222222222222222,
              "#7201a8"
             ],
             [
              0.3333333333333333,
              "#9c179e"
             ],
             [
              0.4444444444444444,
              "#bd3786"
             ],
             [
              0.5555555555555556,
              "#d8576b"
             ],
             [
              0.6666666666666666,
              "#ed7953"
             ],
             [
              0.7777777777777778,
              "#fb9f3a"
             ],
             [
              0.8888888888888888,
              "#fdca26"
             ],
             [
              1,
              "#f0f921"
             ]
            ],
            "type": "surface"
           }
          ],
          "table": [
           {
            "cells": {
             "fill": {
              "color": "#EBF0F8"
             },
             "line": {
              "color": "white"
             }
            },
            "header": {
             "fill": {
              "color": "#C8D4E3"
             },
             "line": {
              "color": "white"
             }
            },
            "type": "table"
           }
          ]
         },
         "layout": {
          "annotationdefaults": {
           "arrowcolor": "#2a3f5f",
           "arrowhead": 0,
           "arrowwidth": 1
          },
          "autotypenumbers": "strict",
          "coloraxis": {
           "colorbar": {
            "outlinewidth": 0,
            "ticks": ""
           }
          },
          "colorscale": {
           "diverging": [
            [
             0,
             "#8e0152"
            ],
            [
             0.1,
             "#c51b7d"
            ],
            [
             0.2,
             "#de77ae"
            ],
            [
             0.3,
             "#f1b6da"
            ],
            [
             0.4,
             "#fde0ef"
            ],
            [
             0.5,
             "#f7f7f7"
            ],
            [
             0.6,
             "#e6f5d0"
            ],
            [
             0.7,
             "#b8e186"
            ],
            [
             0.8,
             "#7fbc41"
            ],
            [
             0.9,
             "#4d9221"
            ],
            [
             1,
             "#276419"
            ]
           ],
           "sequential": [
            [
             0,
             "#0d0887"
            ],
            [
             0.1111111111111111,
             "#46039f"
            ],
            [
             0.2222222222222222,
             "#7201a8"
            ],
            [
             0.3333333333333333,
             "#9c179e"
            ],
            [
             0.4444444444444444,
             "#bd3786"
            ],
            [
             0.5555555555555556,
             "#d8576b"
            ],
            [
             0.6666666666666666,
             "#ed7953"
            ],
            [
             0.7777777777777778,
             "#fb9f3a"
            ],
            [
             0.8888888888888888,
             "#fdca26"
            ],
            [
             1,
             "#f0f921"
            ]
           ],
           "sequentialminus": [
            [
             0,
             "#0d0887"
            ],
            [
             0.1111111111111111,
             "#46039f"
            ],
            [
             0.2222222222222222,
             "#7201a8"
            ],
            [
             0.3333333333333333,
             "#9c179e"
            ],
            [
             0.4444444444444444,
             "#bd3786"
            ],
            [
             0.5555555555555556,
             "#d8576b"
            ],
            [
             0.6666666666666666,
             "#ed7953"
            ],
            [
             0.7777777777777778,
             "#fb9f3a"
            ],
            [
             0.8888888888888888,
             "#fdca26"
            ],
            [
             1,
             "#f0f921"
            ]
           ]
          },
          "colorway": [
           "#636efa",
           "#EF553B",
           "#00cc96",
           "#ab63fa",
           "#FFA15A",
           "#19d3f3",
           "#FF6692",
           "#B6E880",
           "#FF97FF",
           "#FECB52"
          ],
          "font": {
           "color": "#2a3f5f"
          },
          "geo": {
           "bgcolor": "white",
           "lakecolor": "white",
           "landcolor": "#E5ECF6",
           "showlakes": true,
           "showland": true,
           "subunitcolor": "white"
          },
          "hoverlabel": {
           "align": "left"
          },
          "hovermode": "closest",
          "mapbox": {
           "style": "light"
          },
          "paper_bgcolor": "white",
          "plot_bgcolor": "#E5ECF6",
          "polar": {
           "angularaxis": {
            "gridcolor": "white",
            "linecolor": "white",
            "ticks": ""
           },
           "bgcolor": "#E5ECF6",
           "radialaxis": {
            "gridcolor": "white",
            "linecolor": "white",
            "ticks": ""
           }
          },
          "scene": {
           "xaxis": {
            "backgroundcolor": "#E5ECF6",
            "gridcolor": "white",
            "gridwidth": 2,
            "linecolor": "white",
            "showbackground": true,
            "ticks": "",
            "zerolinecolor": "white"
           },
           "yaxis": {
            "backgroundcolor": "#E5ECF6",
            "gridcolor": "white",
            "gridwidth": 2,
            "linecolor": "white",
            "showbackground": true,
            "ticks": "",
            "zerolinecolor": "white"
           },
           "zaxis": {
            "backgroundcolor": "#E5ECF6",
            "gridcolor": "white",
            "gridwidth": 2,
            "linecolor": "white",
            "showbackground": true,
            "ticks": "",
            "zerolinecolor": "white"
           }
          },
          "shapedefaults": {
           "line": {
            "color": "#2a3f5f"
           }
          },
          "ternary": {
           "aaxis": {
            "gridcolor": "white",
            "linecolor": "white",
            "ticks": ""
           },
           "baxis": {
            "gridcolor": "white",
            "linecolor": "white",
            "ticks": ""
           },
           "bgcolor": "#E5ECF6",
           "caxis": {
            "gridcolor": "white",
            "linecolor": "white",
            "ticks": ""
           }
          },
          "title": {
           "x": 0.05
          },
          "xaxis": {
           "automargin": true,
           "gridcolor": "white",
           "linecolor": "white",
           "ticks": "",
           "title": {
            "standoff": 15
           },
           "zerolinecolor": "white",
           "zerolinewidth": 2
          },
          "yaxis": {
           "automargin": true,
           "gridcolor": "white",
           "linecolor": "white",
           "ticks": "",
           "title": {
            "standoff": 15
           },
           "zerolinecolor": "white",
           "zerolinewidth": 2
          }
         }
        },
        "xaxis": {
         "anchor": "y",
         "domain": [
          0,
          1
         ],
         "title": {
          "text": "date"
         }
        },
        "yaxis": {
         "anchor": "x",
         "domain": [
          0,
          1
         ],
         "title": {
          "text": "total_all"
         }
        }
       }
      }
     },
     "metadata": {},
     "output_type": "display_data"
    }
   ],
   "source": [
    "import plotly.express as px\n",
    "\n",
    "fig = px.line(df, x=\"date\", y=\"total_all\")\n",
    "fig.show()"
   ]
  },
  {
   "cell_type": "code",
   "execution_count": 4,
   "id": "ba401364",
   "metadata": {},
   "outputs": [
    {
     "data": {
      "text/html": [
       "<div>\n",
       "<style scoped>\n",
       "    .dataframe tbody tr th:only-of-type {\n",
       "        vertical-align: middle;\n",
       "    }\n",
       "\n",
       "    .dataframe tbody tr th {\n",
       "        vertical-align: top;\n",
       "    }\n",
       "\n",
       "    .dataframe thead th {\n",
       "        text-align: right;\n",
       "    }\n",
       "</style>\n",
       "<table border=\"1\" class=\"dataframe\">\n",
       "  <thead>\n",
       "    <tr style=\"text-align: right;\">\n",
       "      <th></th>\n",
       "      <th>date</th>\n",
       "      <th>category</th>\n",
       "      <th>count</th>\n",
       "    </tr>\n",
       "  </thead>\n",
       "  <tbody>\n",
       "    <tr>\n",
       "      <th>0</th>\n",
       "      <td>2025-06-15</td>\n",
       "      <td>ice_all</td>\n",
       "      <td>39312</td>\n",
       "    </tr>\n",
       "    <tr>\n",
       "      <th>1</th>\n",
       "      <td>2025-06-01</td>\n",
       "      <td>ice_all</td>\n",
       "      <td>33976</td>\n",
       "    </tr>\n",
       "    <tr>\n",
       "      <th>2</th>\n",
       "      <td>2025-05-18</td>\n",
       "      <td>ice_all</td>\n",
       "      <td>31095</td>\n",
       "    </tr>\n",
       "    <tr>\n",
       "      <th>3</th>\n",
       "      <td>2025-05-04</td>\n",
       "      <td>ice_all</td>\n",
       "      <td>30420</td>\n",
       "    </tr>\n",
       "    <tr>\n",
       "      <th>4</th>\n",
       "      <td>2025-04-20</td>\n",
       "      <td>ice_all</td>\n",
       "      <td>30039</td>\n",
       "    </tr>\n",
       "    <tr>\n",
       "      <th>...</th>\n",
       "      <td>...</td>\n",
       "      <td>...</td>\n",
       "      <td>...</td>\n",
       "    </tr>\n",
       "    <tr>\n",
       "      <th>415</th>\n",
       "      <td>2019-09-21</td>\n",
       "      <td>total_all</td>\n",
       "      <td>51302</td>\n",
       "    </tr>\n",
       "    <tr>\n",
       "      <th>416</th>\n",
       "      <td>2019-08-31</td>\n",
       "      <td>total_all</td>\n",
       "      <td>52930</td>\n",
       "    </tr>\n",
       "    <tr>\n",
       "      <th>417</th>\n",
       "      <td>2019-08-03</td>\n",
       "      <td>total_all</td>\n",
       "      <td>55654</td>\n",
       "    </tr>\n",
       "    <tr>\n",
       "      <th>418</th>\n",
       "      <td>2019-06-01</td>\n",
       "      <td>total_all</td>\n",
       "      <td>52465</td>\n",
       "    </tr>\n",
       "    <tr>\n",
       "      <th>419</th>\n",
       "      <td>2019-05-04</td>\n",
       "      <td>total_all</td>\n",
       "      <td>49645</td>\n",
       "    </tr>\n",
       "  </tbody>\n",
       "</table>\n",
       "<p>420 rows × 3 columns</p>\n",
       "</div>"
      ],
      "text/plain": [
       "          date   category  count\n",
       "0   2025-06-15    ice_all  39312\n",
       "1   2025-06-01    ice_all  33976\n",
       "2   2025-05-18    ice_all  31095\n",
       "3   2025-05-04    ice_all  30420\n",
       "4   2025-04-20    ice_all  30039\n",
       "..         ...        ...    ...\n",
       "415 2019-09-21  total_all  51302\n",
       "416 2019-08-31  total_all  52930\n",
       "417 2019-08-03  total_all  55654\n",
       "418 2019-06-01  total_all  52465\n",
       "419 2019-05-04  total_all  49645\n",
       "\n",
       "[420 rows x 3 columns]"
      ]
     },
     "execution_count": 4,
     "metadata": {},
     "output_type": "execute_result"
    }
   ],
   "source": [
    "# Assuming df has columns: date, ice_all, cbp_all, total_all\n",
    "df_melted = df.melt(\n",
    "    id_vars=\"date\",\n",
    "    value_vars=[\"ice_all\", \"cbp_all\", \"total_all\"],\n",
    "    var_name=\"category\",\n",
    "    value_name=\"count\",\n",
    ")\n",
    "\n",
    "df_melted"
   ]
  },
  {
   "cell_type": "code",
   "execution_count": null,
   "id": "b60cb12d",
   "metadata": {},
   "outputs": [
    {
     "data": {
      "application/vnd.plotly.v1+json": {
       "config": {
        "plotlyServerURL": "https://plot.ly"
       },
       "data": [
        {
         "hovertemplate": "category=ice_all<br>date=%{x}<br>count=%{y}<extra></extra>",
         "legendgroup": "ice_all",
         "line": {
          "color": "rgb(136, 204, 238)",
          "dash": "solid"
         },
         "marker": {
          "symbol": "circle"
         },
         "mode": "lines",
         "name": "ice_all",
         "orientation": "v",
         "showlegend": true,
         "type": "scatter",
         "x": [
          "2025-06-15T00:00:00.000000000",
          "2025-06-01T00:00:00.000000000",
          "2025-05-18T00:00:00.000000000",
          "2025-05-04T00:00:00.000000000",
          "2025-04-20T00:00:00.000000000",
          "2025-04-06T00:00:00.000000000",
          "2025-03-23T00:00:00.000000000",
          "2025-03-09T00:00:00.000000000",
          "2025-02-23T00:00:00.000000000",
          "2025-02-09T00:00:00.000000000",
          "2025-01-26T00:00:00.000000000",
          "2025-01-12T00:00:00.000000000",
          "2024-12-29T00:00:00.000000000",
          "2024-12-15T00:00:00.000000000",
          "2024-12-01T00:00:00.000000000",
          "2024-11-03T00:00:00.000000000",
          "2024-09-08T00:00:00.000000000",
          "2024-08-25T00:00:00.000000000",
          "2024-08-11T00:00:00.000000000",
          "2024-07-14T00:00:00.000000000",
          "2024-06-30T00:00:00.000000000",
          "2024-06-16T00:00:00.000000000",
          "2024-06-02T00:00:00.000000000",
          "2024-05-19T00:00:00.000000000",
          "2024-05-05T00:00:00.000000000",
          "2024-04-21T00:00:00.000000000",
          "2024-04-07T00:00:00.000000000",
          "2024-03-24T00:00:00.000000000",
          "2024-03-10T00:00:00.000000000",
          "2024-02-25T00:00:00.000000000",
          "2024-02-11T00:00:00.000000000",
          "2024-01-28T00:00:00.000000000",
          "2024-01-13T00:00:00.000000000",
          "2023-12-31T00:00:00.000000000",
          "2023-12-17T00:00:00.000000000",
          "2023-12-03T00:00:00.000000000",
          "2023-11-19T00:00:00.000000000",
          "2023-11-05T00:00:00.000000000",
          "2023-10-03T00:00:00.000000000",
          "2023-09-24T00:00:00.000000000",
          "2023-09-10T00:00:00.000000000",
          "2023-08-27T00:00:00.000000000",
          "2023-08-13T00:00:00.000000000",
          "2023-07-30T00:00:00.000000000",
          "2023-07-16T00:00:00.000000000",
          "2023-07-02T00:00:00.000000000",
          "2023-06-18T00:00:00.000000000",
          "2023-06-04T00:00:00.000000000",
          "2023-05-21T00:00:00.000000000",
          "2023-05-07T00:00:00.000000000",
          "2023-04-23T00:00:00.000000000",
          "2023-04-09T00:00:00.000000000",
          "2023-03-26T00:00:00.000000000",
          "2023-03-12T00:00:00.000000000",
          "2023-02-26T00:00:00.000000000",
          "2023-02-12T00:00:00.000000000",
          "2023-01-29T00:00:00.000000000",
          "2023-01-15T00:00:00.000000000",
          "2023-01-01T00:00:00.000000000",
          "2022-12-18T00:00:00.000000000",
          "2022-12-04T00:00:00.000000000",
          "2022-11-20T00:00:00.000000000",
          "2022-10-31T00:00:00.000000000",
          "2022-09-25T00:00:00.000000000",
          "2022-09-10T00:00:00.000000000",
          "2022-08-15T00:00:00.000000000",
          "2022-07-31T00:00:00.000000000",
          "2022-07-17T00:00:00.000000000",
          "2022-07-05T00:00:00.000000000",
          "2022-06-19T00:00:00.000000000",
          "2022-06-05T00:00:00.000000000",
          "2022-05-07T00:00:00.000000000",
          "2022-04-24T00:00:00.000000000",
          "2022-04-11T00:00:00.000000000",
          "2022-03-27T00:00:00.000000000",
          "2022-03-13T00:00:00.000000000",
          "2022-02-27T00:00:00.000000000",
          "2022-02-13T00:00:00.000000000",
          "2022-01-16T00:00:00.000000000",
          "2022-01-02T00:00:00.000000000",
          "2021-12-19T00:00:00.000000000",
          "2021-12-05T00:00:00.000000000",
          "2021-11-21T00:00:00.000000000",
          "2021-10-01T00:00:00.000000000",
          "2021-09-16T00:00:00.000000000",
          "2021-09-13T00:00:00.000000000",
          "2021-08-24T00:00:00.000000000",
          "2021-08-06T00:00:00.000000000",
          "2021-07-22T00:00:00.000000000",
          "2021-07-08T00:00:00.000000000",
          "2021-06-24T00:00:00.000000000",
          "2021-06-11T00:00:00.000000000",
          "2021-05-28T00:00:00.000000000",
          "2021-05-13T00:00:00.000000000",
          "2021-05-03T00:00:00.000000000",
          "2021-04-14T00:00:00.000000000",
          "2021-03-31T00:00:00.000000000",
          "2021-03-17T00:00:00.000000000",
          "2021-02-25T00:00:00.000000000",
          "2021-02-11T00:00:00.000000000",
          "2021-01-22T00:00:00.000000000",
          "2021-01-07T00:00:00.000000000",
          "2020-12-30T00:00:00.000000000",
          "2020-12-10T00:00:00.000000000",
          "2020-11-26T00:00:00.000000000",
          "2020-11-14T00:00:00.000000000",
          "2020-09-18T00:00:00.000000000",
          "2020-09-04T00:00:00.000000000",
          "2020-08-21T00:00:00.000000000",
          "2020-08-08T00:00:00.000000000",
          "2020-08-01T00:00:00.000000000",
          "2020-07-25T00:00:00.000000000",
          "2020-07-18T00:00:00.000000000",
          "2020-07-11T00:00:00.000000000",
          "2020-07-04T00:00:00.000000000",
          "2020-06-27T00:00:00.000000000",
          "2020-06-20T00:00:00.000000000",
          "2020-06-13T00:00:00.000000000",
          "2020-06-06T00:00:00.000000000",
          "2020-05-30T00:00:00.000000000",
          "2020-05-23T00:00:00.000000000",
          "2020-05-16T00:00:00.000000000",
          "2020-05-09T00:00:00.000000000",
          "2020-05-02T00:00:00.000000000",
          "2020-04-25T00:00:00.000000000",
          "2020-04-18T00:00:00.000000000",
          "2020-04-11T00:00:00.000000000",
          "2020-03-21T00:00:00.000000000",
          "2020-02-29T00:00:00.000000000",
          "2020-02-08T00:00:00.000000000",
          "2020-01-04T00:00:00.000000000",
          "2019-12-21T00:00:00.000000000",
          "2019-11-30T00:00:00.000000000",
          "2019-10-26T00:00:00.000000000",
          "2019-09-30T00:00:00.000000000",
          "2019-09-21T00:00:00.000000000",
          "2019-08-31T00:00:00.000000000",
          "2019-08-03T00:00:00.000000000",
          "2019-06-01T00:00:00.000000000",
          "2019-05-04T00:00:00.000000000"
         ],
         "xaxis": "x",
         "y": {
          "bdata": "kJkAALiEAAB3eQAA1HYAAFd1AAAQcAAAvmwAAIRkAABeWAAAaEsAACI6AADdOAAA8DcAANQ3AAD5NgAATjYAAPk0AADENAAAijQAAMQzAAAfMgAAKTIAAL8wAABtMAAAMDAAADMvAAAbLgAAoy0AAOAsAAAXLAAA5SsAAMsqAAB/KgAAdioAAJQoAAAeKAAAcicAAMomAADvJgAAvCQAAMMkAACYJQAAryYAAKAoAAAcKAAA0iUAAHslAAAFJAAA2iQAANckAABcJgAAMSYAADElAADXJAAAmCMAAL4hAABoIAAAhR8AALAfAADoHwAAGiAAAP8fAAAHIAAAuR0AAIAcAAAqGwAAnxkAAMsYAACYFwAAWxcAAKMWAAAWFQAAwxQAAFwUAADEEwAAjxMAABkTAAAvEwAAcRIAADISAAAVEgAAmhIAAGYSAACEEwAADxIAALkRAADtEQAAyxEAAMQRAAD8EQAAPBIAAP0RAAA7EgAA2RIAABMTAAC6FAAAjxYAAN8aAACfIAAAzSQAAJcmAADWKQAAJSoAAAMrAADdKwAA7ywAAHg0AADFNAAAHTUAAH00AACBNAAAvTQAAO8zAAAvNAAAFDQAAKw0AABJNQAAWjYAAC03AAADOAAA1TgAALg5AAAtPAAAPD0AAO89AAArPwAA6kEAADVLAADRSQAA90gAAD1GAADfRQAAekcAACpJAADBSQAA+kYAALVGAAAkSAAAdEoAAF1MAAA=",
          "dtype": "i4"
         },
         "yaxis": "y"
        },
        {
         "hovertemplate": "category=cbp_all<br>date=%{x}<br>count=%{y}<extra></extra>",
         "legendgroup": "cbp_all",
         "line": {
          "color": "rgb(204, 102, 119)",
          "dash": "solid"
         },
         "marker": {
          "symbol": "circle"
         },
         "mode": "lines",
         "name": "cbp_all",
         "orientation": "v",
         "showlegend": true,
         "type": "scatter",
         "x": [
          "2025-06-15T00:00:00.000000000",
          "2025-06-01T00:00:00.000000000",
          "2025-05-18T00:00:00.000000000",
          "2025-05-04T00:00:00.000000000",
          "2025-04-20T00:00:00.000000000",
          "2025-04-06T00:00:00.000000000",
          "2025-03-23T00:00:00.000000000",
          "2025-03-09T00:00:00.000000000",
          "2025-02-23T00:00:00.000000000",
          "2025-02-09T00:00:00.000000000",
          "2025-01-26T00:00:00.000000000",
          "2025-01-12T00:00:00.000000000",
          "2024-12-29T00:00:00.000000000",
          "2024-12-15T00:00:00.000000000",
          "2024-12-01T00:00:00.000000000",
          "2024-11-03T00:00:00.000000000",
          "2024-09-08T00:00:00.000000000",
          "2024-08-25T00:00:00.000000000",
          "2024-08-11T00:00:00.000000000",
          "2024-07-14T00:00:00.000000000",
          "2024-06-30T00:00:00.000000000",
          "2024-06-16T00:00:00.000000000",
          "2024-06-02T00:00:00.000000000",
          "2024-05-19T00:00:00.000000000",
          "2024-05-05T00:00:00.000000000",
          "2024-04-21T00:00:00.000000000",
          "2024-04-07T00:00:00.000000000",
          "2024-03-24T00:00:00.000000000",
          "2024-03-10T00:00:00.000000000",
          "2024-02-25T00:00:00.000000000",
          "2024-02-11T00:00:00.000000000",
          "2024-01-28T00:00:00.000000000",
          "2024-01-13T00:00:00.000000000",
          "2023-12-31T00:00:00.000000000",
          "2023-12-17T00:00:00.000000000",
          "2023-12-03T00:00:00.000000000",
          "2023-11-19T00:00:00.000000000",
          "2023-11-05T00:00:00.000000000",
          "2023-10-03T00:00:00.000000000",
          "2023-09-24T00:00:00.000000000",
          "2023-09-10T00:00:00.000000000",
          "2023-08-27T00:00:00.000000000",
          "2023-08-13T00:00:00.000000000",
          "2023-07-30T00:00:00.000000000",
          "2023-07-16T00:00:00.000000000",
          "2023-07-02T00:00:00.000000000",
          "2023-06-18T00:00:00.000000000",
          "2023-06-04T00:00:00.000000000",
          "2023-05-21T00:00:00.000000000",
          "2023-05-07T00:00:00.000000000",
          "2023-04-23T00:00:00.000000000",
          "2023-04-09T00:00:00.000000000",
          "2023-03-26T00:00:00.000000000",
          "2023-03-12T00:00:00.000000000",
          "2023-02-26T00:00:00.000000000",
          "2023-02-12T00:00:00.000000000",
          "2023-01-29T00:00:00.000000000",
          "2023-01-15T00:00:00.000000000",
          "2023-01-01T00:00:00.000000000",
          "2022-12-18T00:00:00.000000000",
          "2022-12-04T00:00:00.000000000",
          "2022-11-20T00:00:00.000000000",
          "2022-10-31T00:00:00.000000000",
          "2022-09-25T00:00:00.000000000",
          "2022-09-10T00:00:00.000000000",
          "2022-08-15T00:00:00.000000000",
          "2022-07-31T00:00:00.000000000",
          "2022-07-17T00:00:00.000000000",
          "2022-07-05T00:00:00.000000000",
          "2022-06-19T00:00:00.000000000",
          "2022-06-05T00:00:00.000000000",
          "2022-05-07T00:00:00.000000000",
          "2022-04-24T00:00:00.000000000",
          "2022-04-11T00:00:00.000000000",
          "2022-03-27T00:00:00.000000000",
          "2022-03-13T00:00:00.000000000",
          "2022-02-27T00:00:00.000000000",
          "2022-02-13T00:00:00.000000000",
          "2022-01-16T00:00:00.000000000",
          "2022-01-02T00:00:00.000000000",
          "2021-12-19T00:00:00.000000000",
          "2021-12-05T00:00:00.000000000",
          "2021-11-21T00:00:00.000000000",
          "2021-10-01T00:00:00.000000000",
          "2021-09-16T00:00:00.000000000",
          "2021-09-13T00:00:00.000000000",
          "2021-08-24T00:00:00.000000000",
          "2021-08-06T00:00:00.000000000",
          "2021-07-22T00:00:00.000000000",
          "2021-07-08T00:00:00.000000000",
          "2021-06-24T00:00:00.000000000",
          "2021-06-11T00:00:00.000000000",
          "2021-05-28T00:00:00.000000000",
          "2021-05-13T00:00:00.000000000",
          "2021-05-03T00:00:00.000000000",
          "2021-04-14T00:00:00.000000000",
          "2021-03-31T00:00:00.000000000",
          "2021-03-17T00:00:00.000000000",
          "2021-02-25T00:00:00.000000000",
          "2021-02-11T00:00:00.000000000",
          "2021-01-22T00:00:00.000000000",
          "2021-01-07T00:00:00.000000000",
          "2020-12-30T00:00:00.000000000",
          "2020-12-10T00:00:00.000000000",
          "2020-11-26T00:00:00.000000000",
          "2020-11-14T00:00:00.000000000",
          "2020-09-18T00:00:00.000000000",
          "2020-09-04T00:00:00.000000000",
          "2020-08-21T00:00:00.000000000",
          "2020-08-08T00:00:00.000000000",
          "2020-08-01T00:00:00.000000000",
          "2020-07-25T00:00:00.000000000",
          "2020-07-18T00:00:00.000000000",
          "2020-07-11T00:00:00.000000000",
          "2020-07-04T00:00:00.000000000",
          "2020-06-27T00:00:00.000000000",
          "2020-06-20T00:00:00.000000000",
          "2020-06-13T00:00:00.000000000",
          "2020-06-06T00:00:00.000000000",
          "2020-05-30T00:00:00.000000000",
          "2020-05-23T00:00:00.000000000",
          "2020-05-16T00:00:00.000000000",
          "2020-05-09T00:00:00.000000000",
          "2020-05-02T00:00:00.000000000",
          "2020-04-25T00:00:00.000000000",
          "2020-04-18T00:00:00.000000000",
          "2020-04-11T00:00:00.000000000",
          "2020-03-21T00:00:00.000000000",
          "2020-02-29T00:00:00.000000000",
          "2020-02-08T00:00:00.000000000",
          "2020-01-04T00:00:00.000000000",
          "2019-12-21T00:00:00.000000000",
          "2019-11-30T00:00:00.000000000",
          "2019-10-26T00:00:00.000000000",
          "2019-09-30T00:00:00.000000000",
          "2019-09-21T00:00:00.000000000",
          "2019-08-31T00:00:00.000000000",
          "2019-08-03T00:00:00.000000000",
          "2019-06-01T00:00:00.000000000",
          "2019-05-04T00:00:00.000000000"
         ],
         "xaxis": "x",
         "y": {
          "bdata": "vUIAAK5DAABvRQAAmUgAAMlKAAAoSwAAVk4AADlQAACRUgAAaVUAACRfAAA6YgAAAGEAADJeAABPYAAAgWEAABpdAAC7WAAAXFkAAMhcAABmYAAAVGQAADFhAABuXgAAy14AABJXAAD5WAAAoGIAAOdrAADwbAAAjWkAAJdrAAAXaQAAlWYAABNlAAB1ZwAA83AAAHp0AAD+aAAAHWUAAEJmAABPWgAAOU8AAEZOAAA8UQAAYU8AADJOAADVUAAA6EUAAFYuAAAUOwAAaD4AAOFDAAB0RwAA6kUAAGxFAAACPgAAFzIAAGowAAAsOgAASFEAADJVAAAZVQAAdUQAADBIAAAVQwAAv0EAAJtAAADcQgAAA0QAAGxJAADzQQAAazcAAEI1AAA5PQAAIzsAACczAAC9OgAAJT8AAAJEAAB6PgAAJkMAAEBFAADtQgAAL0IAAC1IAABdUAAA61EAAM9WAABVWAAAMlQAAJJNAADUQQAAiDcAAD4qAABmJgAAyx8AAAUcAAArEwAAQhIAANwQAAB+EgAA0REAAJkSAADuEgAACxQAALoZAABEGwAA8hwAAAEeAACpHwAAvyAAAI8iAAAVIwAAHyQAAGkkAAA8JgAAjycAAFwpAABKKwAAYiwAAGwuAADXMAAAhTMAAPw1AADmOAAASzwAAHVJAAC4TAAAB1EAAGJcAADuXQAAwmcAAOF3AAApfQAAbIEAAA2IAABCkQAAfYIAAJB1AAA=",
          "dtype": "i4"
         },
         "yaxis": "y"
        },
        {
         "hovertemplate": "category=total_all<br>date=%{x}<br>count=%{y}<extra></extra>",
         "legendgroup": "total_all",
         "line": {
          "color": "rgb(221, 204, 119)",
          "dash": "solid"
         },
         "marker": {
          "symbol": "circle"
         },
         "mode": "lines",
         "name": "total_all",
         "orientation": "v",
         "showlegend": true,
         "type": "scatter",
         "x": [
          "2025-06-15T00:00:00.000000000",
          "2025-06-01T00:00:00.000000000",
          "2025-05-18T00:00:00.000000000",
          "2025-05-04T00:00:00.000000000",
          "2025-04-20T00:00:00.000000000",
          "2025-04-06T00:00:00.000000000",
          "2025-03-23T00:00:00.000000000",
          "2025-03-09T00:00:00.000000000",
          "2025-02-23T00:00:00.000000000",
          "2025-02-09T00:00:00.000000000",
          "2025-01-26T00:00:00.000000000",
          "2025-01-12T00:00:00.000000000",
          "2024-12-29T00:00:00.000000000",
          "2024-12-15T00:00:00.000000000",
          "2024-12-01T00:00:00.000000000",
          "2024-11-03T00:00:00.000000000",
          "2024-09-08T00:00:00.000000000",
          "2024-08-25T00:00:00.000000000",
          "2024-08-11T00:00:00.000000000",
          "2024-07-14T00:00:00.000000000",
          "2024-06-30T00:00:00.000000000",
          "2024-06-16T00:00:00.000000000",
          "2024-06-02T00:00:00.000000000",
          "2024-05-19T00:00:00.000000000",
          "2024-05-05T00:00:00.000000000",
          "2024-04-21T00:00:00.000000000",
          "2024-04-07T00:00:00.000000000",
          "2024-03-24T00:00:00.000000000",
          "2024-03-10T00:00:00.000000000",
          "2024-02-25T00:00:00.000000000",
          "2024-02-11T00:00:00.000000000",
          "2024-01-28T00:00:00.000000000",
          "2024-01-13T00:00:00.000000000",
          "2023-12-31T00:00:00.000000000",
          "2023-12-17T00:00:00.000000000",
          "2023-12-03T00:00:00.000000000",
          "2023-11-19T00:00:00.000000000",
          "2023-11-05T00:00:00.000000000",
          "2023-10-03T00:00:00.000000000",
          "2023-09-24T00:00:00.000000000",
          "2023-09-10T00:00:00.000000000",
          "2023-08-27T00:00:00.000000000",
          "2023-08-13T00:00:00.000000000",
          "2023-07-30T00:00:00.000000000",
          "2023-07-16T00:00:00.000000000",
          "2023-07-02T00:00:00.000000000",
          "2023-06-18T00:00:00.000000000",
          "2023-06-04T00:00:00.000000000",
          "2023-05-21T00:00:00.000000000",
          "2023-05-07T00:00:00.000000000",
          "2023-04-23T00:00:00.000000000",
          "2023-04-09T00:00:00.000000000",
          "2023-03-26T00:00:00.000000000",
          "2023-03-12T00:00:00.000000000",
          "2023-02-26T00:00:00.000000000",
          "2023-02-12T00:00:00.000000000",
          "2023-01-29T00:00:00.000000000",
          "2023-01-15T00:00:00.000000000",
          "2023-01-01T00:00:00.000000000",
          "2022-12-18T00:00:00.000000000",
          "2022-12-04T00:00:00.000000000",
          "2022-11-20T00:00:00.000000000",
          "2022-10-31T00:00:00.000000000",
          "2022-09-25T00:00:00.000000000",
          "2022-09-10T00:00:00.000000000",
          "2022-08-15T00:00:00.000000000",
          "2022-07-31T00:00:00.000000000",
          "2022-07-17T00:00:00.000000000",
          "2022-07-05T00:00:00.000000000",
          "2022-06-19T00:00:00.000000000",
          "2022-06-05T00:00:00.000000000",
          "2022-05-07T00:00:00.000000000",
          "2022-04-24T00:00:00.000000000",
          "2022-04-11T00:00:00.000000000",
          "2022-03-27T00:00:00.000000000",
          "2022-03-13T00:00:00.000000000",
          "2022-02-27T00:00:00.000000000",
          "2022-02-13T00:00:00.000000000",
          "2022-01-16T00:00:00.000000000",
          "2022-01-02T00:00:00.000000000",
          "2021-12-19T00:00:00.000000000",
          "2021-12-05T00:00:00.000000000",
          "2021-11-21T00:00:00.000000000",
          "2021-10-01T00:00:00.000000000",
          "2021-09-16T00:00:00.000000000",
          "2021-09-13T00:00:00.000000000",
          "2021-08-24T00:00:00.000000000",
          "2021-08-06T00:00:00.000000000",
          "2021-07-22T00:00:00.000000000",
          "2021-07-08T00:00:00.000000000",
          "2021-06-24T00:00:00.000000000",
          "2021-06-11T00:00:00.000000000",
          "2021-05-28T00:00:00.000000000",
          "2021-05-13T00:00:00.000000000",
          "2021-05-03T00:00:00.000000000",
          "2021-04-14T00:00:00.000000000",
          "2021-03-31T00:00:00.000000000",
          "2021-03-17T00:00:00.000000000",
          "2021-02-25T00:00:00.000000000",
          "2021-02-11T00:00:00.000000000",
          "2021-01-22T00:00:00.000000000",
          "2021-01-07T00:00:00.000000000",
          "2020-12-30T00:00:00.000000000",
          "2020-12-10T00:00:00.000000000",
          "2020-11-26T00:00:00.000000000",
          "2020-11-14T00:00:00.000000000",
          "2020-09-18T00:00:00.000000000",
          "2020-09-04T00:00:00.000000000",
          "2020-08-21T00:00:00.000000000",
          "2020-08-08T00:00:00.000000000",
          "2020-08-01T00:00:00.000000000",
          "2020-07-25T00:00:00.000000000",
          "2020-07-18T00:00:00.000000000",
          "2020-07-11T00:00:00.000000000",
          "2020-07-04T00:00:00.000000000",
          "2020-06-27T00:00:00.000000000",
          "2020-06-20T00:00:00.000000000",
          "2020-06-13T00:00:00.000000000",
          "2020-06-06T00:00:00.000000000",
          "2020-05-30T00:00:00.000000000",
          "2020-05-23T00:00:00.000000000",
          "2020-05-16T00:00:00.000000000",
          "2020-05-09T00:00:00.000000000",
          "2020-05-02T00:00:00.000000000",
          "2020-04-25T00:00:00.000000000",
          "2020-04-18T00:00:00.000000000",
          "2020-04-11T00:00:00.000000000",
          "2020-03-21T00:00:00.000000000",
          "2020-02-29T00:00:00.000000000",
          "2020-02-08T00:00:00.000000000",
          "2020-01-04T00:00:00.000000000",
          "2019-12-21T00:00:00.000000000",
          "2019-11-30T00:00:00.000000000",
          "2019-10-26T00:00:00.000000000",
          "2019-09-30T00:00:00.000000000",
          "2019-09-21T00:00:00.000000000",
          "2019-08-31T00:00:00.000000000",
          "2019-08-03T00:00:00.000000000",
          "2019-06-01T00:00:00.000000000",
          "2019-05-04T00:00:00.000000000"
         ],
         "xaxis": "x",
         "y": {
          "bdata": "TdwAAGbIAADmvgAAbb8AACDAAAA4uwAAFLsAAL20AADvqgAA0aAAAEaZAAAXmwAA8JgAAAaWAABIlwAAz5cAABOSAAB/jQAA5o0AAIyQAACFkgAAfZYAAPCRAADbjgAA+44AAEWGAAAUhwAAQ5AAAMeYAAAHmQAAcpUAAGKWAACWkwAAC5EAAKeNAACTjwAAZZgAAESbAADtjwAA2YkAAAWLAADnfwAA6HUAAOZ2AABYeQAAM3UAAK1zAADadAAAwmoAAC1TAABwYQAAmWQAABJpAABLbAAAgmkAACpnAABqXgAAnFEAABpQAAAUWgAAYnEAADF1AAAgdQAALmIAALBkAAA/XgAAXlsAAGZZAAB0WgAAXlsAAA9gAAAJVwAALkwAAJ5JAAD9UAAAsk4AAEBGAADsTQAAllEAADRWAACPUAAAwFUAAKZXAABxVgAAPlQAAOZZAABKYgAAtmMAAJNoAABRagAAbmYAAI9fAAAPVAAAYUoAAFE9AAAgOwAAWjYAAOQ2AADKMwAADzcAAHM3AABUPAAA9jsAAJw9AADLPgAA+kAAADJOAAAJUAAAD1IAAH5SAAAqVAAAfFUAAH5WAABEVwAAM1gAABVZAACFWwAA6V0AAIlgAABNYwAAN2UAACRoAAAEbQAAwXAAAOtzAAAReAAANX4AAKqUAACJlgAA/pkAAJ+iAADNowAAPK8AAAvBAADqxgAAZsgAAMLOAABm2QAA8cwAAO3BAAA=",
          "dtype": "i4"
         },
         "yaxis": "y"
        }
       ],
       "layout": {
        "legend": {
         "title": {
          "text": "category"
         },
         "tracegroupgap": 0
        },
        "template": {
         "data": {
          "bar": [
           {
            "error_x": {
             "color": "#2a3f5f"
            },
            "error_y": {
             "color": "#2a3f5f"
            },
            "marker": {
             "line": {
              "color": "#E5ECF6",
              "width": 0.5
             },
             "pattern": {
              "fillmode": "overlay",
              "size": 10,
              "solidity": 0.2
             }
            },
            "type": "bar"
           }
          ],
          "barpolar": [
           {
            "marker": {
             "line": {
              "color": "#E5ECF6",
              "width": 0.5
             },
             "pattern": {
              "fillmode": "overlay",
              "size": 10,
              "solidity": 0.2
             }
            },
            "type": "barpolar"
           }
          ],
          "carpet": [
           {
            "aaxis": {
             "endlinecolor": "#2a3f5f",
             "gridcolor": "white",
             "linecolor": "white",
             "minorgridcolor": "white",
             "startlinecolor": "#2a3f5f"
            },
            "baxis": {
             "endlinecolor": "#2a3f5f",
             "gridcolor": "white",
             "linecolor": "white",
             "minorgridcolor": "white",
             "startlinecolor": "#2a3f5f"
            },
            "type": "carpet"
           }
          ],
          "choropleth": [
           {
            "colorbar": {
             "outlinewidth": 0,
             "ticks": ""
            },
            "type": "choropleth"
           }
          ],
          "contour": [
           {
            "colorbar": {
             "outlinewidth": 0,
             "ticks": ""
            },
            "colorscale": [
             [
              0,
              "#0d0887"
             ],
             [
              0.1111111111111111,
              "#46039f"
             ],
             [
              0.2222222222222222,
              "#7201a8"
             ],
             [
              0.3333333333333333,
              "#9c179e"
             ],
             [
              0.4444444444444444,
              "#bd3786"
             ],
             [
              0.5555555555555556,
              "#d8576b"
             ],
             [
              0.6666666666666666,
              "#ed7953"
             ],
             [
              0.7777777777777778,
              "#fb9f3a"
             ],
             [
              0.8888888888888888,
              "#fdca26"
             ],
             [
              1,
              "#f0f921"
             ]
            ],
            "type": "contour"
           }
          ],
          "contourcarpet": [
           {
            "colorbar": {
             "outlinewidth": 0,
             "ticks": ""
            },
            "type": "contourcarpet"
           }
          ],
          "heatmap": [
           {
            "colorbar": {
             "outlinewidth": 0,
             "ticks": ""
            },
            "colorscale": [
             [
              0,
              "#0d0887"
             ],
             [
              0.1111111111111111,
              "#46039f"
             ],
             [
              0.2222222222222222,
              "#7201a8"
             ],
             [
              0.3333333333333333,
              "#9c179e"
             ],
             [
              0.4444444444444444,
              "#bd3786"
             ],
             [
              0.5555555555555556,
              "#d8576b"
             ],
             [
              0.6666666666666666,
              "#ed7953"
             ],
             [
              0.7777777777777778,
              "#fb9f3a"
             ],
             [
              0.8888888888888888,
              "#fdca26"
             ],
             [
              1,
              "#f0f921"
             ]
            ],
            "type": "heatmap"
           }
          ],
          "histogram": [
           {
            "marker": {
             "pattern": {
              "fillmode": "overlay",
              "size": 10,
              "solidity": 0.2
             }
            },
            "type": "histogram"
           }
          ],
          "histogram2d": [
           {
            "colorbar": {
             "outlinewidth": 0,
             "ticks": ""
            },
            "colorscale": [
             [
              0,
              "#0d0887"
             ],
             [
              0.1111111111111111,
              "#46039f"
             ],
             [
              0.2222222222222222,
              "#7201a8"
             ],
             [
              0.3333333333333333,
              "#9c179e"
             ],
             [
              0.4444444444444444,
              "#bd3786"
             ],
             [
              0.5555555555555556,
              "#d8576b"
             ],
             [
              0.6666666666666666,
              "#ed7953"
             ],
             [
              0.7777777777777778,
              "#fb9f3a"
             ],
             [
              0.8888888888888888,
              "#fdca26"
             ],
             [
              1,
              "#f0f921"
             ]
            ],
            "type": "histogram2d"
           }
          ],
          "histogram2dcontour": [
           {
            "colorbar": {
             "outlinewidth": 0,
             "ticks": ""
            },
            "colorscale": [
             [
              0,
              "#0d0887"
             ],
             [
              0.1111111111111111,
              "#46039f"
             ],
             [
              0.2222222222222222,
              "#7201a8"
             ],
             [
              0.3333333333333333,
              "#9c179e"
             ],
             [
              0.4444444444444444,
              "#bd3786"
             ],
             [
              0.5555555555555556,
              "#d8576b"
             ],
             [
              0.6666666666666666,
              "#ed7953"
             ],
             [
              0.7777777777777778,
              "#fb9f3a"
             ],
             [
              0.8888888888888888,
              "#fdca26"
             ],
             [
              1,
              "#f0f921"
             ]
            ],
            "type": "histogram2dcontour"
           }
          ],
          "mesh3d": [
           {
            "colorbar": {
             "outlinewidth": 0,
             "ticks": ""
            },
            "type": "mesh3d"
           }
          ],
          "parcoords": [
           {
            "line": {
             "colorbar": {
              "outlinewidth": 0,
              "ticks": ""
             }
            },
            "type": "parcoords"
           }
          ],
          "pie": [
           {
            "automargin": true,
            "type": "pie"
           }
          ],
          "scatter": [
           {
            "fillpattern": {
             "fillmode": "overlay",
             "size": 10,
             "solidity": 0.2
            },
            "type": "scatter"
           }
          ],
          "scatter3d": [
           {
            "line": {
             "colorbar": {
              "outlinewidth": 0,
              "ticks": ""
             }
            },
            "marker": {
             "colorbar": {
              "outlinewidth": 0,
              "ticks": ""
             }
            },
            "type": "scatter3d"
           }
          ],
          "scattercarpet": [
           {
            "marker": {
             "colorbar": {
              "outlinewidth": 0,
              "ticks": ""
             }
            },
            "type": "scattercarpet"
           }
          ],
          "scattergeo": [
           {
            "marker": {
             "colorbar": {
              "outlinewidth": 0,
              "ticks": ""
             }
            },
            "type": "scattergeo"
           }
          ],
          "scattergl": [
           {
            "marker": {
             "colorbar": {
              "outlinewidth": 0,
              "ticks": ""
             }
            },
            "type": "scattergl"
           }
          ],
          "scattermap": [
           {
            "marker": {
             "colorbar": {
              "outlinewidth": 0,
              "ticks": ""
             }
            },
            "type": "scattermap"
           }
          ],
          "scattermapbox": [
           {
            "marker": {
             "colorbar": {
              "outlinewidth": 0,
              "ticks": ""
             }
            },
            "type": "scattermapbox"
           }
          ],
          "scatterpolar": [
           {
            "marker": {
             "colorbar": {
              "outlinewidth": 0,
              "ticks": ""
             }
            },
            "type": "scatterpolar"
           }
          ],
          "scatterpolargl": [
           {
            "marker": {
             "colorbar": {
              "outlinewidth": 0,
              "ticks": ""
             }
            },
            "type": "scatterpolargl"
           }
          ],
          "scatterternary": [
           {
            "marker": {
             "colorbar": {
              "outlinewidth": 0,
              "ticks": ""
             }
            },
            "type": "scatterternary"
           }
          ],
          "surface": [
           {
            "colorbar": {
             "outlinewidth": 0,
             "ticks": ""
            },
            "colorscale": [
             [
              0,
              "#0d0887"
             ],
             [
              0.1111111111111111,
              "#46039f"
             ],
             [
              0.2222222222222222,
              "#7201a8"
             ],
             [
              0.3333333333333333,
              "#9c179e"
             ],
             [
              0.4444444444444444,
              "#bd3786"
             ],
             [
              0.5555555555555556,
              "#d8576b"
             ],
             [
              0.6666666666666666,
              "#ed7953"
             ],
             [
              0.7777777777777778,
              "#fb9f3a"
             ],
             [
              0.8888888888888888,
              "#fdca26"
             ],
             [
              1,
              "#f0f921"
             ]
            ],
            "type": "surface"
           }
          ],
          "table": [
           {
            "cells": {
             "fill": {
              "color": "#EBF0F8"
             },
             "line": {
              "color": "white"
             }
            },
            "header": {
             "fill": {
              "color": "#C8D4E3"
             },
             "line": {
              "color": "white"
             }
            },
            "type": "table"
           }
          ]
         },
         "layout": {
          "annotationdefaults": {
           "arrowcolor": "#2a3f5f",
           "arrowhead": 0,
           "arrowwidth": 1
          },
          "autotypenumbers": "strict",
          "coloraxis": {
           "colorbar": {
            "outlinewidth": 0,
            "ticks": ""
           }
          },
          "colorscale": {
           "diverging": [
            [
             0,
             "#8e0152"
            ],
            [
             0.1,
             "#c51b7d"
            ],
            [
             0.2,
             "#de77ae"
            ],
            [
             0.3,
             "#f1b6da"
            ],
            [
             0.4,
             "#fde0ef"
            ],
            [
             0.5,
             "#f7f7f7"
            ],
            [
             0.6,
             "#e6f5d0"
            ],
            [
             0.7,
             "#b8e186"
            ],
            [
             0.8,
             "#7fbc41"
            ],
            [
             0.9,
             "#4d9221"
            ],
            [
             1,
             "#276419"
            ]
           ],
           "sequential": [
            [
             0,
             "#0d0887"
            ],
            [
             0.1111111111111111,
             "#46039f"
            ],
            [
             0.2222222222222222,
             "#7201a8"
            ],
            [
             0.3333333333333333,
             "#9c179e"
            ],
            [
             0.4444444444444444,
             "#bd3786"
            ],
            [
             0.5555555555555556,
             "#d8576b"
            ],
            [
             0.6666666666666666,
             "#ed7953"
            ],
            [
             0.7777777777777778,
             "#fb9f3a"
            ],
            [
             0.8888888888888888,
             "#fdca26"
            ],
            [
             1,
             "#f0f921"
            ]
           ],
           "sequentialminus": [
            [
             0,
             "#0d0887"
            ],
            [
             0.1111111111111111,
             "#46039f"
            ],
            [
             0.2222222222222222,
             "#7201a8"
            ],
            [
             0.3333333333333333,
             "#9c179e"
            ],
            [
             0.4444444444444444,
             "#bd3786"
            ],
            [
             0.5555555555555556,
             "#d8576b"
            ],
            [
             0.6666666666666666,
             "#ed7953"
            ],
            [
             0.7777777777777778,
             "#fb9f3a"
            ],
            [
             0.8888888888888888,
             "#fdca26"
            ],
            [
             1,
             "#f0f921"
            ]
           ]
          },
          "colorway": [
           "#636efa",
           "#EF553B",
           "#00cc96",
           "#ab63fa",
           "#FFA15A",
           "#19d3f3",
           "#FF6692",
           "#B6E880",
           "#FF97FF",
           "#FECB52"
          ],
          "font": {
           "color": "#2a3f5f"
          },
          "geo": {
           "bgcolor": "white",
           "lakecolor": "white",
           "landcolor": "#E5ECF6",
           "showlakes": true,
           "showland": true,
           "subunitcolor": "white"
          },
          "hoverlabel": {
           "align": "left"
          },
          "hovermode": "closest",
          "mapbox": {
           "style": "light"
          },
          "paper_bgcolor": "white",
          "plot_bgcolor": "#E5ECF6",
          "polar": {
           "angularaxis": {
            "gridcolor": "white",
            "linecolor": "white",
            "ticks": ""
           },
           "bgcolor": "#E5ECF6",
           "radialaxis": {
            "gridcolor": "white",
            "linecolor": "white",
            "ticks": ""
           }
          },
          "scene": {
           "xaxis": {
            "backgroundcolor": "#E5ECF6",
            "gridcolor": "white",
            "gridwidth": 2,
            "linecolor": "white",
            "showbackground": true,
            "ticks": "",
            "zerolinecolor": "white"
           },
           "yaxis": {
            "backgroundcolor": "#E5ECF6",
            "gridcolor": "white",
            "gridwidth": 2,
            "linecolor": "white",
            "showbackground": true,
            "ticks": "",
            "zerolinecolor": "white"
           },
           "zaxis": {
            "backgroundcolor": "#E5ECF6",
            "gridcolor": "white",
            "gridwidth": 2,
            "linecolor": "white",
            "showbackground": true,
            "ticks": "",
            "zerolinecolor": "white"
           }
          },
          "shapedefaults": {
           "line": {
            "color": "#2a3f5f"
           }
          },
          "ternary": {
           "aaxis": {
            "gridcolor": "white",
            "linecolor": "white",
            "ticks": ""
           },
           "baxis": {
            "gridcolor": "white",
            "linecolor": "white",
            "ticks": ""
           },
           "bgcolor": "#E5ECF6",
           "caxis": {
            "gridcolor": "white",
            "linecolor": "white",
            "ticks": ""
           }
          },
          "title": {
           "x": 0.05
          },
          "xaxis": {
           "automargin": true,
           "gridcolor": "white",
           "linecolor": "white",
           "ticks": "",
           "title": {
            "standoff": 15
           },
           "zerolinecolor": "white",
           "zerolinewidth": 2
          },
          "yaxis": {
           "automargin": true,
           "gridcolor": "white",
           "linecolor": "white",
           "ticks": "",
           "title": {
            "standoff": 15
           },
           "zerolinecolor": "white",
           "zerolinewidth": 2
          }
         }
        },
        "title": {
         "text": "ICE Detainee Counts Over Time"
        },
        "xaxis": {
         "anchor": "y",
         "domain": [
          0,
          1
         ],
         "title": {
          "text": "date"
         }
        },
        "yaxis": {
         "anchor": "x",
         "domain": [
          0,
          1
         ],
         "title": {
          "text": "count"
         }
        }
       }
      }
     },
     "metadata": {},
     "output_type": "display_data"
    }
   ],
   "source": [
    "# Create the line chart\n",
    "fig = px.line(\n",
    "    df_melted,\n",
    "    x=\"date\",\n",
    "    y=\"count\",\n",
    "    color=\"category\",\n",
    "    color_discrete_sequence=px.colors.qualitative.Safe,\n",
    "    title=\"ICE Detainee Counts Over Time\",\n",
    ")\n",
    "\n",
    "fig.show()"
   ]
  }
 ],
 "metadata": {
  "kernelspec": {
   "display_name": ".venv",
   "language": "python",
   "name": "python3"
  },
  "language_info": {
   "codemirror_mode": {
    "name": "ipython",
    "version": 3
   },
   "file_extension": ".py",
   "mimetype": "text/x-python",
   "name": "python",
   "nbconvert_exporter": "python",
   "pygments_lexer": "ipython3",
   "version": "3.12.7"
  }
 },
 "nbformat": 4,
 "nbformat_minor": 5
}
