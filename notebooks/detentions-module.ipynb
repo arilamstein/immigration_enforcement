{
 "cells": [
  {
   "cell_type": "markdown",
   "id": "cc1dae95",
   "metadata": {},
   "source": [
    "# Documentation for `detentions` Module\n",
    "\n",
    "### 📌 Note on Graphics\n",
    "\n",
    "This notebook uses Plotly for its visualizations — I chose it for its ease of use and interactivity. However, GitHub doesn’t support the JavaScript required to render Plotly charts directly. To ensure the visuals display correctly in GitHub’s static notebook viewer, I’ve taken screenshots of the interactive charts and committed those PNG files alongside the notebook.\n",
    "\n",
    "Each graphics cell ends with:\n",
    "\n",
    "```py\n",
    "fig.show()  # Interactive when running locally\n",
    "display(Image(\"filename.png\"))  # Static fallback for GitHub viewers\n",
    "``` \n",
    "If you’re running this notebook locally, you’ll see the full interactive experience. If you’re viewing it on GitHub, you’ll see the static image instead. This approach keeps the notebook clean while ensuring the visuals are readable in all contexts.\n",
    "\n",
    "---\n",
    "\n",
    "Data on ICE Detentions is scraped from the Transaction Records Access Clearinghouse (TRAC) website. I started at their [Immigration Quickfacts](https://tracreports.org/immigration/quickfacts/) page. I found the first two graphs there (number of detainees, and percentage of detainnes with a criminal conviction) to be interesting, and wanted more information. So I clicked on the \"see more data\" button and wound up [here](https://tracreports.org/immigration/detentionstats/pop_agen_table.html). \n",
    "\n",
    "That page is a lot of tables with no graphs. The function `get_detention_data()` scraped the underlying data which powers the tables on the page:\n",
    "\n",
    "### get_detention_data"
   ]
  },
  {
   "cell_type": "code",
   "execution_count": 1,
   "id": "f1f89768",
   "metadata": {},
   "outputs": [
    {
     "data": {
      "text/html": [
       "<div>\n",
       "<style scoped>\n",
       "    .dataframe tbody tr th:only-of-type {\n",
       "        vertical-align: middle;\n",
       "    }\n",
       "\n",
       "    .dataframe tbody tr th {\n",
       "        vertical-align: top;\n",
       "    }\n",
       "\n",
       "    .dataframe thead th {\n",
       "        text-align: right;\n",
       "    }\n",
       "</style>\n",
       "<table border=\"1\" class=\"dataframe\">\n",
       "  <thead>\n",
       "    <tr style=\"text-align: right;\">\n",
       "      <th></th>\n",
       "      <th>date</th>\n",
       "      <th>ice_all</th>\n",
       "      <th>cbp_all</th>\n",
       "      <th>total_all</th>\n",
       "      <th>ice_other</th>\n",
       "      <th>cbp_other</th>\n",
       "      <th>total_other</th>\n",
       "      <th>ice_pend</th>\n",
       "      <th>cbp_pend</th>\n",
       "      <th>total_pend</th>\n",
       "      <th>ice_conv</th>\n",
       "      <th>cbp_conv</th>\n",
       "      <th>total_conv</th>\n",
       "    </tr>\n",
       "  </thead>\n",
       "  <tbody>\n",
       "    <tr>\n",
       "      <th>0</th>\n",
       "      <td>2025-09-21</td>\n",
       "      <td>46015</td>\n",
       "      <td>13747</td>\n",
       "      <td>59762</td>\n",
       "      <td>16523</td>\n",
       "      <td>11223</td>\n",
       "      <td>27746</td>\n",
       "      <td>13767</td>\n",
       "      <td>1242</td>\n",
       "      <td>15009</td>\n",
       "      <td>15725</td>\n",
       "      <td>1282</td>\n",
       "      <td>17007</td>\n",
       "    </tr>\n",
       "    <tr>\n",
       "      <th>1</th>\n",
       "      <td>2025-09-07</td>\n",
       "      <td>44844</td>\n",
       "      <td>13922</td>\n",
       "      <td>58766</td>\n",
       "      <td>15502</td>\n",
       "      <td>11228</td>\n",
       "      <td>26730</td>\n",
       "      <td>13546</td>\n",
       "      <td>1313</td>\n",
       "      <td>14859</td>\n",
       "      <td>15796</td>\n",
       "      <td>1381</td>\n",
       "      <td>17177</td>\n",
       "    </tr>\n",
       "    <tr>\n",
       "      <th>2</th>\n",
       "      <td>2025-08-24</td>\n",
       "      <td>46595</td>\n",
       "      <td>14631</td>\n",
       "      <td>61226</td>\n",
       "      <td>15764</td>\n",
       "      <td>11664</td>\n",
       "      <td>27428</td>\n",
       "      <td>14212</td>\n",
       "      <td>1381</td>\n",
       "      <td>15593</td>\n",
       "      <td>16619</td>\n",
       "      <td>1586</td>\n",
       "      <td>18205</td>\n",
       "    </tr>\n",
       "    <tr>\n",
       "      <th>3</th>\n",
       "      <td>2025-08-10</td>\n",
       "      <td>44811</td>\n",
       "      <td>14569</td>\n",
       "      <td>59380</td>\n",
       "      <td>14947</td>\n",
       "      <td>12000</td>\n",
       "      <td>26947</td>\n",
       "      <td>13708</td>\n",
       "      <td>1167</td>\n",
       "      <td>14875</td>\n",
       "      <td>16156</td>\n",
       "      <td>1402</td>\n",
       "      <td>17558</td>\n",
       "    </tr>\n",
       "    <tr>\n",
       "      <th>4</th>\n",
       "      <td>2025-07-27</td>\n",
       "      <td>42074</td>\n",
       "      <td>14871</td>\n",
       "      <td>56945</td>\n",
       "      <td>13947</td>\n",
       "      <td>12527</td>\n",
       "      <td>26474</td>\n",
       "      <td>12937</td>\n",
       "      <td>1050</td>\n",
       "      <td>13987</td>\n",
       "      <td>15190</td>\n",
       "      <td>1294</td>\n",
       "      <td>16484</td>\n",
       "    </tr>\n",
       "  </tbody>\n",
       "</table>\n",
       "</div>"
      ],
      "text/plain": [
       "         date  ice_all  cbp_all  total_all  ice_other  cbp_other  total_other  \\\n",
       "0  2025-09-21    46015    13747      59762      16523      11223        27746   \n",
       "1  2025-09-07    44844    13922      58766      15502      11228        26730   \n",
       "2  2025-08-24    46595    14631      61226      15764      11664        27428   \n",
       "3  2025-08-10    44811    14569      59380      14947      12000        26947   \n",
       "4  2025-07-27    42074    14871      56945      13947      12527        26474   \n",
       "\n",
       "   ice_pend  cbp_pend  total_pend  ice_conv  cbp_conv  total_conv  \n",
       "0     13767      1242       15009     15725      1282       17007  \n",
       "1     13546      1313       14859     15796      1381       17177  \n",
       "2     14212      1381       15593     16619      1586       18205  \n",
       "3     13708      1167       14875     16156      1402       17558  \n",
       "4     12937      1050       13987     15190      1294       16484  "
      ]
     },
     "execution_count": 1,
     "metadata": {},
     "output_type": "execute_result"
    }
   ],
   "source": [
    "import sys\n",
    "from pathlib import Path\n",
    "\n",
    "# Add the project root to sys.path so we can import modules from immigration_enforcement/\n",
    "# This makes it easier to reuse code across notebooks and supports a modular project structure\n",
    "sys.path.append(str(Path(\"..\").resolve()))\n",
    "\n",
    "import immigration_enforcement.detentions as detentions\n",
    "\n",
    "df = detentions.get_detention_data()\n",
    "df.head()"
   ]
  },
  {
   "cell_type": "markdown",
   "id": "7061c3be",
   "metadata": {},
   "source": [
    "## Graphing Functions\n",
    "\n",
    "The purpose of the `detentions module is to make it easy for uses to visualize all facets of this dataset. This involves seeing data on Arresting Authority (AA) and Criminality. And data as raw counts and percentages.\n",
    "\n",
    "#### Arresting Authority\n",
    "\n",
    "  * get_aa_count_chart\n",
    "  * get_aa_pct_chart"
   ]
  },
  {
   "cell_type": "code",
   "execution_count": null,
   "id": "d69b4b59",
   "metadata": {},
   "outputs": [
    {
     "data": {
      "application/vnd.plotly.v1+json": {
       "config": {
        "plotlyServerURL": "https://plot.ly"
       },
       "data": [
        {
         "hovertemplate": "Arresting Authority=ICE<br>date=%{x}<br>count=%{y}<extra></extra>",
         "legendgroup": "ICE",
         "line": {
          "color": "#377eb8",
          "dash": "solid"
         },
         "marker": {
          "symbol": "circle"
         },
         "mode": "lines",
         "name": "ICE",
         "orientation": "v",
         "showlegend": true,
         "type": "scatter",
         "x": [
          "2025-09-21",
          "2025-09-07",
          "2025-08-24",
          "2025-08-10",
          "2025-07-27",
          "2025-07-13",
          "2025-06-29",
          "2025-06-15",
          "2025-06-01",
          "2025-05-18",
          "2025-05-04",
          "2025-04-20",
          "2025-04-06",
          "2025-03-23",
          "2025-03-09",
          "2025-02-23",
          "2025-02-09",
          "2025-01-26",
          "2025-01-12",
          "2024-12-29",
          "2024-12-15",
          "2024-12-01",
          "2024-11-03",
          "2024-09-08",
          "2024-08-25",
          "2024-08-11",
          "2024-07-14",
          "2024-06-30",
          "2024-06-16",
          "2024-06-02",
          "2024-05-19",
          "2024-05-05",
          "2024-04-21",
          "2024-04-07",
          "2024-03-24",
          "2024-03-10",
          "2024-02-25",
          "2024-02-11",
          "2024-01-28",
          "2024-01-13",
          "2023-12-31",
          "2023-12-17",
          "2023-12-03",
          "2023-11-19",
          "2023-11-05",
          "2023-10-03",
          "2023-09-24",
          "2023-09-10",
          "2023-08-27",
          "2023-08-13",
          "2023-07-30",
          "2023-07-16",
          "2023-07-02",
          "2023-06-18",
          "2023-06-04",
          "2023-05-21",
          "2023-05-07",
          "2023-04-23",
          "2023-04-09",
          "2023-03-26",
          "2023-03-12",
          "2023-02-26",
          "2023-02-12",
          "2023-01-29",
          "2023-01-15",
          "2023-01-01",
          "2022-12-18",
          "2022-12-04",
          "2022-11-20",
          "2022-10-31",
          "2022-09-25",
          "2022-09-10",
          "2022-08-15",
          "2022-07-31",
          "2022-07-17",
          "2022-07-05",
          "2022-06-19",
          "2022-06-05",
          "2022-05-07",
          "2022-04-24",
          "2022-04-11",
          "2022-03-27",
          "2022-03-13",
          "2022-02-27",
          "2022-02-13",
          "2022-01-16",
          "2022-01-02",
          "2021-12-19",
          "2021-12-05",
          "2021-11-21",
          "2021-10-01",
          "2021-09-16",
          "2021-09-13",
          "2021-08-24",
          "2021-08-06",
          "2021-07-22",
          "2021-07-08",
          "2021-06-24",
          "2021-06-11",
          "2021-05-28",
          "2021-05-13",
          "2021-05-03",
          "2021-04-14",
          "2021-03-31",
          "2021-03-17",
          "2021-02-25",
          "2021-02-11",
          "2021-01-22",
          "2021-01-07",
          "2020-12-30",
          "2020-12-10",
          "2020-11-26",
          "2020-11-14",
          "2020-09-18",
          "2020-09-04",
          "2020-08-21",
          "2020-08-08",
          "2020-08-01",
          "2020-07-25",
          "2020-07-18",
          "2020-07-11",
          "2020-07-04",
          "2020-06-27",
          "2020-06-20",
          "2020-06-13",
          "2020-06-06",
          "2020-05-30",
          "2020-05-23",
          "2020-05-16",
          "2020-05-09",
          "2020-05-02",
          "2020-04-25",
          "2020-04-18",
          "2020-04-11",
          "2020-03-21",
          "2020-02-29",
          "2020-02-08",
          "2020-01-04",
          "2019-12-21",
          "2019-11-30",
          "2019-10-26",
          "2019-09-30",
          "2019-09-21",
          "2019-08-31",
          "2019-08-03",
          "2019-06-01",
          "2019-05-04"
         ],
         "xaxis": "x",
         "y": {
          "bdata": "v7MAACyvAAADtgAAC68AAFqkAACFoQAA56EAAJCZAAC4hAAAd3kAANR2AABXdQAAEHAAAL5sAACEZAAAXlgAAGhLAAAiOgAA3TgAAPA3AADUNwAA+TYAAE42AAD5NAAAxDQAAIo0AADEMwAAHzIAACkyAAC/MAAAbTAAADAwAAAzLwAAGy4AAKMtAADgLAAAFywAAOUrAADLKgAAfyoAAHYqAACUKAAAHigAAHInAADKJgAA7yYAALwkAADDJAAAmCUAAK8mAACgKAAAHCgAANIlAAB7JQAABSQAANokAADXJAAAXCYAADEmAAAxJQAA1yQAAJgjAAC+IQAAaCAAAIUfAACwHwAA6B8AABogAAD/HwAAByAAALkdAACAHAAAKhsAAJ8ZAADLGAAAmBcAAFsXAACjFgAAFhUAAMMUAABcFAAAxBMAAI8TAAAZEwAALxMAAHESAAAyEgAAFRIAAJoSAABmEgAAhBMAAA8SAAC5EQAA7REAAMsRAADEEQAA/BEAADwSAAD9EQAAOxIAANkSAAATEwAAuhQAAI8WAADfGgAAnyAAAM0kAACXJgAA1ikAACUqAAADKwAA3SsAAO8sAAB4NAAAxTQAAB01AAB9NAAAgTQAAL00AADvMwAALzQAABQ0AACsNAAASTUAAFo2AAAtNwAAAzgAANU4AAC4OQAALTwAADw9AADvPQAAKz8AAOpBAAA1SwAA0UkAAPdIAAA9RgAA30UAAHpHAAAqSQAAwUkAAPpGAAC1RgAAJEgAAHRKAABdTAAA",
          "dtype": "i4"
         },
         "yaxis": "y"
        },
        {
         "hovertemplate": "Arresting Authority=CBP<br>date=%{x}<br>count=%{y}<extra></extra>",
         "legendgroup": "CBP",
         "line": {
          "color": "#ff7f00",
          "dash": "solid"
         },
         "marker": {
          "symbol": "circle"
         },
         "mode": "lines",
         "name": "CBP",
         "orientation": "v",
         "showlegend": true,
         "type": "scatter",
         "x": [
          "2025-09-21",
          "2025-09-07",
          "2025-08-24",
          "2025-08-10",
          "2025-07-27",
          "2025-07-13",
          "2025-06-29",
          "2025-06-15",
          "2025-06-01",
          "2025-05-18",
          "2025-05-04",
          "2025-04-20",
          "2025-04-06",
          "2025-03-23",
          "2025-03-09",
          "2025-02-23",
          "2025-02-09",
          "2025-01-26",
          "2025-01-12",
          "2024-12-29",
          "2024-12-15",
          "2024-12-01",
          "2024-11-03",
          "2024-09-08",
          "2024-08-25",
          "2024-08-11",
          "2024-07-14",
          "2024-06-30",
          "2024-06-16",
          "2024-06-02",
          "2024-05-19",
          "2024-05-05",
          "2024-04-21",
          "2024-04-07",
          "2024-03-24",
          "2024-03-10",
          "2024-02-25",
          "2024-02-11",
          "2024-01-28",
          "2024-01-13",
          "2023-12-31",
          "2023-12-17",
          "2023-12-03",
          "2023-11-19",
          "2023-11-05",
          "2023-10-03",
          "2023-09-24",
          "2023-09-10",
          "2023-08-27",
          "2023-08-13",
          "2023-07-30",
          "2023-07-16",
          "2023-07-02",
          "2023-06-18",
          "2023-06-04",
          "2023-05-21",
          "2023-05-07",
          "2023-04-23",
          "2023-04-09",
          "2023-03-26",
          "2023-03-12",
          "2023-02-26",
          "2023-02-12",
          "2023-01-29",
          "2023-01-15",
          "2023-01-01",
          "2022-12-18",
          "2022-12-04",
          "2022-11-20",
          "2022-10-31",
          "2022-09-25",
          "2022-09-10",
          "2022-08-15",
          "2022-07-31",
          "2022-07-17",
          "2022-07-05",
          "2022-06-19",
          "2022-06-05",
          "2022-05-07",
          "2022-04-24",
          "2022-04-11",
          "2022-03-27",
          "2022-03-13",
          "2022-02-27",
          "2022-02-13",
          "2022-01-16",
          "2022-01-02",
          "2021-12-19",
          "2021-12-05",
          "2021-11-21",
          "2021-10-01",
          "2021-09-16",
          "2021-09-13",
          "2021-08-24",
          "2021-08-06",
          "2021-07-22",
          "2021-07-08",
          "2021-06-24",
          "2021-06-11",
          "2021-05-28",
          "2021-05-13",
          "2021-05-03",
          "2021-04-14",
          "2021-03-31",
          "2021-03-17",
          "2021-02-25",
          "2021-02-11",
          "2021-01-22",
          "2021-01-07",
          "2020-12-30",
          "2020-12-10",
          "2020-11-26",
          "2020-11-14",
          "2020-09-18",
          "2020-09-04",
          "2020-08-21",
          "2020-08-08",
          "2020-08-01",
          "2020-07-25",
          "2020-07-18",
          "2020-07-11",
          "2020-07-04",
          "2020-06-27",
          "2020-06-20",
          "2020-06-13",
          "2020-06-06",
          "2020-05-30",
          "2020-05-23",
          "2020-05-16",
          "2020-05-09",
          "2020-05-02",
          "2020-04-25",
          "2020-04-18",
          "2020-04-11",
          "2020-03-21",
          "2020-02-29",
          "2020-02-08",
          "2020-01-04",
          "2019-12-21",
          "2019-11-30",
          "2019-10-26",
          "2019-09-30",
          "2019-09-21",
          "2019-08-31",
          "2019-08-03",
          "2019-06-01",
          "2019-05-04"
         ],
         "xaxis": "x",
         "y": {
          "bdata": "szUAAGI2AAAnOQAA6TgAABc6AABrPAAAHkAAAL1CAACuQwAAb0UAAJlIAADJSgAAKEsAAFZOAAA5UAAAkVIAAGlVAAAkXwAAOmIAAABhAAAyXgAAT2AAAIFhAAAaXQAAu1gAAFxZAADIXAAAZmAAAFRkAAAxYQAAbl4AAMteAAASVwAA+VgAAKBiAADnawAA8GwAAI1pAACXawAAF2kAAJVmAAATZQAAdWcAAPNwAAB6dAAA/mgAAB1lAABCZgAAT1oAADlPAABGTgAAPFEAAGFPAAAyTgAA1VAAAOhFAABWLgAAFDsAAGg+AADhQwAAdEcAAOpFAABsRQAAAj4AABcyAABqMAAALDoAAEhRAAAyVQAAGVUAAHVEAAAwSAAAFUMAAL9BAACbQAAA3EIAAANEAABsSQAA80EAAGs3AABCNQAAOT0AACM7AAAnMwAAvToAACU/AAACRAAAej4AACZDAABARQAA7UIAAC9CAAAtSAAAXVAAAOtRAADPVgAAVVgAADJUAACSTQAA1EEAAIg3AAA+KgAAZiYAAMsfAAAFHAAAKxMAAEISAADcEAAAfhIAANERAACZEgAA7hIAAAsUAAC6GQAARBsAAPIcAAABHgAAqR8AAL8gAACPIgAAFSMAAB8kAABpJAAAPCYAAI8nAABcKQAASisAAGIsAABsLgAA1zAAAIUzAAD8NQAA5jgAAEs8AAB1SQAAuEwAAAdRAABiXAAA7l0AAMJnAADhdwAAKX0AAGyBAAANiAAAQpEAAH2CAACQdQAA",
          "dtype": "i4"
         },
         "yaxis": "y"
        },
        {
         "hovertemplate": "Arresting Authority=Total<br>date=%{x}<br>count=%{y}<extra></extra>",
         "legendgroup": "Total",
         "line": {
          "color": "#a65628",
          "dash": "solid"
         },
         "marker": {
          "symbol": "circle"
         },
         "mode": "lines",
         "name": "Total",
         "orientation": "v",
         "showlegend": true,
         "type": "scatter",
         "x": [
          "2025-09-21",
          "2025-09-07",
          "2025-08-24",
          "2025-08-10",
          "2025-07-27",
          "2025-07-13",
          "2025-06-29",
          "2025-06-15",
          "2025-06-01",
          "2025-05-18",
          "2025-05-04",
          "2025-04-20",
          "2025-04-06",
          "2025-03-23",
          "2025-03-09",
          "2025-02-23",
          "2025-02-09",
          "2025-01-26",
          "2025-01-12",
          "2024-12-29",
          "2024-12-15",
          "2024-12-01",
          "2024-11-03",
          "2024-09-08",
          "2024-08-25",
          "2024-08-11",
          "2024-07-14",
          "2024-06-30",
          "2024-06-16",
          "2024-06-02",
          "2024-05-19",
          "2024-05-05",
          "2024-04-21",
          "2024-04-07",
          "2024-03-24",
          "2024-03-10",
          "2024-02-25",
          "2024-02-11",
          "2024-01-28",
          "2024-01-13",
          "2023-12-31",
          "2023-12-17",
          "2023-12-03",
          "2023-11-19",
          "2023-11-05",
          "2023-10-03",
          "2023-09-24",
          "2023-09-10",
          "2023-08-27",
          "2023-08-13",
          "2023-07-30",
          "2023-07-16",
          "2023-07-02",
          "2023-06-18",
          "2023-06-04",
          "2023-05-21",
          "2023-05-07",
          "2023-04-23",
          "2023-04-09",
          "2023-03-26",
          "2023-03-12",
          "2023-02-26",
          "2023-02-12",
          "2023-01-29",
          "2023-01-15",
          "2023-01-01",
          "2022-12-18",
          "2022-12-04",
          "2022-11-20",
          "2022-10-31",
          "2022-09-25",
          "2022-09-10",
          "2022-08-15",
          "2022-07-31",
          "2022-07-17",
          "2022-07-05",
          "2022-06-19",
          "2022-06-05",
          "2022-05-07",
          "2022-04-24",
          "2022-04-11",
          "2022-03-27",
          "2022-03-13",
          "2022-02-27",
          "2022-02-13",
          "2022-01-16",
          "2022-01-02",
          "2021-12-19",
          "2021-12-05",
          "2021-11-21",
          "2021-10-01",
          "2021-09-16",
          "2021-09-13",
          "2021-08-24",
          "2021-08-06",
          "2021-07-22",
          "2021-07-08",
          "2021-06-24",
          "2021-06-11",
          "2021-05-28",
          "2021-05-13",
          "2021-05-03",
          "2021-04-14",
          "2021-03-31",
          "2021-03-17",
          "2021-02-25",
          "2021-02-11",
          "2021-01-22",
          "2021-01-07",
          "2020-12-30",
          "2020-12-10",
          "2020-11-26",
          "2020-11-14",
          "2020-09-18",
          "2020-09-04",
          "2020-08-21",
          "2020-08-08",
          "2020-08-01",
          "2020-07-25",
          "2020-07-18",
          "2020-07-11",
          "2020-07-04",
          "2020-06-27",
          "2020-06-20",
          "2020-06-13",
          "2020-06-06",
          "2020-05-30",
          "2020-05-23",
          "2020-05-16",
          "2020-05-09",
          "2020-05-02",
          "2020-04-25",
          "2020-04-18",
          "2020-04-11",
          "2020-03-21",
          "2020-02-29",
          "2020-02-08",
          "2020-01-04",
          "2019-12-21",
          "2019-11-30",
          "2019-10-26",
          "2019-09-30",
          "2019-09-21",
          "2019-08-31",
          "2019-08-03",
          "2019-06-01",
          "2019-05-04"
         ],
         "xaxis": "x",
         "y": {
          "bdata": "cukAAI7lAAAq7wAA9OcAAHHeAADw3QAABeIAAE3cAABmyAAA5r4AAG2/AAAgwAAAOLsAABS7AAC9tAAA76oAANGgAABGmQAAF5sAAPCYAAAGlgAASJcAAM+XAAATkgAAf40AAOaNAACMkAAAhZIAAH2WAADwkQAA244AAPuOAABFhgAAFIcAAEOQAADHmAAAB5kAAHKVAABilgAAlpMAAAuRAACnjQAAk48AAGWYAABEmwAA7Y8AANmJAAAFiwAA538AAOh1AADmdgAAWHkAADN1AACtcwAA2nQAAMJqAAAtUwAAcGEAAJlkAAASaQAAS2wAAIJpAAAqZwAAal4AAJxRAAAaUAAAFFoAAGJxAAAxdQAAIHUAAC5iAACwZAAAP14AAF5bAABmWQAAdFoAAF5bAAAPYAAACVcAAC5MAACeSQAA/VAAALJOAABARgAA7E0AAJZRAAA0VgAAj1AAAMBVAACmVwAAcVYAAD5UAADmWQAASmIAALZjAACTaAAAUWoAAG5mAACPXwAAD1QAAGFKAABRPQAAIDsAAFo2AADkNgAAyjMAAA83AABzNwAAVDwAAPY7AACcPQAAyz4AAPpAAAAyTgAACVAAAA9SAAB+UgAAKlQAAHxVAAB+VgAARFcAADNYAAAVWQAAhVsAAOldAACJYAAATWMAADdlAAAkaAAABG0AAMFwAADrcwAAEXgAADV+AACqlAAAiZYAAP6ZAACfogAAzaMAADyvAAALwQAA6sYAAGbIAADCzgAAZtkAAPHMAADtwQAA",
          "dtype": "i4"
         },
         "yaxis": "y"
        }
       ],
       "layout": {
        "annotations": [
         {
          "showarrow": false,
          "text": "Joe Biden",
          "x": "2021-01-20T00:00:00",
          "xanchor": "left",
          "xshift": 5,
          "y": 61226,
          "yanchor": "bottom"
         },
         {
          "showarrow": false,
          "text": "Donald Trump",
          "x": "2025-01-20T00:00:00",
          "xanchor": "left",
          "xshift": 5,
          "y": 61226,
          "yanchor": "bottom"
         }
        ],
        "legend": {
         "orientation": "h",
         "title": {
          "text": "Arresting Authority"
         },
         "tracegroupgap": 0,
         "x": 0,
         "xanchor": "left",
         "y": 1.02,
         "yanchor": "bottom"
        },
        "margin": {
         "t": 100
        },
        "shapes": [
         {
          "line": {
           "color": "black",
           "dash": "dash"
          },
          "type": "line",
          "x0": "2021-01-20T00:00:00",
          "x1": "2021-01-20T00:00:00",
          "xref": "x",
          "y0": 0,
          "y1": 1,
          "yref": "y domain"
         },
         {
          "line": {
           "color": "black",
           "dash": "dash"
          },
          "type": "line",
          "x0": "2025-01-20T00:00:00",
          "x1": "2025-01-20T00:00:00",
          "xref": "x",
          "y0": 0,
          "y1": 1,
          "yref": "y domain"
         }
        ],
        "template": {
         "data": {
          "candlestick": [
           {
            "decreasing": {
             "line": {
              "color": "#000033"
             }
            },
            "increasing": {
             "line": {
              "color": "#000032"
             }
            },
            "type": "candlestick"
           }
          ],
          "contour": [
           {
            "colorscale": [
             [
              0,
              "#000011"
             ],
             [
              0.1111111111111111,
              "#000012"
             ],
             [
              0.2222222222222222,
              "#000013"
             ],
             [
              0.3333333333333333,
              "#000014"
             ],
             [
              0.4444444444444444,
              "#000015"
             ],
             [
              0.5555555555555556,
              "#000016"
             ],
             [
              0.6666666666666666,
              "#000017"
             ],
             [
              0.7777777777777778,
              "#000018"
             ],
             [
              0.8888888888888888,
              "#000019"
             ],
             [
              1,
              "#000020"
             ]
            ],
            "type": "contour"
           }
          ],
          "contourcarpet": [
           {
            "colorscale": [
             [
              0,
              "#000011"
             ],
             [
              0.1111111111111111,
              "#000012"
             ],
             [
              0.2222222222222222,
              "#000013"
             ],
             [
              0.3333333333333333,
              "#000014"
             ],
             [
              0.4444444444444444,
              "#000015"
             ],
             [
              0.5555555555555556,
              "#000016"
             ],
             [
              0.6666666666666666,
              "#000017"
             ],
             [
              0.7777777777777778,
              "#000018"
             ],
             [
              0.8888888888888888,
              "#000019"
             ],
             [
              1,
              "#000020"
             ]
            ],
            "type": "contourcarpet"
           }
          ],
          "heatmap": [
           {
            "colorscale": [
             [
              0,
              "#000011"
             ],
             [
              0.1111111111111111,
              "#000012"
             ],
             [
              0.2222222222222222,
              "#000013"
             ],
             [
              0.3333333333333333,
              "#000014"
             ],
             [
              0.4444444444444444,
              "#000015"
             ],
             [
              0.5555555555555556,
              "#000016"
             ],
             [
              0.6666666666666666,
              "#000017"
             ],
             [
              0.7777777777777778,
              "#000018"
             ],
             [
              0.8888888888888888,
              "#000019"
             ],
             [
              1,
              "#000020"
             ]
            ],
            "type": "heatmap"
           }
          ],
          "histogram2d": [
           {
            "colorscale": [
             [
              0,
              "#000011"
             ],
             [
              0.1111111111111111,
              "#000012"
             ],
             [
              0.2222222222222222,
              "#000013"
             ],
             [
              0.3333333333333333,
              "#000014"
             ],
             [
              0.4444444444444444,
              "#000015"
             ],
             [
              0.5555555555555556,
              "#000016"
             ],
             [
              0.6666666666666666,
              "#000017"
             ],
             [
              0.7777777777777778,
              "#000018"
             ],
             [
              0.8888888888888888,
              "#000019"
             ],
             [
              1,
              "#000020"
             ]
            ],
            "type": "histogram2d"
           }
          ],
          "icicle": [
           {
            "textfont": {
             "color": "white"
            },
            "type": "icicle"
           }
          ],
          "sankey": [
           {
            "textfont": {
             "color": "#000036"
            },
            "type": "sankey"
           }
          ],
          "scatter": [
           {
            "marker": {
             "line": {
              "width": 0
             }
            },
            "type": "scatter"
           }
          ],
          "table": [
           {
            "cells": {
             "fill": {
              "color": "#000038"
             },
             "font": {
              "color": "#000037"
             },
             "line": {
              "color": "#000039"
             }
            },
            "header": {
             "fill": {
              "color": "#000040"
             },
             "font": {
              "color": "#000036"
             },
             "line": {
              "color": "#000039"
             }
            },
            "type": "table"
           }
          ],
          "waterfall": [
           {
            "connector": {
             "line": {
              "color": "#000036",
              "width": 2
             }
            },
            "decreasing": {
             "marker": {
              "color": "#000033"
             }
            },
            "increasing": {
             "marker": {
              "color": "#000032"
             }
            },
            "totals": {
             "marker": {
              "color": "#000034"
             }
            },
            "type": "waterfall"
           }
          ]
         },
         "layout": {
          "coloraxis": {
           "colorscale": [
            [
             0,
             "#000011"
            ],
            [
             0.1111111111111111,
             "#000012"
            ],
            [
             0.2222222222222222,
             "#000013"
            ],
            [
             0.3333333333333333,
             "#000014"
            ],
            [
             0.4444444444444444,
             "#000015"
            ],
            [
             0.5555555555555556,
             "#000016"
            ],
            [
             0.6666666666666666,
             "#000017"
            ],
            [
             0.7777777777777778,
             "#000018"
            ],
            [
             0.8888888888888888,
             "#000019"
            ],
            [
             1,
             "#000020"
            ]
           ]
          },
          "colorscale": {
           "diverging": [
            [
             0,
             "#000021"
            ],
            [
             0.1,
             "#000022"
            ],
            [
             0.2,
             "#000023"
            ],
            [
             0.3,
             "#000024"
            ],
            [
             0.4,
             "#000025"
            ],
            [
             0.5,
             "#000026"
            ],
            [
             0.6,
             "#000027"
            ],
            [
             0.7,
             "#000028"
            ],
            [
             0.8,
             "#000029"
            ],
            [
             0.9,
             "#000030"
            ],
            [
             1,
             "#000031"
            ]
           ],
           "sequential": [
            [
             0,
             "#000011"
            ],
            [
             0.1111111111111111,
             "#000012"
            ],
            [
             0.2222222222222222,
             "#000013"
            ],
            [
             0.3333333333333333,
             "#000014"
            ],
            [
             0.4444444444444444,
             "#000015"
            ],
            [
             0.5555555555555556,
             "#000016"
            ],
            [
             0.6666666666666666,
             "#000017"
            ],
            [
             0.7777777777777778,
             "#000018"
            ],
            [
             0.8888888888888888,
             "#000019"
            ],
            [
             1,
             "#000020"
            ]
           ],
           "sequentialminus": [
            [
             0,
             "#000011"
            ],
            [
             0.1111111111111111,
             "#000012"
            ],
            [
             0.2222222222222222,
             "#000013"
            ],
            [
             0.3333333333333333,
             "#000014"
            ],
            [
             0.4444444444444444,
             "#000015"
            ],
            [
             0.5555555555555556,
             "#000016"
            ],
            [
             0.6666666666666666,
             "#000017"
            ],
            [
             0.7777777777777778,
             "#000018"
            ],
            [
             0.8888888888888888,
             "#000019"
            ],
            [
             1,
             "#000020"
            ]
           ]
          },
          "colorway": [
           "#000001",
           "#000002",
           "#000003",
           "#000004",
           "#000005",
           "#000006",
           "#000007",
           "#000008",
           "#000009",
           "#000010"
          ]
         }
        },
        "title": {
         "text": "ICE Detainees by Date* and Arresting Authority"
        },
        "xaxis": {
         "anchor": "y",
         "domain": [
          0,
          1
         ],
         "title": {
          "text": "Date"
         }
        },
        "yaxis": {
         "anchor": "x",
         "domain": [
          0,
          1
         ],
         "title": {
          "text": "Detainees"
         }
        }
       }
      }
     },
     "metadata": {},
     "output_type": "display_data"
    }
   ],
   "source": [
    "fig = detentions.get_aa_count_chart()\n",
    "fig.show()"
   ]
  },
  {
   "cell_type": "code",
   "execution_count": 3,
   "id": "0b9d5687",
   "metadata": {},
   "outputs": [
    {
     "data": {
      "application/vnd.plotly.v1+json": {
       "config": {
        "plotlyServerURL": "https://plot.ly"
       },
       "data": [
        {
         "hovertemplate": "Arresting Authority=ICE<br>date=%{x}<br>percent=%{y}<extra></extra>",
         "legendgroup": "ICE",
         "line": {
          "color": "#377eb8",
          "dash": "solid"
         },
         "marker": {
          "symbol": "circle"
         },
         "mode": "lines",
         "name": "ICE",
         "orientation": "v",
         "showlegend": true,
         "type": "scatter",
         "x": [
          "2025-09-21",
          "2025-09-07",
          "2025-08-24",
          "2025-08-10",
          "2025-07-27",
          "2025-07-13",
          "2025-06-29",
          "2025-06-15",
          "2025-06-01",
          "2025-05-18",
          "2025-05-04",
          "2025-04-20",
          "2025-04-06",
          "2025-03-23",
          "2025-03-09",
          "2025-02-23",
          "2025-02-09",
          "2025-01-26",
          "2025-01-12",
          "2024-12-29",
          "2024-12-15",
          "2024-12-01",
          "2024-11-03",
          "2024-09-08",
          "2024-08-25",
          "2024-08-11",
          "2024-07-14",
          "2024-06-30",
          "2024-06-16",
          "2024-06-02",
          "2024-05-19",
          "2024-05-05",
          "2024-04-21",
          "2024-04-07",
          "2024-03-24",
          "2024-03-10",
          "2024-02-25",
          "2024-02-11",
          "2024-01-28",
          "2024-01-13",
          "2023-12-31",
          "2023-12-17",
          "2023-12-03",
          "2023-11-19",
          "2023-11-05",
          "2023-10-03",
          "2023-09-24",
          "2023-09-10",
          "2023-08-27",
          "2023-08-13",
          "2023-07-30",
          "2023-07-16",
          "2023-07-02",
          "2023-06-18",
          "2023-06-04",
          "2023-05-21",
          "2023-05-07",
          "2023-04-23",
          "2023-04-09",
          "2023-03-26",
          "2023-03-12",
          "2023-02-26",
          "2023-02-12",
          "2023-01-29",
          "2023-01-15",
          "2023-01-01",
          "2022-12-18",
          "2022-12-04",
          "2022-11-20",
          "2022-10-31",
          "2022-09-25",
          "2022-09-10",
          "2022-08-15",
          "2022-07-31",
          "2022-07-17",
          "2022-07-05",
          "2022-06-19",
          "2022-06-05",
          "2022-05-07",
          "2022-04-24",
          "2022-04-11",
          "2022-03-27",
          "2022-03-13",
          "2022-02-27",
          "2022-02-13",
          "2022-01-16",
          "2022-01-02",
          "2021-12-19",
          "2021-12-05",
          "2021-11-21",
          "2021-10-01",
          "2021-09-16",
          "2021-09-13",
          "2021-08-24",
          "2021-08-06",
          "2021-07-22",
          "2021-07-08",
          "2021-06-24",
          "2021-06-11",
          "2021-05-28",
          "2021-05-13",
          "2021-05-03",
          "2021-04-14",
          "2021-03-31",
          "2021-03-17",
          "2021-02-25",
          "2021-02-11",
          "2021-01-22",
          "2021-01-07",
          "2020-12-30",
          "2020-12-10",
          "2020-11-26",
          "2020-11-14",
          "2020-09-18",
          "2020-09-04",
          "2020-08-21",
          "2020-08-08",
          "2020-08-01",
          "2020-07-25",
          "2020-07-18",
          "2020-07-11",
          "2020-07-04",
          "2020-06-27",
          "2020-06-20",
          "2020-06-13",
          "2020-06-06",
          "2020-05-30",
          "2020-05-23",
          "2020-05-16",
          "2020-05-09",
          "2020-05-02",
          "2020-04-25",
          "2020-04-18",
          "2020-04-11",
          "2020-03-21",
          "2020-02-29",
          "2020-02-08",
          "2020-01-04",
          "2019-12-21",
          "2019-11-30",
          "2019-10-26",
          "2019-09-30",
          "2019-09-21",
          "2019-08-31",
          "2019-08-03",
          "2019-06-01",
          "2019-05-04"
         ],
         "xaxis": "x",
         "y": {
          "bdata": "AAAAAABAU0AAAAAAAABTQAAAAAAAAFNAAAAAAADAUkAAAAAAAIBSQAAAAAAAQFJAAAAAAAAAUkAAAAAAAIBRQAAAAAAAgFBAAAAAAAAAUEAAAAAAAABPQAAAAAAAgE5AAAAAAAAATkAAAAAAAABNQAAAAAAAAExAAAAAAAAASkAAAAAAAIBHQAAAAAAAAENAAAAAAACAQkAAAAAAAIBCQAAAAAAAgEJAAAAAAAAAQkAAAAAAAABCQAAAAAAAAEJAAAAAAACAQkAAAAAAAIBCQAAAAAAAAEJAAAAAAAAAQUAAAAAAAIBAQAAAAAAAgEBAAAAAAAAAQUAAAAAAAABBQAAAAAAAgEFAAAAAAAAAQUAAAAAAAABAQAAAAAAAAD1AAAAAAAAAPUAAAAAAAAA9QAAAAAAAADxAAAAAAAAAPUAAAAAAAAA9QAAAAAAAAD1AAAAAAAAAPEAAAAAAAAA6QAAAAAAAADlAAAAAAAAAO0AAAAAAAAA7QAAAAAAAADpAAAAAAAAAPUAAAAAAAIBAQAAAAAAAAEFAAAAAAACAQEAAAAAAAABAQAAAAAAAAEBAAAAAAAAAP0AAAAAAAIBBQAAAAAAAAEZAAAAAAACAQ0AAAAAAAABDQAAAAAAAgEFAAAAAAAAAQUAAAAAAAABBQAAAAAAAgEBAAAAAAAAAQUAAAAAAAIBDQAAAAAAAAERAAAAAAACAQUAAAAAAAAA8QAAAAAAAADtAAAAAAAAAO0AAAAAAAAA+QAAAAAAAADxAAAAAAAAAPUAAAAAAAAA8QAAAAAAAADxAAAAAAAAAOkAAAAAAAAA6QAAAAAAAADhAAAAAAAAAOEAAAAAAAAA7QAAAAAAAADxAAAAAAAAAOEAAAAAAAAA5QAAAAAAAADtAAAAAAAAAOUAAAAAAAAA3QAAAAAAAADVAAAAAAAAANkAAAAAAAAA2QAAAAAAAADVAAAAAAAAAN0AAAAAAAAA1QAAAAAAAADRAAAAAAAAAMkAAAAAAAAAyQAAAAAAAADFAAAAAAAAAMUAAAAAAAAAyQAAAAAAAADNAAAAAAAAANkAAAAAAAAA5QAAAAAAAAD9AAAAAAACAQUAAAAAAAABFQAAAAAAAgEhAAAAAAACAT0AAAAAAAMBQQAAAAAAAgFFAAAAAAABAUUAAAAAAAIBRQAAAAAAAgFFAAAAAAACAUUAAAAAAAEBRQAAAAAAAwFBAAAAAAACAUEAAAAAAAEBQQAAAAAAAAFBAAAAAAAAAT0AAAAAAAABPQAAAAAAAAE5AAAAAAAAATkAAAAAAAIBNQAAAAAAAgE1AAAAAAAAATUAAAAAAAABNQAAAAAAAgExAAAAAAAAATEAAAAAAAABMQAAAAAAAgEtAAAAAAACAS0AAAAAAAABLQAAAAAAAgEpAAAAAAACASkAAAAAAAABKQAAAAAAAgElAAAAAAACASEAAAAAAAIBHQAAAAAAAgEVAAAAAAACARUAAAAAAAIBEQAAAAAAAAENAAAAAAACAQkAAAAAAAIBBQAAAAAAAAEFAAAAAAACAQEAAAAAAAABCQAAAAAAAgENA",
          "dtype": "f8"
         },
         "yaxis": "y"
        },
        {
         "hovertemplate": "Arresting Authority=CBP<br>date=%{x}<br>percent=%{y}<extra></extra>",
         "legendgroup": "CBP",
         "line": {
          "color": "#ff7f00",
          "dash": "solid"
         },
         "marker": {
          "symbol": "circle"
         },
         "mode": "lines",
         "name": "CBP",
         "orientation": "v",
         "showlegend": true,
         "type": "scatter",
         "x": [
          "2025-09-21",
          "2025-09-07",
          "2025-08-24",
          "2025-08-10",
          "2025-07-27",
          "2025-07-13",
          "2025-06-29",
          "2025-06-15",
          "2025-06-01",
          "2025-05-18",
          "2025-05-04",
          "2025-04-20",
          "2025-04-06",
          "2025-03-23",
          "2025-03-09",
          "2025-02-23",
          "2025-02-09",
          "2025-01-26",
          "2025-01-12",
          "2024-12-29",
          "2024-12-15",
          "2024-12-01",
          "2024-11-03",
          "2024-09-08",
          "2024-08-25",
          "2024-08-11",
          "2024-07-14",
          "2024-06-30",
          "2024-06-16",
          "2024-06-02",
          "2024-05-19",
          "2024-05-05",
          "2024-04-21",
          "2024-04-07",
          "2024-03-24",
          "2024-03-10",
          "2024-02-25",
          "2024-02-11",
          "2024-01-28",
          "2024-01-13",
          "2023-12-31",
          "2023-12-17",
          "2023-12-03",
          "2023-11-19",
          "2023-11-05",
          "2023-10-03",
          "2023-09-24",
          "2023-09-10",
          "2023-08-27",
          "2023-08-13",
          "2023-07-30",
          "2023-07-16",
          "2023-07-02",
          "2023-06-18",
          "2023-06-04",
          "2023-05-21",
          "2023-05-07",
          "2023-04-23",
          "2023-04-09",
          "2023-03-26",
          "2023-03-12",
          "2023-02-26",
          "2023-02-12",
          "2023-01-29",
          "2023-01-15",
          "2023-01-01",
          "2022-12-18",
          "2022-12-04",
          "2022-11-20",
          "2022-10-31",
          "2022-09-25",
          "2022-09-10",
          "2022-08-15",
          "2022-07-31",
          "2022-07-17",
          "2022-07-05",
          "2022-06-19",
          "2022-06-05",
          "2022-05-07",
          "2022-04-24",
          "2022-04-11",
          "2022-03-27",
          "2022-03-13",
          "2022-02-27",
          "2022-02-13",
          "2022-01-16",
          "2022-01-02",
          "2021-12-19",
          "2021-12-05",
          "2021-11-21",
          "2021-10-01",
          "2021-09-16",
          "2021-09-13",
          "2021-08-24",
          "2021-08-06",
          "2021-07-22",
          "2021-07-08",
          "2021-06-24",
          "2021-06-11",
          "2021-05-28",
          "2021-05-13",
          "2021-05-03",
          "2021-04-14",
          "2021-03-31",
          "2021-03-17",
          "2021-02-25",
          "2021-02-11",
          "2021-01-22",
          "2021-01-07",
          "2020-12-30",
          "2020-12-10",
          "2020-11-26",
          "2020-11-14",
          "2020-09-18",
          "2020-09-04",
          "2020-08-21",
          "2020-08-08",
          "2020-08-01",
          "2020-07-25",
          "2020-07-18",
          "2020-07-11",
          "2020-07-04",
          "2020-06-27",
          "2020-06-20",
          "2020-06-13",
          "2020-06-06",
          "2020-05-30",
          "2020-05-23",
          "2020-05-16",
          "2020-05-09",
          "2020-05-02",
          "2020-04-25",
          "2020-04-18",
          "2020-04-11",
          "2020-03-21",
          "2020-02-29",
          "2020-02-08",
          "2020-01-04",
          "2019-12-21",
          "2019-11-30",
          "2019-10-26",
          "2019-09-30",
          "2019-09-21",
          "2019-08-31",
          "2019-08-03",
          "2019-06-01",
          "2019-05-04"
         ],
         "xaxis": "x",
         "y": {
          "bdata": "AAAAAAAAN0AAAAAAAAA4QAAAAAAAADhAAAAAAAAAOUAAAAAAAAA6QAAAAAAAADtAAAAAAAAAPEAAAAAAAAA+QAAAAAAAAEFAAAAAAAAAQkAAAAAAAABDQAAAAAAAgENAAAAAAAAAREAAAAAAAABFQAAAAAAAAEZAAAAAAAAASEAAAAAAAIBKQAAAAAAAAE9AAAAAAACAT0AAAAAAAIBPQAAAAAAAgE9AAAAAAAAAUEAAAAAAAABQQAAAAAAAAFBAAAAAAACAT0AAAAAAAIBPQAAAAAAAAFBAAAAAAACAUEAAAAAAAMBQQAAAAAAAwFBAAAAAAACAUEAAAAAAAIBQQAAAAAAAQFBAAAAAAACAUEAAAAAAAABRQAAAAAAAwFFAAAAAAADAUUAAAAAAAMBRQAAAAAAAAFJAAAAAAADAUUAAAAAAAMBRQAAAAAAAwFFAAAAAAAAAUkAAAAAAAIBSQAAAAAAAwFJAAAAAAABAUkAAAAAAAEBSQAAAAAAAgFJAAAAAAADAUUAAAAAAAMBQQAAAAAAAgFBAAAAAAADAUEAAAAAAAABRQAAAAAAAAFFAAAAAAABAUUAAAAAAAEBQQAAAAAAAAExAAAAAAACATkAAAAAAAABPQAAAAAAAQFBAAAAAAACAUEAAAAAAAIBQQAAAAAAAwFBAAAAAAACAUEAAAAAAAIBOQAAAAAAAAE5AAAAAAABAUEAAAAAAAABSQAAAAAAAQFJAAAAAAABAUkAAAAAAAIBRQAAAAAAAAFJAAAAAAADAUUAAAAAAAABSQAAAAAAAAFJAAAAAAACAUkAAAAAAAIBSQAAAAAAAAFNAAAAAAAAAU0AAAAAAAEBSQAAAAAAAAFJAAAAAAAAAU0AAAAAAAMBSQAAAAAAAQFJAAAAAAADAUkAAAAAAAEBTQAAAAAAAwFNAAAAAAACAU0AAAAAAAIBTQAAAAAAAwFNAAAAAAABAU0AAAAAAAMBTQAAAAAAAAFRAAAAAAACAVEAAAAAAAIBUQAAAAAAAwFRAAAAAAADAVEAAAAAAAIBUQAAAAAAAQFRAAAAAAACAU0AAAAAAAMBSQAAAAAAAQFFAAAAAAABAUEAAAAAAAABNQAAAAAAAgElAAAAAAACAQkAAAAAAAIBAQAAAAAAAAD5AAAAAAAAAP0AAAAAAAAA+QAAAAAAAAD5AAAAAAAAAPkAAAAAAAAA/QAAAAAAAgEBAAAAAAAAAQUAAAAAAAIBBQAAAAAAAAEJAAAAAAAAAQ0AAAAAAAABDQAAAAAAAAERAAAAAAAAAREAAAAAAAIBEQAAAAAAAgERAAAAAAAAARUAAAAAAAABFQAAAAAAAgEVAAAAAAAAARkAAAAAAAABGQAAAAAAAgEZAAAAAAACARkAAAAAAAABHQAAAAAAAgEdAAAAAAACAR0AAAAAAAABIQAAAAAAAgEhAAAAAAACASUAAAAAAAIBKQAAAAAAAgExAAAAAAACATEAAAAAAAIBNQAAAAAAAAE9AAAAAAACAT0AAAAAAAEBQQAAAAAAAgFBAAAAAAADAUEAAAAAAAABQQAAAAAAAgE5A",
          "dtype": "f8"
         },
         "yaxis": "y"
        }
       ],
       "layout": {
        "annotations": [
         {
          "showarrow": false,
          "text": "Joe Biden",
          "x": "2021-01-20T00:00:00",
          "xanchor": "left",
          "xshift": 5,
          "y": 83,
          "yanchor": "bottom"
         },
         {
          "showarrow": false,
          "text": "Donald Trump",
          "x": "2025-01-20T00:00:00",
          "xanchor": "left",
          "xshift": 5,
          "y": 83,
          "yanchor": "bottom"
         }
        ],
        "legend": {
         "orientation": "h",
         "title": {
          "text": "Arresting Authority"
         },
         "tracegroupgap": 0,
         "x": 0,
         "xanchor": "left",
         "y": 1.02,
         "yanchor": "bottom"
        },
        "margin": {
         "t": 100
        },
        "shapes": [
         {
          "line": {
           "color": "black",
           "dash": "dash"
          },
          "type": "line",
          "x0": "2021-01-20T00:00:00",
          "x1": "2021-01-20T00:00:00",
          "xref": "x",
          "y0": 0,
          "y1": 1,
          "yref": "y domain"
         },
         {
          "line": {
           "color": "black",
           "dash": "dash"
          },
          "type": "line",
          "x0": "2025-01-20T00:00:00",
          "x1": "2025-01-20T00:00:00",
          "xref": "x",
          "y0": 0,
          "y1": 1,
          "yref": "y domain"
         }
        ],
        "template": {
         "data": {
          "candlestick": [
           {
            "decreasing": {
             "line": {
              "color": "#000033"
             }
            },
            "increasing": {
             "line": {
              "color": "#000032"
             }
            },
            "type": "candlestick"
           }
          ],
          "contour": [
           {
            "colorscale": [
             [
              0,
              "#000011"
             ],
             [
              0.1111111111111111,
              "#000012"
             ],
             [
              0.2222222222222222,
              "#000013"
             ],
             [
              0.3333333333333333,
              "#000014"
             ],
             [
              0.4444444444444444,
              "#000015"
             ],
             [
              0.5555555555555556,
              "#000016"
             ],
             [
              0.6666666666666666,
              "#000017"
             ],
             [
              0.7777777777777778,
              "#000018"
             ],
             [
              0.8888888888888888,
              "#000019"
             ],
             [
              1,
              "#000020"
             ]
            ],
            "type": "contour"
           }
          ],
          "contourcarpet": [
           {
            "colorscale": [
             [
              0,
              "#000011"
             ],
             [
              0.1111111111111111,
              "#000012"
             ],
             [
              0.2222222222222222,
              "#000013"
             ],
             [
              0.3333333333333333,
              "#000014"
             ],
             [
              0.4444444444444444,
              "#000015"
             ],
             [
              0.5555555555555556,
              "#000016"
             ],
             [
              0.6666666666666666,
              "#000017"
             ],
             [
              0.7777777777777778,
              "#000018"
             ],
             [
              0.8888888888888888,
              "#000019"
             ],
             [
              1,
              "#000020"
             ]
            ],
            "type": "contourcarpet"
           }
          ],
          "heatmap": [
           {
            "colorscale": [
             [
              0,
              "#000011"
             ],
             [
              0.1111111111111111,
              "#000012"
             ],
             [
              0.2222222222222222,
              "#000013"
             ],
             [
              0.3333333333333333,
              "#000014"
             ],
             [
              0.4444444444444444,
              "#000015"
             ],
             [
              0.5555555555555556,
              "#000016"
             ],
             [
              0.6666666666666666,
              "#000017"
             ],
             [
              0.7777777777777778,
              "#000018"
             ],
             [
              0.8888888888888888,
              "#000019"
             ],
             [
              1,
              "#000020"
             ]
            ],
            "type": "heatmap"
           }
          ],
          "histogram2d": [
           {
            "colorscale": [
             [
              0,
              "#000011"
             ],
             [
              0.1111111111111111,
              "#000012"
             ],
             [
              0.2222222222222222,
              "#000013"
             ],
             [
              0.3333333333333333,
              "#000014"
             ],
             [
              0.4444444444444444,
              "#000015"
             ],
             [
              0.5555555555555556,
              "#000016"
             ],
             [
              0.6666666666666666,
              "#000017"
             ],
             [
              0.7777777777777778,
              "#000018"
             ],
             [
              0.8888888888888888,
              "#000019"
             ],
             [
              1,
              "#000020"
             ]
            ],
            "type": "histogram2d"
           }
          ],
          "icicle": [
           {
            "textfont": {
             "color": "white"
            },
            "type": "icicle"
           }
          ],
          "sankey": [
           {
            "textfont": {
             "color": "#000036"
            },
            "type": "sankey"
           }
          ],
          "scatter": [
           {
            "marker": {
             "line": {
              "width": 0
             }
            },
            "type": "scatter"
           }
          ],
          "table": [
           {
            "cells": {
             "fill": {
              "color": "#000038"
             },
             "font": {
              "color": "#000037"
             },
             "line": {
              "color": "#000039"
             }
            },
            "header": {
             "fill": {
              "color": "#000040"
             },
             "font": {
              "color": "#000036"
             },
             "line": {
              "color": "#000039"
             }
            },
            "type": "table"
           }
          ],
          "waterfall": [
           {
            "connector": {
             "line": {
              "color": "#000036",
              "width": 2
             }
            },
            "decreasing": {
             "marker": {
              "color": "#000033"
             }
            },
            "increasing": {
             "marker": {
              "color": "#000032"
             }
            },
            "totals": {
             "marker": {
              "color": "#000034"
             }
            },
            "type": "waterfall"
           }
          ]
         },
         "layout": {
          "coloraxis": {
           "colorscale": [
            [
             0,
             "#000011"
            ],
            [
             0.1111111111111111,
             "#000012"
            ],
            [
             0.2222222222222222,
             "#000013"
            ],
            [
             0.3333333333333333,
             "#000014"
            ],
            [
             0.4444444444444444,
             "#000015"
            ],
            [
             0.5555555555555556,
             "#000016"
            ],
            [
             0.6666666666666666,
             "#000017"
            ],
            [
             0.7777777777777778,
             "#000018"
            ],
            [
             0.8888888888888888,
             "#000019"
            ],
            [
             1,
             "#000020"
            ]
           ]
          },
          "colorscale": {
           "diverging": [
            [
             0,
             "#000021"
            ],
            [
             0.1,
             "#000022"
            ],
            [
             0.2,
             "#000023"
            ],
            [
             0.3,
             "#000024"
            ],
            [
             0.4,
             "#000025"
            ],
            [
             0.5,
             "#000026"
            ],
            [
             0.6,
             "#000027"
            ],
            [
             0.7,
             "#000028"
            ],
            [
             0.8,
             "#000029"
            ],
            [
             0.9,
             "#000030"
            ],
            [
             1,
             "#000031"
            ]
           ],
           "sequential": [
            [
             0,
             "#000011"
            ],
            [
             0.1111111111111111,
             "#000012"
            ],
            [
             0.2222222222222222,
             "#000013"
            ],
            [
             0.3333333333333333,
             "#000014"
            ],
            [
             0.4444444444444444,
             "#000015"
            ],
            [
             0.5555555555555556,
             "#000016"
            ],
            [
             0.6666666666666666,
             "#000017"
            ],
            [
             0.7777777777777778,
             "#000018"
            ],
            [
             0.8888888888888888,
             "#000019"
            ],
            [
             1,
             "#000020"
            ]
           ],
           "sequentialminus": [
            [
             0,
             "#000011"
            ],
            [
             0.1111111111111111,
             "#000012"
            ],
            [
             0.2222222222222222,
             "#000013"
            ],
            [
             0.3333333333333333,
             "#000014"
            ],
            [
             0.4444444444444444,
             "#000015"
            ],
            [
             0.5555555555555556,
             "#000016"
            ],
            [
             0.6666666666666666,
             "#000017"
            ],
            [
             0.7777777777777778,
             "#000018"
            ],
            [
             0.8888888888888888,
             "#000019"
            ],
            [
             1,
             "#000020"
            ]
           ]
          },
          "colorway": [
           "#000001",
           "#000002",
           "#000003",
           "#000004",
           "#000005",
           "#000006",
           "#000007",
           "#000008",
           "#000009",
           "#000010"
          ]
         }
        },
        "title": {
         "text": "ICE Detainees by Date* and Arresting Authority"
        },
        "xaxis": {
         "anchor": "y",
         "domain": [
          0,
          1
         ],
         "title": {
          "text": "Date"
         }
        },
        "yaxis": {
         "anchor": "x",
         "domain": [
          0,
          1
         ],
         "title": {
          "text": "Percent"
         }
        }
       }
      }
     },
     "metadata": {},
     "output_type": "display_data"
    }
   ],
   "source": [
    "detentions.get_aa_pct_chart()"
   ]
  },
  {
   "cell_type": "markdown",
   "id": "d3ae2b82",
   "metadata": {},
   "source": [
    "#### Criminality\n",
    "\n",
    "`authority` must be one of `All`, `ICE` or `CBP`.\n",
    "\n",
    "  * get_criminality_count_chart(authority: str)\n",
    "  * get_criminality_pct_chart(authority: str)"
   ]
  },
  {
   "cell_type": "code",
   "execution_count": 4,
   "id": "6eca1768",
   "metadata": {},
   "outputs": [
    {
     "data": {
      "application/vnd.plotly.v1+json": {
       "config": {
        "plotlyServerURL": "https://plot.ly"
       },
       "data": [
        {
         "hovertemplate": "Criminal Status=Convicted Criminal<br>date=%{x}<br>count=%{y}<extra></extra>",
         "legendgroup": "Convicted Criminal",
         "line": {
          "color": "#377eb8",
          "dash": "solid"
         },
         "marker": {
          "symbol": "circle"
         },
         "mode": "lines",
         "name": "Convicted Criminal",
         "orientation": "v",
         "showlegend": true,
         "type": "scatter",
         "x": [
          "2025-09-21",
          "2025-09-07",
          "2025-08-24",
          "2025-08-10",
          "2025-07-27",
          "2025-07-13",
          "2025-06-29",
          "2025-06-15",
          "2025-06-01",
          "2025-05-18",
          "2025-05-04",
          "2025-04-20",
          "2025-04-06",
          "2025-03-23",
          "2025-03-09",
          "2025-02-23",
          "2025-02-09",
          "2025-01-26",
          "2025-01-12",
          "2024-12-29",
          "2024-12-15",
          "2024-12-01",
          "2024-11-03",
          "2024-09-08",
          "2024-08-25",
          "2024-08-11",
          "2024-07-14",
          "2024-06-30",
          "2024-06-16",
          "2024-06-02",
          "2024-05-19",
          "2024-05-05",
          "2024-04-21",
          "2024-04-07",
          "2024-03-24",
          "2024-03-10",
          "2024-02-25",
          "2024-02-11",
          "2024-01-28",
          "2024-01-13",
          "2023-12-31",
          "2023-12-17",
          "2023-12-03",
          "2023-11-19",
          "2023-11-05",
          "2023-10-03",
          "2023-09-24",
          "2023-09-10",
          "2023-08-27",
          "2023-08-13",
          "2023-07-30",
          "2023-07-16",
          "2023-07-02",
          "2023-06-18",
          "2023-06-04",
          "2023-05-21",
          "2023-05-07",
          "2023-04-23",
          "2023-04-09",
          "2023-03-26",
          "2023-03-12",
          "2023-02-26",
          "2023-02-12",
          "2023-01-29",
          "2023-01-15",
          "2023-01-01",
          "2022-12-18",
          "2022-12-04",
          "2022-11-20",
          "2022-10-31",
          "2022-09-25",
          "2022-09-10",
          "2022-08-15",
          "2022-07-31",
          "2022-07-17",
          "2022-07-05",
          "2022-06-19",
          "2022-06-05",
          "2022-05-07",
          "2022-04-24",
          "2022-04-11",
          "2022-03-27",
          "2022-03-13",
          "2022-02-27",
          "2022-02-13",
          "2022-01-16",
          "2022-01-02",
          "2021-12-19",
          "2021-12-05",
          "2021-11-21",
          "2021-10-01",
          "2021-09-16",
          "2021-09-13",
          "2021-08-24",
          "2021-08-06",
          "2021-07-22",
          "2021-07-08",
          "2021-06-24",
          "2021-06-11",
          "2021-05-28",
          "2021-05-13",
          "2021-05-03",
          "2021-04-14",
          "2021-03-31",
          "2021-03-17",
          "2021-02-25",
          "2021-02-11",
          "2021-01-22",
          "2021-01-07",
          "2020-12-30",
          "2020-12-10",
          "2020-11-26",
          "2020-11-14",
          "2020-09-18",
          "2020-09-04",
          "2020-08-21",
          "2020-08-08",
          "2020-08-01",
          "2020-07-25",
          "2020-07-18",
          "2020-07-11",
          "2020-07-04",
          "2020-06-27",
          "2020-06-20",
          "2020-06-13",
          "2020-06-06",
          "2020-05-30",
          "2020-05-23",
          "2020-05-16",
          "2020-05-09",
          "2020-05-02",
          "2020-04-25",
          "2020-04-18",
          "2020-04-11",
          "2020-03-21",
          "2020-02-29",
          "2020-02-08",
          "2020-01-04",
          "2019-12-21",
          "2019-11-30",
          "2019-10-26",
          "2019-09-30",
          "2019-09-21",
          "2019-08-31",
          "2019-08-03",
          "2019-06-01",
          "2019-05-04"
         ],
         "xaxis": "x",
         "y": {
          "bdata": "b0IZQx1HlkRkQC0/7j9cPlk7PTqxOlY7FjkhOLc1BDKNLs8p/igmKHMoKyhEKEInXieeJ4woRSeuJ0smFCaaJlglTSX5JEUkSCRnJJojLSMrI+gihiLqIeogBiCKH0wfqR8uIOYgOCFgH04fnx78HqAeux9hIHIfEB/oHXEc6xtiG3YbgRs2G+YanRoeGQgYDxfvFa4VOhWBFekUnRMQExUSDRJUEjoSdxK2EXcRVBHPEXIRuRHJEVsRjxGWEVcRUREvEfIQHhGKEawRnRI5FOEWWhrCHK4d/R9QIAAhuCHjIhUqjStsLDksuiz2LH8s5CxILXAtAS7SLmIv9y+TMDcxDDN/M6IzRDTONb45hTiAOCM41zcvOeo8+D5PPUU/JEFJQ4FE",
          "dtype": "i2"
         },
         "yaxis": "y"
        },
        {
         "hovertemplate": "Criminal Status=Pending Criminal Charges<br>date=%{x}<br>count=%{y}<extra></extra>",
         "legendgroup": "Pending Criminal Charges",
         "line": {
          "color": "#ff7f00",
          "dash": "solid"
         },
         "marker": {
          "symbol": "circle"
         },
         "mode": "lines",
         "name": "Pending Criminal Charges",
         "orientation": "v",
         "showlegend": true,
         "type": "scatter",
         "x": [
          "2025-09-21",
          "2025-09-07",
          "2025-08-24",
          "2025-08-10",
          "2025-07-27",
          "2025-07-13",
          "2025-06-29",
          "2025-06-15",
          "2025-06-01",
          "2025-05-18",
          "2025-05-04",
          "2025-04-20",
          "2025-04-06",
          "2025-03-23",
          "2025-03-09",
          "2025-02-23",
          "2025-02-09",
          "2025-01-26",
          "2025-01-12",
          "2024-12-29",
          "2024-12-15",
          "2024-12-01",
          "2024-11-03",
          "2024-09-08",
          "2024-08-25",
          "2024-08-11",
          "2024-07-14",
          "2024-06-30",
          "2024-06-16",
          "2024-06-02",
          "2024-05-19",
          "2024-05-05",
          "2024-04-21",
          "2024-04-07",
          "2024-03-24",
          "2024-03-10",
          "2024-02-25",
          "2024-02-11",
          "2024-01-28",
          "2024-01-13",
          "2023-12-31",
          "2023-12-17",
          "2023-12-03",
          "2023-11-19",
          "2023-11-05",
          "2023-10-03",
          "2023-09-24",
          "2023-09-10",
          "2023-08-27",
          "2023-08-13",
          "2023-07-30",
          "2023-07-16",
          "2023-07-02",
          "2023-06-18",
          "2023-06-04",
          "2023-05-21",
          "2023-05-07",
          "2023-04-23",
          "2023-04-09",
          "2023-03-26",
          "2023-03-12",
          "2023-02-26",
          "2023-02-12",
          "2023-01-29",
          "2023-01-15",
          "2023-01-01",
          "2022-12-18",
          "2022-12-04",
          "2022-11-20",
          "2022-10-31",
          "2022-09-25",
          "2022-09-10",
          "2022-08-15",
          "2022-07-31",
          "2022-07-17",
          "2022-07-05",
          "2022-06-19",
          "2022-06-05",
          "2022-05-07",
          "2022-04-24",
          "2022-04-11",
          "2022-03-27",
          "2022-03-13",
          "2022-02-27",
          "2022-02-13",
          "2022-01-16",
          "2022-01-02",
          "2021-12-19",
          "2021-12-05",
          "2021-11-21",
          "2021-10-01",
          "2021-09-16",
          "2021-09-13",
          "2021-08-24",
          "2021-08-06",
          "2021-07-22",
          "2021-07-08",
          "2021-06-24",
          "2021-06-11",
          "2021-05-28",
          "2021-05-13",
          "2021-05-03",
          "2021-04-14",
          "2021-03-31",
          "2021-03-17",
          "2021-02-25",
          "2021-02-11",
          "2021-01-22",
          "2021-01-07",
          "2020-12-30",
          "2020-12-10",
          "2020-11-26",
          "2020-11-14",
          "2020-09-18",
          "2020-09-04",
          "2020-08-21",
          "2020-08-08",
          "2020-08-01",
          "2020-07-25",
          "2020-07-18",
          "2020-07-11",
          "2020-07-04",
          "2020-06-27",
          "2020-06-20",
          "2020-06-13",
          "2020-06-06",
          "2020-05-30",
          "2020-05-23",
          "2020-05-16",
          "2020-05-09",
          "2020-05-02",
          "2020-04-25",
          "2020-04-18",
          "2020-04-11",
          "2020-03-21",
          "2020-02-29",
          "2020-02-08",
          "2020-01-04",
          "2019-12-21",
          "2019-11-30",
          "2019-10-26",
          "2019-09-30",
          "2019-09-21",
          "2019-08-31",
          "2019-08-03",
          "2019-06-01",
          "2019-05-04"
         ],
         "xaxis": "x",
         "y": {
          "bdata": "oToLOuk8GzqjNkM27je3N2c1eDK6Md0uOSsNKd0k3h86GjUV8BSXFFQU3BNnEwoT0hKQEv0RaxFkEdcQzxAyEHkP9g6JDj4O3A2MDVQNGw0EDSsMAgyjC8ALxQuWC34LsgsxDP0MngzOC2ELvwqFCs0JawoUCgMKEwrTCYIJ8wh8CNMI/QhtCVEJWwn4B8cH8gZGBgIGegU/BS8FygSZBDoENwQZBNYD5wNSA1wDGwOjA1QDVAMDAygDQwPLAzYEXQRMBA0EywOuArgCOgOXA+QEYgcCCfAJMAv6CoQLlgueCxcNpAxzDCkMCgwqDA0M/wvXCxgMWAysDOoMLQ1QDX4NNw7DDjkP5g82EZAUbRRAFDUUgRMPFFMU7xTdFMMUdRXFFTYW",
          "dtype": "i2"
         },
         "yaxis": "y"
        },
        {
         "hovertemplate": "Criminal Status=Other Immigration Violator<br>date=%{x}<br>count=%{y}<extra></extra>",
         "legendgroup": "Other Immigration Violator",
         "line": {
          "color": "#a65628",
          "dash": "solid"
         },
         "marker": {
          "symbol": "circle"
         },
         "mode": "lines",
         "name": "Other Immigration Violator",
         "orientation": "v",
         "showlegend": true,
         "type": "scatter",
         "x": [
          "2025-09-21",
          "2025-09-07",
          "2025-08-24",
          "2025-08-10",
          "2025-07-27",
          "2025-07-13",
          "2025-06-29",
          "2025-06-15",
          "2025-06-01",
          "2025-05-18",
          "2025-05-04",
          "2025-04-20",
          "2025-04-06",
          "2025-03-23",
          "2025-03-09",
          "2025-02-23",
          "2025-02-09",
          "2025-01-26",
          "2025-01-12",
          "2024-12-29",
          "2024-12-15",
          "2024-12-01",
          "2024-11-03",
          "2024-09-08",
          "2024-08-25",
          "2024-08-11",
          "2024-07-14",
          "2024-06-30",
          "2024-06-16",
          "2024-06-02",
          "2024-05-19",
          "2024-05-05",
          "2024-04-21",
          "2024-04-07",
          "2024-03-24",
          "2024-03-10",
          "2024-02-25",
          "2024-02-11",
          "2024-01-28",
          "2024-01-13",
          "2023-12-31",
          "2023-12-17",
          "2023-12-03",
          "2023-11-19",
          "2023-11-05",
          "2023-10-03",
          "2023-09-24",
          "2023-09-10",
          "2023-08-27",
          "2023-08-13",
          "2023-07-30",
          "2023-07-16",
          "2023-07-02",
          "2023-06-18",
          "2023-06-04",
          "2023-05-21",
          "2023-05-07",
          "2023-04-23",
          "2023-04-09",
          "2023-03-26",
          "2023-03-12",
          "2023-02-26",
          "2023-02-12",
          "2023-01-29",
          "2023-01-15",
          "2023-01-01",
          "2022-12-18",
          "2022-12-04",
          "2022-11-20",
          "2022-10-31",
          "2022-09-25",
          "2022-09-10",
          "2022-08-15",
          "2022-07-31",
          "2022-07-17",
          "2022-07-05",
          "2022-06-19",
          "2022-06-05",
          "2022-05-07",
          "2022-04-24",
          "2022-04-11",
          "2022-03-27",
          "2022-03-13",
          "2022-02-27",
          "2022-02-13",
          "2022-01-16",
          "2022-01-02",
          "2021-12-19",
          "2021-12-05",
          "2021-11-21",
          "2021-10-01",
          "2021-09-16",
          "2021-09-13",
          "2021-08-24",
          "2021-08-06",
          "2021-07-22",
          "2021-07-08",
          "2021-06-24",
          "2021-06-11",
          "2021-05-28",
          "2021-05-13",
          "2021-05-03",
          "2021-04-14",
          "2021-03-31",
          "2021-03-17",
          "2021-02-25",
          "2021-02-11",
          "2021-01-22",
          "2021-01-07",
          "2020-12-30",
          "2020-12-10",
          "2020-11-26",
          "2020-11-14",
          "2020-09-18",
          "2020-09-04",
          "2020-08-21",
          "2020-08-08",
          "2020-08-01",
          "2020-07-25",
          "2020-07-18",
          "2020-07-11",
          "2020-07-04",
          "2020-06-27",
          "2020-06-20",
          "2020-06-13",
          "2020-06-06",
          "2020-05-30",
          "2020-05-23",
          "2020-05-16",
          "2020-05-09",
          "2020-05-02",
          "2020-04-25",
          "2020-04-18",
          "2020-04-11",
          "2020-03-21",
          "2020-02-29",
          "2020-02-08",
          "2020-01-04",
          "2019-12-21",
          "2019-11-30",
          "2019-10-26",
          "2019-09-30",
          "2019-09-21",
          "2019-08-31",
          "2019-08-03",
          "2019-06-01",
          "2019-05-04"
         ],
         "xaxis": "x",
         "y": {
          "bdata": "YmwAAGpoAAAkawAAQ2kAAGpnAACAaAAAKWoAADpmAACmVwAAMVIAAAJTAADtVQAA6VYAAOZZAAApWgAADVkAAApYAABCWgAAKV0AADNcAAA/WQAAQVsAACRcAADHVwAAT1MAALhTAAADVgAA1VkAAGtdAADOWgAA+FcAAC9YAAB0UQAA0VIAAMFcAABEZgAA42YAAH9jAAB0ZQAATmMAANxgAACUXgAAC2EAANhqAACabgAAImQAALleAAA7YAAAjFQAAIlJAAADSQAAgksAAAVKAAD+SAAAfEsAAEFBAADAKgAASjcAACQ6AACdPwAAKEMAAMdBAAA3QQAAjDkAAL4tAADRKwAAljUAAL9MAAD6UAAAKFEAABhBAADhRAAAPkAAACk/AAC2PQAAwD8AAJ5AAAD3RQAAoj4AAIU0AABPMwAAuToAAEU4AAAwMAAAjjcAAI48AABhQQAAIDwAAE5AAADgQgAAZEEAAHI/AABjRQAAeE0AAFVOAAAGUwAAo1QAAPNQAACQSgAAJj8AACk2AADtKAAASSUAAIoeAAAfGwAADhIAAEsRAADVDwAAJxEAAKwQAAAYEQAAfREAAHkSAAAGFwAA2BcAADAZAAAcGgAAZhsAAFwcAADyHQAAYR4AABQfAACNHwAALCEAAGsiAAA9JAAAKSYAAFQnAABvKQAAwSsAAH8uAAAQMQAA5zMAADE3AABcRgAAl0kAAD5NAABHVgAAdVgAAP5hAADObwAAA3MAADp2AAC6egAAzYIAAONzAAA2ZwAA",
          "dtype": "i4"
         },
         "yaxis": "y"
        },
        {
         "hovertemplate": "Criminal Status=Total<br>date=%{x}<br>count=%{y}<extra></extra>",
         "legendgroup": "Total",
         "line": {
          "color": "#999999",
          "dash": "solid"
         },
         "marker": {
          "symbol": "circle"
         },
         "mode": "lines",
         "name": "Total",
         "orientation": "v",
         "showlegend": true,
         "type": "scatter",
         "x": [
          "2025-09-21",
          "2025-09-07",
          "2025-08-24",
          "2025-08-10",
          "2025-07-27",
          "2025-07-13",
          "2025-06-29",
          "2025-06-15",
          "2025-06-01",
          "2025-05-18",
          "2025-05-04",
          "2025-04-20",
          "2025-04-06",
          "2025-03-23",
          "2025-03-09",
          "2025-02-23",
          "2025-02-09",
          "2025-01-26",
          "2025-01-12",
          "2024-12-29",
          "2024-12-15",
          "2024-12-01",
          "2024-11-03",
          "2024-09-08",
          "2024-08-25",
          "2024-08-11",
          "2024-07-14",
          "2024-06-30",
          "2024-06-16",
          "2024-06-02",
          "2024-05-19",
          "2024-05-05",
          "2024-04-21",
          "2024-04-07",
          "2024-03-24",
          "2024-03-10",
          "2024-02-25",
          "2024-02-11",
          "2024-01-28",
          "2024-01-13",
          "2023-12-31",
          "2023-12-17",
          "2023-12-03",
          "2023-11-19",
          "2023-11-05",
          "2023-10-03",
          "2023-09-24",
          "2023-09-10",
          "2023-08-27",
          "2023-08-13",
          "2023-07-30",
          "2023-07-16",
          "2023-07-02",
          "2023-06-18",
          "2023-06-04",
          "2023-05-21",
          "2023-05-07",
          "2023-04-23",
          "2023-04-09",
          "2023-03-26",
          "2023-03-12",
          "2023-02-26",
          "2023-02-12",
          "2023-01-29",
          "2023-01-15",
          "2023-01-01",
          "2022-12-18",
          "2022-12-04",
          "2022-11-20",
          "2022-10-31",
          "2022-09-25",
          "2022-09-10",
          "2022-08-15",
          "2022-07-31",
          "2022-07-17",
          "2022-07-05",
          "2022-06-19",
          "2022-06-05",
          "2022-05-07",
          "2022-04-24",
          "2022-04-11",
          "2022-03-27",
          "2022-03-13",
          "2022-02-27",
          "2022-02-13",
          "2022-01-16",
          "2022-01-02",
          "2021-12-19",
          "2021-12-05",
          "2021-11-21",
          "2021-10-01",
          "2021-09-16",
          "2021-09-13",
          "2021-08-24",
          "2021-08-06",
          "2021-07-22",
          "2021-07-08",
          "2021-06-24",
          "2021-06-11",
          "2021-05-28",
          "2021-05-13",
          "2021-05-03",
          "2021-04-14",
          "2021-03-31",
          "2021-03-17",
          "2021-02-25",
          "2021-02-11",
          "2021-01-22",
          "2021-01-07",
          "2020-12-30",
          "2020-12-10",
          "2020-11-26",
          "2020-11-14",
          "2020-09-18",
          "2020-09-04",
          "2020-08-21",
          "2020-08-08",
          "2020-08-01",
          "2020-07-25",
          "2020-07-18",
          "2020-07-11",
          "2020-07-04",
          "2020-06-27",
          "2020-06-20",
          "2020-06-13",
          "2020-06-06",
          "2020-05-30",
          "2020-05-23",
          "2020-05-16",
          "2020-05-09",
          "2020-05-02",
          "2020-04-25",
          "2020-04-18",
          "2020-04-11",
          "2020-03-21",
          "2020-02-29",
          "2020-02-08",
          "2020-01-04",
          "2019-12-21",
          "2019-11-30",
          "2019-10-26",
          "2019-09-30",
          "2019-09-21",
          "2019-08-31",
          "2019-08-03",
          "2019-06-01",
          "2019-05-04"
         ],
         "xaxis": "x",
         "y": {
          "bdata": "cukAAI7lAAAq7wAA9OcAAHHeAADw3QAABeIAAE3cAABmyAAA5r4AAG2/AAAgwAAAOLsAABS7AAC9tAAA76oAANGgAABGmQAAF5sAAPCYAAAGlgAASJcAAM+XAAATkgAAf40AAOaNAACMkAAAhZIAAH2WAADwkQAA244AAPuOAABFhgAAFIcAAEOQAADHmAAAB5kAAHKVAABilgAAlpMAAAuRAACnjQAAk48AAGWYAABEmwAA7Y8AANmJAAAFiwAA538AAOh1AADmdgAAWHkAADN1AACtcwAA2nQAAMJqAAAtUwAAcGEAAJlkAAASaQAAS2wAAIJpAAAqZwAAal4AAJxRAAAaUAAAFFoAAGJxAAAxdQAAIHUAAC5iAACwZAAAP14AAF5bAABmWQAAdFoAAF5bAAAPYAAACVcAAC5MAACeSQAA/VAAALJOAABARgAA7E0AAJZRAAA0VgAAj1AAAMBVAACmVwAAcVYAAD5UAADmWQAASmIAALZjAACTaAAAUWoAAG5mAACPXwAAD1QAAGFKAABRPQAAIDsAAFo2AADkNgAAyjMAAA83AABzNwAAVDwAAPY7AACcPQAAyz4AAPpAAAAyTgAACVAAAA9SAAB+UgAAKlQAAHxVAAB+VgAARFcAADNYAAAVWQAAhVsAAOldAACJYAAATWMAADdlAAAkaAAABG0AAMFwAADrcwAAEXgAADV+AACqlAAAiZYAAP6ZAACfogAAzaMAADyvAAALwQAA6sYAAGbIAADCzgAAZtkAAPHMAADtwQAA",
          "dtype": "i4"
         },
         "yaxis": "y"
        }
       ],
       "layout": {
        "annotations": [
         {
          "showarrow": false,
          "text": "Joe Biden",
          "x": "2021-01-20T00:00:00",
          "xanchor": "left",
          "xshift": 5,
          "y": 61226,
          "yanchor": "bottom"
         },
         {
          "showarrow": false,
          "text": "Donald Trump",
          "x": "2025-01-20T00:00:00",
          "xanchor": "left",
          "xshift": 5,
          "y": 61226,
          "yanchor": "bottom"
         }
        ],
        "legend": {
         "orientation": "h",
         "title": {
          "text": "Criminal Status"
         },
         "tracegroupgap": 0,
         "x": 0,
         "xanchor": "left",
         "y": 1.02,
         "yanchor": "bottom"
        },
        "margin": {
         "t": 100
        },
        "shapes": [
         {
          "line": {
           "color": "black",
           "dash": "dash"
          },
          "type": "line",
          "x0": "2021-01-20T00:00:00",
          "x1": "2021-01-20T00:00:00",
          "xref": "x",
          "y0": 0,
          "y1": 1,
          "yref": "y domain"
         },
         {
          "line": {
           "color": "black",
           "dash": "dash"
          },
          "type": "line",
          "x0": "2025-01-20T00:00:00",
          "x1": "2025-01-20T00:00:00",
          "xref": "x",
          "y0": 0,
          "y1": 1,
          "yref": "y domain"
         }
        ],
        "template": {
         "data": {
          "candlestick": [
           {
            "decreasing": {
             "line": {
              "color": "#000033"
             }
            },
            "increasing": {
             "line": {
              "color": "#000032"
             }
            },
            "type": "candlestick"
           }
          ],
          "contour": [
           {
            "colorscale": [
             [
              0,
              "#000011"
             ],
             [
              0.1111111111111111,
              "#000012"
             ],
             [
              0.2222222222222222,
              "#000013"
             ],
             [
              0.3333333333333333,
              "#000014"
             ],
             [
              0.4444444444444444,
              "#000015"
             ],
             [
              0.5555555555555556,
              "#000016"
             ],
             [
              0.6666666666666666,
              "#000017"
             ],
             [
              0.7777777777777778,
              "#000018"
             ],
             [
              0.8888888888888888,
              "#000019"
             ],
             [
              1,
              "#000020"
             ]
            ],
            "type": "contour"
           }
          ],
          "contourcarpet": [
           {
            "colorscale": [
             [
              0,
              "#000011"
             ],
             [
              0.1111111111111111,
              "#000012"
             ],
             [
              0.2222222222222222,
              "#000013"
             ],
             [
              0.3333333333333333,
              "#000014"
             ],
             [
              0.4444444444444444,
              "#000015"
             ],
             [
              0.5555555555555556,
              "#000016"
             ],
             [
              0.6666666666666666,
              "#000017"
             ],
             [
              0.7777777777777778,
              "#000018"
             ],
             [
              0.8888888888888888,
              "#000019"
             ],
             [
              1,
              "#000020"
             ]
            ],
            "type": "contourcarpet"
           }
          ],
          "heatmap": [
           {
            "colorscale": [
             [
              0,
              "#000011"
             ],
             [
              0.1111111111111111,
              "#000012"
             ],
             [
              0.2222222222222222,
              "#000013"
             ],
             [
              0.3333333333333333,
              "#000014"
             ],
             [
              0.4444444444444444,
              "#000015"
             ],
             [
              0.5555555555555556,
              "#000016"
             ],
             [
              0.6666666666666666,
              "#000017"
             ],
             [
              0.7777777777777778,
              "#000018"
             ],
             [
              0.8888888888888888,
              "#000019"
             ],
             [
              1,
              "#000020"
             ]
            ],
            "type": "heatmap"
           }
          ],
          "histogram2d": [
           {
            "colorscale": [
             [
              0,
              "#000011"
             ],
             [
              0.1111111111111111,
              "#000012"
             ],
             [
              0.2222222222222222,
              "#000013"
             ],
             [
              0.3333333333333333,
              "#000014"
             ],
             [
              0.4444444444444444,
              "#000015"
             ],
             [
              0.5555555555555556,
              "#000016"
             ],
             [
              0.6666666666666666,
              "#000017"
             ],
             [
              0.7777777777777778,
              "#000018"
             ],
             [
              0.8888888888888888,
              "#000019"
             ],
             [
              1,
              "#000020"
             ]
            ],
            "type": "histogram2d"
           }
          ],
          "icicle": [
           {
            "textfont": {
             "color": "white"
            },
            "type": "icicle"
           }
          ],
          "sankey": [
           {
            "textfont": {
             "color": "#000036"
            },
            "type": "sankey"
           }
          ],
          "scatter": [
           {
            "marker": {
             "line": {
              "width": 0
             }
            },
            "type": "scatter"
           }
          ],
          "table": [
           {
            "cells": {
             "fill": {
              "color": "#000038"
             },
             "font": {
              "color": "#000037"
             },
             "line": {
              "color": "#000039"
             }
            },
            "header": {
             "fill": {
              "color": "#000040"
             },
             "font": {
              "color": "#000036"
             },
             "line": {
              "color": "#000039"
             }
            },
            "type": "table"
           }
          ],
          "waterfall": [
           {
            "connector": {
             "line": {
              "color": "#000036",
              "width": 2
             }
            },
            "decreasing": {
             "marker": {
              "color": "#000033"
             }
            },
            "increasing": {
             "marker": {
              "color": "#000032"
             }
            },
            "totals": {
             "marker": {
              "color": "#000034"
             }
            },
            "type": "waterfall"
           }
          ]
         },
         "layout": {
          "coloraxis": {
           "colorscale": [
            [
             0,
             "#000011"
            ],
            [
             0.1111111111111111,
             "#000012"
            ],
            [
             0.2222222222222222,
             "#000013"
            ],
            [
             0.3333333333333333,
             "#000014"
            ],
            [
             0.4444444444444444,
             "#000015"
            ],
            [
             0.5555555555555556,
             "#000016"
            ],
            [
             0.6666666666666666,
             "#000017"
            ],
            [
             0.7777777777777778,
             "#000018"
            ],
            [
             0.8888888888888888,
             "#000019"
            ],
            [
             1,
             "#000020"
            ]
           ]
          },
          "colorscale": {
           "diverging": [
            [
             0,
             "#000021"
            ],
            [
             0.1,
             "#000022"
            ],
            [
             0.2,
             "#000023"
            ],
            [
             0.3,
             "#000024"
            ],
            [
             0.4,
             "#000025"
            ],
            [
             0.5,
             "#000026"
            ],
            [
             0.6,
             "#000027"
            ],
            [
             0.7,
             "#000028"
            ],
            [
             0.8,
             "#000029"
            ],
            [
             0.9,
             "#000030"
            ],
            [
             1,
             "#000031"
            ]
           ],
           "sequential": [
            [
             0,
             "#000011"
            ],
            [
             0.1111111111111111,
             "#000012"
            ],
            [
             0.2222222222222222,
             "#000013"
            ],
            [
             0.3333333333333333,
             "#000014"
            ],
            [
             0.4444444444444444,
             "#000015"
            ],
            [
             0.5555555555555556,
             "#000016"
            ],
            [
             0.6666666666666666,
             "#000017"
            ],
            [
             0.7777777777777778,
             "#000018"
            ],
            [
             0.8888888888888888,
             "#000019"
            ],
            [
             1,
             "#000020"
            ]
           ],
           "sequentialminus": [
            [
             0,
             "#000011"
            ],
            [
             0.1111111111111111,
             "#000012"
            ],
            [
             0.2222222222222222,
             "#000013"
            ],
            [
             0.3333333333333333,
             "#000014"
            ],
            [
             0.4444444444444444,
             "#000015"
            ],
            [
             0.5555555555555556,
             "#000016"
            ],
            [
             0.6666666666666666,
             "#000017"
            ],
            [
             0.7777777777777778,
             "#000018"
            ],
            [
             0.8888888888888888,
             "#000019"
            ],
            [
             1,
             "#000020"
            ]
           ]
          },
          "colorway": [
           "#000001",
           "#000002",
           "#000003",
           "#000004",
           "#000005",
           "#000006",
           "#000007",
           "#000008",
           "#000009",
           "#000010"
          ]
         }
        },
        "title": {
         "text": "ICE Detainees by Date* and Criminality**"
        },
        "xaxis": {
         "anchor": "y",
         "domain": [
          0,
          1
         ],
         "title": {
          "text": "Date"
         }
        },
        "yaxis": {
         "anchor": "x",
         "domain": [
          0,
          1
         ],
         "title": {
          "text": "Detainees"
         }
        }
       }
      }
     },
     "metadata": {},
     "output_type": "display_data"
    }
   ],
   "source": [
    "detentions.get_criminality_count_chart(authority=\"All\")"
   ]
  },
  {
   "cell_type": "code",
   "execution_count": 5,
   "id": "22622c1b",
   "metadata": {},
   "outputs": [
    {
     "data": {
      "application/vnd.plotly.v1+json": {
       "config": {
        "plotlyServerURL": "https://plot.ly"
       },
       "data": [
        {
         "hovertemplate": "Criminal Status=Convicted Criminal<br>date=%{x}<br>percent=%{y}<extra></extra>",
         "legendgroup": "Convicted Criminal",
         "line": {
          "color": "#377eb8",
          "dash": "solid"
         },
         "marker": {
          "symbol": "circle"
         },
         "mode": "lines",
         "name": "Convicted Criminal",
         "orientation": "v",
         "showlegend": true,
         "type": "scatter",
         "x": [
          "2025-09-21",
          "2025-09-07",
          "2025-08-24",
          "2025-08-10",
          "2025-07-27",
          "2025-07-13",
          "2025-06-29",
          "2025-06-15",
          "2025-06-01",
          "2025-05-18",
          "2025-05-04",
          "2025-04-20",
          "2025-04-06",
          "2025-03-23",
          "2025-03-09",
          "2025-02-23",
          "2025-02-09",
          "2025-01-26",
          "2025-01-12",
          "2024-12-29",
          "2024-12-15",
          "2024-12-01",
          "2024-11-03",
          "2024-09-08",
          "2024-08-25",
          "2024-08-11",
          "2024-07-14",
          "2024-06-30",
          "2024-06-16",
          "2024-06-02",
          "2024-05-19",
          "2024-05-05",
          "2024-04-21",
          "2024-04-07",
          "2024-03-24",
          "2024-03-10",
          "2024-02-25",
          "2024-02-11",
          "2024-01-28",
          "2024-01-13",
          "2023-12-31",
          "2023-12-17",
          "2023-12-03",
          "2023-11-19",
          "2023-11-05",
          "2023-10-03",
          "2023-09-24",
          "2023-09-10",
          "2023-08-27",
          "2023-08-13",
          "2023-07-30",
          "2023-07-16",
          "2023-07-02",
          "2023-06-18",
          "2023-06-04",
          "2023-05-21",
          "2023-05-07",
          "2023-04-23",
          "2023-04-09",
          "2023-03-26",
          "2023-03-12",
          "2023-02-26",
          "2023-02-12",
          "2023-01-29",
          "2023-01-15",
          "2023-01-01",
          "2022-12-18",
          "2022-12-04",
          "2022-11-20",
          "2022-10-31",
          "2022-09-25",
          "2022-09-10",
          "2022-08-15",
          "2022-07-31",
          "2022-07-17",
          "2022-07-05",
          "2022-06-19",
          "2022-06-05",
          "2022-05-07",
          "2022-04-24",
          "2022-04-11",
          "2022-03-27",
          "2022-03-13",
          "2022-02-27",
          "2022-02-13",
          "2022-01-16",
          "2022-01-02",
          "2021-12-19",
          "2021-12-05",
          "2021-11-21",
          "2021-10-01",
          "2021-09-16",
          "2021-09-13",
          "2021-08-24",
          "2021-08-06",
          "2021-07-22",
          "2021-07-08",
          "2021-06-24",
          "2021-06-11",
          "2021-05-28",
          "2021-05-13",
          "2021-05-03",
          "2021-04-14",
          "2021-03-31",
          "2021-03-17",
          "2021-02-25",
          "2021-02-11",
          "2021-01-22",
          "2021-01-07",
          "2020-12-30",
          "2020-12-10",
          "2020-11-26",
          "2020-11-14",
          "2020-09-18",
          "2020-09-04",
          "2020-08-21",
          "2020-08-08",
          "2020-08-01",
          "2020-07-25",
          "2020-07-18",
          "2020-07-11",
          "2020-07-04",
          "2020-06-27",
          "2020-06-20",
          "2020-06-13",
          "2020-06-06",
          "2020-05-30",
          "2020-05-23",
          "2020-05-16",
          "2020-05-09",
          "2020-05-02",
          "2020-04-25",
          "2020-04-18",
          "2020-04-11",
          "2020-03-21",
          "2020-02-29",
          "2020-02-08",
          "2020-01-04",
          "2019-12-21",
          "2019-11-30",
          "2019-10-26",
          "2019-09-30",
          "2019-09-21",
          "2019-08-31",
          "2019-08-03",
          "2019-06-01",
          "2019-05-04"
         ],
         "xaxis": "x",
         "y": {
          "bdata": "AAAAAAAAQUAAAAAAAIBBQAAAAAAAAEJAAAAAAAAAQkAAAAAAAABCQAAAAAAAAEJAAAAAAAAAQkAAAAAAAIBCQAAAAAAAgERAAAAAAAAARkAAAAAAAABGQAAAAAAAgEZAAAAAAAAAR0AAAAAAAIBHQAAAAAAAAEhAAAAAAACASUAAAAAAAIBLQAAAAAAAAE9AAAAAAAAAT0AAAAAAAABPQAAAAAAAgE9AAAAAAACAT0AAAAAAAABQQAAAAAAAgE9AAAAAAAAAUEAAAAAAAEBQQAAAAAAAgFBAAAAAAACAUEAAAAAAAMBQQAAAAAAAgFBAAAAAAACAUEAAAAAAAMBQQAAAAAAAgFBAAAAAAACAUEAAAAAAAIBQQAAAAAAAgFBAAAAAAACAUEAAAAAAAIBQQAAAAAAAgFBAAAAAAABAUEAAAAAAAEBQQAAAAAAAAFFAAAAAAAAAUUAAAAAAAABRQAAAAAAAAFFAAAAAAADAUEAAAAAAAIBRQAAAAAAAgFFAAAAAAACAUUAAAAAAAEBRQAAAAAAAAFFAAAAAAABAUUAAAAAAAIBRQAAAAAAAwFFAAAAAAADAUUAAAAAAAMBRQAAAAAAAwFFAAAAAAADAUUAAAAAAAABSQAAAAAAAAFJAAAAAAAAAUkAAAAAAAABSQAAAAAAAAFJAAAAAAABAUkAAAAAAAEBSQAAAAAAAQFJAAAAAAAAAUkAAAAAAAMBRQAAAAAAAgFFAAAAAAACAUUAAAAAAAABSQAAAAAAAwFFAAAAAAAAAUkAAAAAAAEBSQAAAAAAAgFJAAAAAAAAAU0AAAAAAAEBTQAAAAAAAQFNAAAAAAACAU0AAAAAAAIBTQAAAAAAAQFNAAAAAAAAAVEAAAAAAAIBUQAAAAAAAwFRAAAAAAADAVEAAAAAAAMBUQAAAAAAAwFRAAAAAAACAVEAAAAAAAIBUQAAAAAAAgFRAAAAAAADAU0AAAAAAAIBVQAAAAAAAQFVAAAAAAABAVUAAAAAAAEBVQAAAAAAAQFVAAAAAAABAVUAAAAAAAABVQAAAAAAAQFVAAAAAAABAVUAAAAAAAEBVQAAAAAAAQFVAAAAAAADAVEAAAAAAAMBUQAAAAAAAwFNAAAAAAACAUkAAAAAAAABSQAAAAAAAwFFAAAAAAACAUUAAAAAAAIBRQAAAAAAAgFFAAAAAAADAUUAAAAAAAMBRQAAAAAAAAFJAAAAAAABAUkAAAAAAAEBSQAAAAAAAQFJAAAAAAACAUkAAAAAAAEBSQAAAAAAAQFJAAAAAAABAUkAAAAAAAIBSQAAAAAAAQFJAAAAAAABAUkAAAAAAAABSQAAAAAAAAFJAAAAAAAAAUkAAAAAAAABSQAAAAAAAAFJAAAAAAADAUUAAAAAAAMBRQAAAAAAAgFFAAAAAAABAUUAAAAAAAABRQAAAAAAAQFBAAAAAAAAAUEAAAAAAAEBQQAAAAAAAgFBAAAAAAACAUEAAAAAAAIBQQAAAAAAAgFBAAAAAAACAUEAAAAAAAIBQQAAAAAAAwFBAAAAAAAAAUUAAAAAAAABRQAAAAAAAwFBA",
          "dtype": "f8"
         },
         "yaxis": "y"
        },
        {
         "hovertemplate": "Criminal Status=Pending Criminal Charges<br>date=%{x}<br>percent=%{y}<extra></extra>",
         "legendgroup": "Pending Criminal Charges",
         "line": {
          "color": "#ff7f00",
          "dash": "solid"
         },
         "marker": {
          "symbol": "circle"
         },
         "mode": "lines",
         "name": "Pending Criminal Charges",
         "orientation": "v",
         "showlegend": true,
         "type": "scatter",
         "x": [
          "2025-09-21",
          "2025-09-07",
          "2025-08-24",
          "2025-08-10",
          "2025-07-27",
          "2025-07-13",
          "2025-06-29",
          "2025-06-15",
          "2025-06-01",
          "2025-05-18",
          "2025-05-04",
          "2025-04-20",
          "2025-04-06",
          "2025-03-23",
          "2025-03-09",
          "2025-02-23",
          "2025-02-09",
          "2025-01-26",
          "2025-01-12",
          "2024-12-29",
          "2024-12-15",
          "2024-12-01",
          "2024-11-03",
          "2024-09-08",
          "2024-08-25",
          "2024-08-11",
          "2024-07-14",
          "2024-06-30",
          "2024-06-16",
          "2024-06-02",
          "2024-05-19",
          "2024-05-05",
          "2024-04-21",
          "2024-04-07",
          "2024-03-24",
          "2024-03-10",
          "2024-02-25",
          "2024-02-11",
          "2024-01-28",
          "2024-01-13",
          "2023-12-31",
          "2023-12-17",
          "2023-12-03",
          "2023-11-19",
          "2023-11-05",
          "2023-10-03",
          "2023-09-24",
          "2023-09-10",
          "2023-08-27",
          "2023-08-13",
          "2023-07-30",
          "2023-07-16",
          "2023-07-02",
          "2023-06-18",
          "2023-06-04",
          "2023-05-21",
          "2023-05-07",
          "2023-04-23",
          "2023-04-09",
          "2023-03-26",
          "2023-03-12",
          "2023-02-26",
          "2023-02-12",
          "2023-01-29",
          "2023-01-15",
          "2023-01-01",
          "2022-12-18",
          "2022-12-04",
          "2022-11-20",
          "2022-10-31",
          "2022-09-25",
          "2022-09-10",
          "2022-08-15",
          "2022-07-31",
          "2022-07-17",
          "2022-07-05",
          "2022-06-19",
          "2022-06-05",
          "2022-05-07",
          "2022-04-24",
          "2022-04-11",
          "2022-03-27",
          "2022-03-13",
          "2022-02-27",
          "2022-02-13",
          "2022-01-16",
          "2022-01-02",
          "2021-12-19",
          "2021-12-05",
          "2021-11-21",
          "2021-10-01",
          "2021-09-16",
          "2021-09-13",
          "2021-08-24",
          "2021-08-06",
          "2021-07-22",
          "2021-07-08",
          "2021-06-24",
          "2021-06-11",
          "2021-05-28",
          "2021-05-13",
          "2021-05-03",
          "2021-04-14",
          "2021-03-31",
          "2021-03-17",
          "2021-02-25",
          "2021-02-11",
          "2021-01-22",
          "2021-01-07",
          "2020-12-30",
          "2020-12-10",
          "2020-11-26",
          "2020-11-14",
          "2020-09-18",
          "2020-09-04",
          "2020-08-21",
          "2020-08-08",
          "2020-08-01",
          "2020-07-25",
          "2020-07-18",
          "2020-07-11",
          "2020-07-04",
          "2020-06-27",
          "2020-06-20",
          "2020-06-13",
          "2020-06-06",
          "2020-05-30",
          "2020-05-23",
          "2020-05-16",
          "2020-05-09",
          "2020-05-02",
          "2020-04-25",
          "2020-04-18",
          "2020-04-11",
          "2020-03-21",
          "2020-02-29",
          "2020-02-08",
          "2020-01-04",
          "2019-12-21",
          "2019-11-30",
          "2019-10-26",
          "2019-09-30",
          "2019-09-21",
          "2019-08-31",
          "2019-08-03",
          "2019-06-01",
          "2019-05-04"
         ],
         "xaxis": "x",
         "y": {
          "bdata": "AAAAAAAAPkAAAAAAAAA+QAAAAAAAAD9AAAAAAAAAP0AAAAAAAAA/QAAAAAAAAD9AAAAAAAAAQEAAAAAAAIBAQAAAAAAAgEJAAAAAAAAAQ0AAAAAAAABDQAAAAAAAgEJAAAAAAACAQUAAAAAAAIBBQAAAAAAAgEBAAAAAAACAQEAAAAAAAAA/QAAAAAAAAD9AAAAAAAAAQEAAAAAAAABAQAAAAAAAAD9AAAAAAAAAP0AAAAAAAAA+QAAAAAAAAD9AAAAAAAAAPkAAAAAAAAA+QAAAAAAAADxAAAAAAAAAPEAAAAAAAAA8QAAAAAAAADxAAAAAAAAAO0AAAAAAAAA6QAAAAAAAADpAAAAAAAAAOkAAAAAAAAA6QAAAAAAAADpAAAAAAAAAOUAAAAAAAAA4QAAAAAAAADhAAAAAAAAAOEAAAAAAAAA4QAAAAAAAADdAAAAAAAAAN0AAAAAAAAA3QAAAAAAAADdAAAAAAAAAN0AAAAAAAAA5QAAAAAAAADlAAAAAAAAAOUAAAAAAAAA6QAAAAAAAADtAAAAAAAAAOUAAAAAAAAA5QAAAAAAAADhAAAAAAAAAOEAAAAAAAAA4QAAAAAAAADdAAAAAAAAAN0AAAAAAAAA2QAAAAAAAADdAAAAAAAAAN0AAAAAAAAA3QAAAAAAAADdAAAAAAAAAN0AAAAAAAAA3QAAAAAAAADdAAAAAAAAAN0AAAAAAAAA4QAAAAAAAADhAAAAAAAAAOEAAAAAAAAA2QAAAAAAAADdAAAAAAAAANUAAAAAAAAA0QAAAAAAAADNAAAAAAAAAMkAAAAAAAAAxQAAAAAAAADFAAAAAAAAAMUAAAAAAAAAwQAAAAAAAAC5AAAAAAAAALEAAAAAAAAAsQAAAAAAAACpAAAAAAAAAKkAAAAAAAAAoQAAAAAAAAChAAAAAAAAAKEAAAAAAAAAqQAAAAAAAACpAAAAAAAAAJkAAAAAAAAAkQAAAAAAAACZAAAAAAAAAJEAAAAAAAAAiQAAAAAAAACRAAAAAAAAAIkAAAAAAAAAiQAAAAAAAACJAAAAAAAAAIkAAAAAAAAAiQAAAAAAAACRAAAAAAAAAJkAAAAAAAAAoQAAAAAAAAC5AAAAAAAAANEAAAAAAAAA2QAAAAAAAADhAAAAAAAAAOEAAAAAAAAA4QAAAAAAAADlAAAAAAAAAOEAAAAAAAAA4QAAAAAAAADdAAAAAAAAANkAAAAAAAAA1QAAAAAAAADVAAAAAAAAANUAAAAAAAAA1QAAAAAAAADVAAAAAAAAANUAAAAAAAAA0QAAAAAAAADRAAAAAAAAANUAAAAAAAAA1QAAAAAAAADVAAAAAAAAANUAAAAAAAAA1QAAAAAAAADVAAAAAAAAANUAAAAAAAAA1QAAAAAAAADZAAAAAAAAANkAAAAAAAAA3QAAAAAAAADhAAAAAAAAAOUAAAAAAAAA4QAAAAAAAADlAAAAAAAAAOEAAAAAAAAA4QAAAAAAAADdAAAAAAAAAN0AAAAAAAAA4QAAAAAAAADdAAAAAAAAAN0AAAAAAAAA3QAAAAAAAADdA",
          "dtype": "f8"
         },
         "yaxis": "y"
        },
        {
         "hovertemplate": "Criminal Status=Other Immigration Violator<br>date=%{x}<br>percent=%{y}<extra></extra>",
         "legendgroup": "Other Immigration Violator",
         "line": {
          "color": "#a65628",
          "dash": "solid"
         },
         "marker": {
          "symbol": "circle"
         },
         "mode": "lines",
         "name": "Other Immigration Violator",
         "orientation": "v",
         "showlegend": true,
         "type": "scatter",
         "x": [
          "2025-09-21",
          "2025-09-07",
          "2025-08-24",
          "2025-08-10",
          "2025-07-27",
          "2025-07-13",
          "2025-06-29",
          "2025-06-15",
          "2025-06-01",
          "2025-05-18",
          "2025-05-04",
          "2025-04-20",
          "2025-04-06",
          "2025-03-23",
          "2025-03-09",
          "2025-02-23",
          "2025-02-09",
          "2025-01-26",
          "2025-01-12",
          "2024-12-29",
          "2024-12-15",
          "2024-12-01",
          "2024-11-03",
          "2024-09-08",
          "2024-08-25",
          "2024-08-11",
          "2024-07-14",
          "2024-06-30",
          "2024-06-16",
          "2024-06-02",
          "2024-05-19",
          "2024-05-05",
          "2024-04-21",
          "2024-04-07",
          "2024-03-24",
          "2024-03-10",
          "2024-02-25",
          "2024-02-11",
          "2024-01-28",
          "2024-01-13",
          "2023-12-31",
          "2023-12-17",
          "2023-12-03",
          "2023-11-19",
          "2023-11-05",
          "2023-10-03",
          "2023-09-24",
          "2023-09-10",
          "2023-08-27",
          "2023-08-13",
          "2023-07-30",
          "2023-07-16",
          "2023-07-02",
          "2023-06-18",
          "2023-06-04",
          "2023-05-21",
          "2023-05-07",
          "2023-04-23",
          "2023-04-09",
          "2023-03-26",
          "2023-03-12",
          "2023-02-26",
          "2023-02-12",
          "2023-01-29",
          "2023-01-15",
          "2023-01-01",
          "2022-12-18",
          "2022-12-04",
          "2022-11-20",
          "2022-10-31",
          "2022-09-25",
          "2022-09-10",
          "2022-08-15",
          "2022-07-31",
          "2022-07-17",
          "2022-07-05",
          "2022-06-19",
          "2022-06-05",
          "2022-05-07",
          "2022-04-24",
          "2022-04-11",
          "2022-03-27",
          "2022-03-13",
          "2022-02-27",
          "2022-02-13",
          "2022-01-16",
          "2022-01-02",
          "2021-12-19",
          "2021-12-05",
          "2021-11-21",
          "2021-10-01",
          "2021-09-16",
          "2021-09-13",
          "2021-08-24",
          "2021-08-06",
          "2021-07-22",
          "2021-07-08",
          "2021-06-24",
          "2021-06-11",
          "2021-05-28",
          "2021-05-13",
          "2021-05-03",
          "2021-04-14",
          "2021-03-31",
          "2021-03-17",
          "2021-02-25",
          "2021-02-11",
          "2021-01-22",
          "2021-01-07",
          "2020-12-30",
          "2020-12-10",
          "2020-11-26",
          "2020-11-14",
          "2020-09-18",
          "2020-09-04",
          "2020-08-21",
          "2020-08-08",
          "2020-08-01",
          "2020-07-25",
          "2020-07-18",
          "2020-07-11",
          "2020-07-04",
          "2020-06-27",
          "2020-06-20",
          "2020-06-13",
          "2020-06-06",
          "2020-05-30",
          "2020-05-23",
          "2020-05-16",
          "2020-05-09",
          "2020-05-02",
          "2020-04-25",
          "2020-04-18",
          "2020-04-11",
          "2020-03-21",
          "2020-02-29",
          "2020-02-08",
          "2020-01-04",
          "2019-12-21",
          "2019-11-30",
          "2019-10-26",
          "2019-09-30",
          "2019-09-21",
          "2019-08-31",
          "2019-08-03",
          "2019-06-01",
          "2019-05-04"
         ],
         "xaxis": "x",
         "y": {
          "bdata": "AAAAAAAAQkAAAAAAAIBBQAAAAAAAAEFAAAAAAACAQEAAAAAAAIBAQAAAAAAAgEBAAAAAAAAAQEAAAAAAAAA+QAAAAAAAADdAAAAAAAAAM0AAAAAAAAAyQAAAAAAAADJAAAAAAAAAMkAAAAAAAAAyQAAAAAAAADJAAAAAAAAAMEAAAAAAAAAsQAAAAAAAABhAAAAAAAAAGEAAAAAAAAAYQAAAAAAAABhAAAAAAAAAGEAAAAAAAAAYQAAAAAAAABhAAAAAAAAAGEAAAAAAAAAYQAAAAAAAABhAAAAAAAAAGEAAAAAAAAAYQAAAAAAAABhAAAAAAAAAHEAAAAAAAAAcQAAAAAAAACBAAAAAAAAAIEAAAAAAAAAgQAAAAAAAACJAAAAAAAAAIkAAAAAAAAAkQAAAAAAAACRAAAAAAAAAJkAAAAAAAAAoQAAAAAAAACJAAAAAAAAAIkAAAAAAAAAiQAAAAAAAACJAAAAAAAAAJEAAAAAAAAAUQAAAAAAAABRAAAAAAAAAFEAAAAAAAAAUQAAAAAAAABRAAAAAAAAAFEAAAAAAAAAUQAAAAAAAABRAAAAAAAAAFEAAAAAAAAAUQAAAAAAAABRAAAAAAAAAFEAAAAAAAAAUQAAAAAAAABRAAAAAAAAAFEAAAAAAAAAUQAAAAAAAABRAAAAAAAAAEEAAAAAAAAAUQAAAAAAAABBAAAAAAAAAFEAAAAAAAAAUQAAAAAAAABhAAAAAAAAAGEAAAAAAAAAYQAAAAAAAABhAAAAAAAAAHEAAAAAAAAAcQAAAAAAAABxAAAAAAAAAGEAAAAAAAAAYQAAAAAAAABhAAAAAAAAAGEAAAAAAAAAYQAAAAAAAACBAAAAAAAAAGEAAAAAAAAAQQAAAAAAAABBAAAAAAAAAEEAAAAAAAAAUQAAAAAAAABRAAAAAAAAAFEAAAAAAAAAUQAAAAAAAABhAAAAAAAAAJEAAAAAAAAAQQAAAAAAAABBAAAAAAAAAFEAAAAAAAAAUQAAAAAAAABRAAAAAAAAAGEAAAAAAAAAcQAAAAAAAABhAAAAAAAAAFEAAAAAAAAAYQAAAAAAAABRAAAAAAAAAGEAAAAAAAAAUQAAAAAAAABhAAAAAAAAAGEAAAAAAAAAYQAAAAAAAABRAAAAAAAAAFEAAAAAAAAAYQAAAAAAAABRAAAAAAAAAFEAAAAAAAAAUQAAAAAAAABRAAAAAAAAAFEAAAAAAAAAUQAAAAAAAABhAAAAAAAAAGEAAAAAAAAAYQAAAAAAAABhAAAAAAAAAGEAAAAAAAAAYQAAAAAAAABhAAAAAAAAAHEAAAAAAAAAcQAAAAAAAABxAAAAAAAAAHEAAAAAAAAAcQAAAAAAAABxAAAAAAAAAIEAAAAAAAAAgQAAAAAAAACBAAAAAAAAAIEAAAAAAAAAiQAAAAAAAACZAAAAAAAAAJkAAAAAAAAAmQAAAAAAAACJAAAAAAAAAJEAAAAAAAAAkQAAAAAAAACRAAAAAAAAAJEAAAAAAAAAkQAAAAAAAACRAAAAAAAAAIkAAAAAAAAAiQAAAAAAAACJA",
          "dtype": "f8"
         },
         "yaxis": "y"
        }
       ],
       "layout": {
        "annotations": [
         {
          "showarrow": false,
          "text": "Joe Biden",
          "x": "2021-01-20T00:00:00",
          "xanchor": "left",
          "xshift": 5,
          "y": 86,
          "yanchor": "bottom"
         },
         {
          "showarrow": false,
          "text": "Donald Trump",
          "x": "2025-01-20T00:00:00",
          "xanchor": "left",
          "xshift": 5,
          "y": 86,
          "yanchor": "bottom"
         }
        ],
        "legend": {
         "orientation": "h",
         "title": {
          "text": "Criminal Status"
         },
         "tracegroupgap": 0,
         "x": 0,
         "xanchor": "left",
         "y": 1.02,
         "yanchor": "bottom"
        },
        "margin": {
         "t": 100
        },
        "shapes": [
         {
          "line": {
           "color": "black",
           "dash": "dash"
          },
          "type": "line",
          "x0": "2021-01-20T00:00:00",
          "x1": "2021-01-20T00:00:00",
          "xref": "x",
          "y0": 0,
          "y1": 1,
          "yref": "y domain"
         },
         {
          "line": {
           "color": "black",
           "dash": "dash"
          },
          "type": "line",
          "x0": "2025-01-20T00:00:00",
          "x1": "2025-01-20T00:00:00",
          "xref": "x",
          "y0": 0,
          "y1": 1,
          "yref": "y domain"
         }
        ],
        "template": {
         "data": {
          "candlestick": [
           {
            "decreasing": {
             "line": {
              "color": "#000033"
             }
            },
            "increasing": {
             "line": {
              "color": "#000032"
             }
            },
            "type": "candlestick"
           }
          ],
          "contour": [
           {
            "colorscale": [
             [
              0,
              "#000011"
             ],
             [
              0.1111111111111111,
              "#000012"
             ],
             [
              0.2222222222222222,
              "#000013"
             ],
             [
              0.3333333333333333,
              "#000014"
             ],
             [
              0.4444444444444444,
              "#000015"
             ],
             [
              0.5555555555555556,
              "#000016"
             ],
             [
              0.6666666666666666,
              "#000017"
             ],
             [
              0.7777777777777778,
              "#000018"
             ],
             [
              0.8888888888888888,
              "#000019"
             ],
             [
              1,
              "#000020"
             ]
            ],
            "type": "contour"
           }
          ],
          "contourcarpet": [
           {
            "colorscale": [
             [
              0,
              "#000011"
             ],
             [
              0.1111111111111111,
              "#000012"
             ],
             [
              0.2222222222222222,
              "#000013"
             ],
             [
              0.3333333333333333,
              "#000014"
             ],
             [
              0.4444444444444444,
              "#000015"
             ],
             [
              0.5555555555555556,
              "#000016"
             ],
             [
              0.6666666666666666,
              "#000017"
             ],
             [
              0.7777777777777778,
              "#000018"
             ],
             [
              0.8888888888888888,
              "#000019"
             ],
             [
              1,
              "#000020"
             ]
            ],
            "type": "contourcarpet"
           }
          ],
          "heatmap": [
           {
            "colorscale": [
             [
              0,
              "#000011"
             ],
             [
              0.1111111111111111,
              "#000012"
             ],
             [
              0.2222222222222222,
              "#000013"
             ],
             [
              0.3333333333333333,
              "#000014"
             ],
             [
              0.4444444444444444,
              "#000015"
             ],
             [
              0.5555555555555556,
              "#000016"
             ],
             [
              0.6666666666666666,
              "#000017"
             ],
             [
              0.7777777777777778,
              "#000018"
             ],
             [
              0.8888888888888888,
              "#000019"
             ],
             [
              1,
              "#000020"
             ]
            ],
            "type": "heatmap"
           }
          ],
          "histogram2d": [
           {
            "colorscale": [
             [
              0,
              "#000011"
             ],
             [
              0.1111111111111111,
              "#000012"
             ],
             [
              0.2222222222222222,
              "#000013"
             ],
             [
              0.3333333333333333,
              "#000014"
             ],
             [
              0.4444444444444444,
              "#000015"
             ],
             [
              0.5555555555555556,
              "#000016"
             ],
             [
              0.6666666666666666,
              "#000017"
             ],
             [
              0.7777777777777778,
              "#000018"
             ],
             [
              0.8888888888888888,
              "#000019"
             ],
             [
              1,
              "#000020"
             ]
            ],
            "type": "histogram2d"
           }
          ],
          "icicle": [
           {
            "textfont": {
             "color": "white"
            },
            "type": "icicle"
           }
          ],
          "sankey": [
           {
            "textfont": {
             "color": "#000036"
            },
            "type": "sankey"
           }
          ],
          "scatter": [
           {
            "marker": {
             "line": {
              "width": 0
             }
            },
            "type": "scatter"
           }
          ],
          "table": [
           {
            "cells": {
             "fill": {
              "color": "#000038"
             },
             "font": {
              "color": "#000037"
             },
             "line": {
              "color": "#000039"
             }
            },
            "header": {
             "fill": {
              "color": "#000040"
             },
             "font": {
              "color": "#000036"
             },
             "line": {
              "color": "#000039"
             }
            },
            "type": "table"
           }
          ],
          "waterfall": [
           {
            "connector": {
             "line": {
              "color": "#000036",
              "width": 2
             }
            },
            "decreasing": {
             "marker": {
              "color": "#000033"
             }
            },
            "increasing": {
             "marker": {
              "color": "#000032"
             }
            },
            "totals": {
             "marker": {
              "color": "#000034"
             }
            },
            "type": "waterfall"
           }
          ]
         },
         "layout": {
          "coloraxis": {
           "colorscale": [
            [
             0,
             "#000011"
            ],
            [
             0.1111111111111111,
             "#000012"
            ],
            [
             0.2222222222222222,
             "#000013"
            ],
            [
             0.3333333333333333,
             "#000014"
            ],
            [
             0.4444444444444444,
             "#000015"
            ],
            [
             0.5555555555555556,
             "#000016"
            ],
            [
             0.6666666666666666,
             "#000017"
            ],
            [
             0.7777777777777778,
             "#000018"
            ],
            [
             0.8888888888888888,
             "#000019"
            ],
            [
             1,
             "#000020"
            ]
           ]
          },
          "colorscale": {
           "diverging": [
            [
             0,
             "#000021"
            ],
            [
             0.1,
             "#000022"
            ],
            [
             0.2,
             "#000023"
            ],
            [
             0.3,
             "#000024"
            ],
            [
             0.4,
             "#000025"
            ],
            [
             0.5,
             "#000026"
            ],
            [
             0.6,
             "#000027"
            ],
            [
             0.7,
             "#000028"
            ],
            [
             0.8,
             "#000029"
            ],
            [
             0.9,
             "#000030"
            ],
            [
             1,
             "#000031"
            ]
           ],
           "sequential": [
            [
             0,
             "#000011"
            ],
            [
             0.1111111111111111,
             "#000012"
            ],
            [
             0.2222222222222222,
             "#000013"
            ],
            [
             0.3333333333333333,
             "#000014"
            ],
            [
             0.4444444444444444,
             "#000015"
            ],
            [
             0.5555555555555556,
             "#000016"
            ],
            [
             0.6666666666666666,
             "#000017"
            ],
            [
             0.7777777777777778,
             "#000018"
            ],
            [
             0.8888888888888888,
             "#000019"
            ],
            [
             1,
             "#000020"
            ]
           ],
           "sequentialminus": [
            [
             0,
             "#000011"
            ],
            [
             0.1111111111111111,
             "#000012"
            ],
            [
             0.2222222222222222,
             "#000013"
            ],
            [
             0.3333333333333333,
             "#000014"
            ],
            [
             0.4444444444444444,
             "#000015"
            ],
            [
             0.5555555555555556,
             "#000016"
            ],
            [
             0.6666666666666666,
             "#000017"
            ],
            [
             0.7777777777777778,
             "#000018"
            ],
            [
             0.8888888888888888,
             "#000019"
            ],
            [
             1,
             "#000020"
            ]
           ]
          },
          "colorway": [
           "#000001",
           "#000002",
           "#000003",
           "#000004",
           "#000005",
           "#000006",
           "#000007",
           "#000008",
           "#000009",
           "#000010"
          ]
         }
        },
        "title": {
         "text": "ICE Detainees (Detained by ICE) by Date* and Criminality**"
        },
        "xaxis": {
         "anchor": "y",
         "domain": [
          0,
          1
         ],
         "title": {
          "text": "Date"
         }
        },
        "yaxis": {
         "anchor": "x",
         "domain": [
          0,
          1
         ],
         "title": {
          "text": "Percent"
         }
        }
       }
      }
     },
     "metadata": {},
     "output_type": "display_data"
    }
   ],
   "source": [
    "detentions.get_criminality_pct_chart(authority=\"ICE\")"
   ]
  }
 ],
 "metadata": {
  "kernelspec": {
   "display_name": ".venv",
   "language": "python",
   "name": "python3"
  },
  "language_info": {
   "codemirror_mode": {
    "name": "ipython",
    "version": 3
   },
   "file_extension": ".py",
   "mimetype": "text/x-python",
   "name": "python",
   "nbconvert_exporter": "python",
   "pygments_lexer": "ipython3",
   "version": "3.12.7"
  }
 },
 "nbformat": 4,
 "nbformat_minor": 5
}
