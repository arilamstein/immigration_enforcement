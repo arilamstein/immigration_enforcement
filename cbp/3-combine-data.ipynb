{
 "cells": [
  {
   "cell_type": "markdown",
   "id": "8cecb46d",
   "metadata": {},
   "source": [
    "# 3) Combining Encounter Data with Detention Data\n",
    "\n",
    "In an earlier [blog post]() I wrote:\n",
    "\n",
    "> President Trump took office in January 2025. At that time there were about 39k people detained by ICE and CBP. Six months later that number is about 58k. That’s a 57% increase in six months, and is (just barely) the highest number in the dataset.    \n",
    "> \n",
    "> Equally interesting is the agency-level data: since Trump took office ICE detentions are sharply up, but CBP detentions are down. I am not sure why CBP detentions are down.\n",
    "\n",
    "A statistician with the Department of Homeland Security told me that the decrease in CBP arrests was probably due to a decrease in the number of people attempting to cross the southwest land border. Let's see if those numbers truly go up and down together.\n"
   ]
  },
  {
   "cell_type": "code",
   "execution_count": 12,
   "id": "e259a09b",
   "metadata": {},
   "outputs": [
    {
     "data": {
      "text/html": [
       "<div>\n",
       "<style scoped>\n",
       "    .dataframe tbody tr th:only-of-type {\n",
       "        vertical-align: middle;\n",
       "    }\n",
       "\n",
       "    .dataframe tbody tr th {\n",
       "        vertical-align: top;\n",
       "    }\n",
       "\n",
       "    .dataframe thead th {\n",
       "        text-align: right;\n",
       "    }\n",
       "</style>\n",
       "<table border=\"1\" class=\"dataframe\">\n",
       "  <thead>\n",
       "    <tr style=\"text-align: right;\">\n",
       "      <th></th>\n",
       "      <th>date</th>\n",
       "      <th>Coastal Border</th>\n",
       "      <th>Northern Land Border</th>\n",
       "      <th>Southwest Land Border</th>\n",
       "    </tr>\n",
       "  </thead>\n",
       "  <tbody>\n",
       "    <tr>\n",
       "      <th>0</th>\n",
       "      <td>1999-10-01</td>\n",
       "      <td>740</td>\n",
       "      <td>1250</td>\n",
       "      <td>87820</td>\n",
       "    </tr>\n",
       "    <tr>\n",
       "      <th>1</th>\n",
       "      <td>1999-11-01</td>\n",
       "      <td>500</td>\n",
       "      <td>960</td>\n",
       "      <td>74360</td>\n",
       "    </tr>\n",
       "    <tr>\n",
       "      <th>2</th>\n",
       "      <td>1999-12-01</td>\n",
       "      <td>530</td>\n",
       "      <td>1010</td>\n",
       "      <td>66260</td>\n",
       "    </tr>\n",
       "    <tr>\n",
       "      <th>3</th>\n",
       "      <td>2000-01-01</td>\n",
       "      <td>690</td>\n",
       "      <td>1140</td>\n",
       "      <td>175380</td>\n",
       "    </tr>\n",
       "    <tr>\n",
       "      <th>4</th>\n",
       "      <td>2000-02-01</td>\n",
       "      <td>780</td>\n",
       "      <td>1080</td>\n",
       "      <td>200620</td>\n",
       "    </tr>\n",
       "    <tr>\n",
       "      <th>...</th>\n",
       "      <td>...</td>\n",
       "      <td>...</td>\n",
       "      <td>...</td>\n",
       "      <td>...</td>\n",
       "    </tr>\n",
       "    <tr>\n",
       "      <th>297</th>\n",
       "      <td>2024-07-01</td>\n",
       "      <td>220</td>\n",
       "      <td>3040</td>\n",
       "      <td>56400</td>\n",
       "    </tr>\n",
       "    <tr>\n",
       "      <th>298</th>\n",
       "      <td>2024-08-01</td>\n",
       "      <td>240</td>\n",
       "      <td>2430</td>\n",
       "      <td>58010</td>\n",
       "    </tr>\n",
       "    <tr>\n",
       "      <th>299</th>\n",
       "      <td>2024-09-01</td>\n",
       "      <td>340</td>\n",
       "      <td>1790</td>\n",
       "      <td>53860</td>\n",
       "    </tr>\n",
       "    <tr>\n",
       "      <th>300</th>\n",
       "      <td>2024-10-01</td>\n",
       "      <td>320</td>\n",
       "      <td>1280</td>\n",
       "      <td>56530</td>\n",
       "    </tr>\n",
       "    <tr>\n",
       "      <th>301</th>\n",
       "      <td>2024-11-01</td>\n",
       "      <td>220</td>\n",
       "      <td>700</td>\n",
       "      <td>46610</td>\n",
       "    </tr>\n",
       "  </tbody>\n",
       "</table>\n",
       "<p>302 rows × 4 columns</p>\n",
       "</div>"
      ],
      "text/plain": [
       "          date  Coastal Border  Northern Land Border  Southwest Land Border\n",
       "0   1999-10-01             740                  1250                  87820\n",
       "1   1999-11-01             500                   960                  74360\n",
       "2   1999-12-01             530                  1010                  66260\n",
       "3   2000-01-01             690                  1140                 175380\n",
       "4   2000-02-01             780                  1080                 200620\n",
       "..         ...             ...                   ...                    ...\n",
       "297 2024-07-01             220                  3040                  56400\n",
       "298 2024-08-01             240                  2430                  58010\n",
       "299 2024-09-01             340                  1790                  53860\n",
       "300 2024-10-01             320                  1280                  56530\n",
       "301 2024-11-01             220                   700                  46610\n",
       "\n",
       "[302 rows x 4 columns]"
      ]
     },
     "execution_count": 12,
     "metadata": {},
     "output_type": "execute_result"
    }
   ],
   "source": [
    "import pandas as pd\n",
    "from datetime import datetime\n",
    "import plotly.express as px\n",
    "import plotly.io as pio\n",
    "import cbp_functions as cbp\n",
    "from IPython.display import display\n",
    "\n",
    "# Don't want to duplicate the variable here, and this seems to be the prefered way to import something\n",
    "# when you're not dealing with a \"proper\" package (which notebooks are not)\n",
    "import sys\n",
    "\n",
    "sys.path.append(\"..\")\n",
    "import backend as be\n",
    "\n",
    "# Allows plotly plots to render interactively locally, but as static images when viewed in github.\n",
    "# Without this the plotly images simply do not render in github.\n",
    "pio.renderers.default = \"vscode+png\"\n",
    "\n",
    "# Read in data and rename columns for convenience.\n",
    "df_encounters = cbp.get_monthly_region_df(\"wide\")\n",
    "#df_encounters = df_encounters.sort_values(\"date\")\n",
    "df_encounters"
   ]
  },
  {
   "cell_type": "code",
   "execution_count": 13,
   "id": "2cfe016d",
   "metadata": {},
   "outputs": [
    {
     "data": {
      "text/html": [
       "<div>\n",
       "<style scoped>\n",
       "    .dataframe tbody tr th:only-of-type {\n",
       "        vertical-align: middle;\n",
       "    }\n",
       "\n",
       "    .dataframe tbody tr th {\n",
       "        vertical-align: top;\n",
       "    }\n",
       "\n",
       "    .dataframe thead th {\n",
       "        text-align: right;\n",
       "    }\n",
       "</style>\n",
       "<table border=\"1\" class=\"dataframe\">\n",
       "  <thead>\n",
       "    <tr style=\"text-align: right;\">\n",
       "      <th></th>\n",
       "      <th>date</th>\n",
       "      <th>ice_all</th>\n",
       "      <th>cbp_all</th>\n",
       "      <th>total_all</th>\n",
       "      <th>ice_other</th>\n",
       "      <th>cbp_other</th>\n",
       "      <th>total_other</th>\n",
       "      <th>ice_pend</th>\n",
       "      <th>cbp_pend</th>\n",
       "      <th>total_pend</th>\n",
       "      <th>ice_conv</th>\n",
       "      <th>cbp_conv</th>\n",
       "      <th>total_conv</th>\n",
       "    </tr>\n",
       "  </thead>\n",
       "  <tbody>\n",
       "    <tr>\n",
       "      <th>146</th>\n",
       "      <td>2019-05-04</td>\n",
       "      <td>19549</td>\n",
       "      <td>30096</td>\n",
       "      <td>49645</td>\n",
       "      <td>1797</td>\n",
       "      <td>24625</td>\n",
       "      <td>26422</td>\n",
       "      <td>4571</td>\n",
       "      <td>1115</td>\n",
       "      <td>5686</td>\n",
       "      <td>13181</td>\n",
       "      <td>4356</td>\n",
       "      <td>17537</td>\n",
       "    </tr>\n",
       "    <tr>\n",
       "      <th>145</th>\n",
       "      <td>2019-06-01</td>\n",
       "      <td>19060</td>\n",
       "      <td>33405</td>\n",
       "      <td>52465</td>\n",
       "      <td>1772</td>\n",
       "      <td>27895</td>\n",
       "      <td>29667</td>\n",
       "      <td>4410</td>\n",
       "      <td>1163</td>\n",
       "      <td>5573</td>\n",
       "      <td>12878</td>\n",
       "      <td>4347</td>\n",
       "      <td>17225</td>\n",
       "    </tr>\n",
       "    <tr>\n",
       "      <th>144</th>\n",
       "      <td>2019-08-03</td>\n",
       "      <td>18468</td>\n",
       "      <td>37186</td>\n",
       "      <td>55654</td>\n",
       "      <td>1658</td>\n",
       "      <td>31827</td>\n",
       "      <td>33485</td>\n",
       "      <td>4249</td>\n",
       "      <td>1244</td>\n",
       "      <td>5493</td>\n",
       "      <td>12561</td>\n",
       "      <td>4115</td>\n",
       "      <td>16676</td>\n",
       "    </tr>\n",
       "    <tr>\n",
       "      <th>143</th>\n",
       "      <td>2019-08-31</td>\n",
       "      <td>18101</td>\n",
       "      <td>34829</td>\n",
       "      <td>52930</td>\n",
       "      <td>1841</td>\n",
       "      <td>29577</td>\n",
       "      <td>31418</td>\n",
       "      <td>4146</td>\n",
       "      <td>1169</td>\n",
       "      <td>5315</td>\n",
       "      <td>12114</td>\n",
       "      <td>4083</td>\n",
       "      <td>16197</td>\n",
       "    </tr>\n",
       "    <tr>\n",
       "      <th>142</th>\n",
       "      <td>2019-09-21</td>\n",
       "      <td>18170</td>\n",
       "      <td>33132</td>\n",
       "      <td>51302</td>\n",
       "      <td>1862</td>\n",
       "      <td>28404</td>\n",
       "      <td>30266</td>\n",
       "      <td>4328</td>\n",
       "      <td>1013</td>\n",
       "      <td>5341</td>\n",
       "      <td>11980</td>\n",
       "      <td>3715</td>\n",
       "      <td>15695</td>\n",
       "    </tr>\n",
       "    <tr>\n",
       "      <th>...</th>\n",
       "      <td>...</td>\n",
       "      <td>...</td>\n",
       "      <td>...</td>\n",
       "      <td>...</td>\n",
       "      <td>...</td>\n",
       "      <td>...</td>\n",
       "      <td>...</td>\n",
       "      <td>...</td>\n",
       "      <td>...</td>\n",
       "      <td>...</td>\n",
       "      <td>...</td>\n",
       "      <td>...</td>\n",
       "      <td>...</td>\n",
       "    </tr>\n",
       "    <tr>\n",
       "      <th>4</th>\n",
       "      <td>2025-07-27</td>\n",
       "      <td>42074</td>\n",
       "      <td>14871</td>\n",
       "      <td>56945</td>\n",
       "      <td>13947</td>\n",
       "      <td>12527</td>\n",
       "      <td>26474</td>\n",
       "      <td>12937</td>\n",
       "      <td>1050</td>\n",
       "      <td>13987</td>\n",
       "      <td>15190</td>\n",
       "      <td>1294</td>\n",
       "      <td>16484</td>\n",
       "    </tr>\n",
       "    <tr>\n",
       "      <th>3</th>\n",
       "      <td>2025-08-10</td>\n",
       "      <td>44811</td>\n",
       "      <td>14569</td>\n",
       "      <td>59380</td>\n",
       "      <td>14947</td>\n",
       "      <td>12000</td>\n",
       "      <td>26947</td>\n",
       "      <td>13708</td>\n",
       "      <td>1167</td>\n",
       "      <td>14875</td>\n",
       "      <td>16156</td>\n",
       "      <td>1402</td>\n",
       "      <td>17558</td>\n",
       "    </tr>\n",
       "    <tr>\n",
       "      <th>2</th>\n",
       "      <td>2025-08-24</td>\n",
       "      <td>46595</td>\n",
       "      <td>14631</td>\n",
       "      <td>61226</td>\n",
       "      <td>15764</td>\n",
       "      <td>11664</td>\n",
       "      <td>27428</td>\n",
       "      <td>14212</td>\n",
       "      <td>1381</td>\n",
       "      <td>15593</td>\n",
       "      <td>16619</td>\n",
       "      <td>1586</td>\n",
       "      <td>18205</td>\n",
       "    </tr>\n",
       "    <tr>\n",
       "      <th>1</th>\n",
       "      <td>2025-09-07</td>\n",
       "      <td>44844</td>\n",
       "      <td>13922</td>\n",
       "      <td>58766</td>\n",
       "      <td>15502</td>\n",
       "      <td>11228</td>\n",
       "      <td>26730</td>\n",
       "      <td>13546</td>\n",
       "      <td>1313</td>\n",
       "      <td>14859</td>\n",
       "      <td>15796</td>\n",
       "      <td>1381</td>\n",
       "      <td>17177</td>\n",
       "    </tr>\n",
       "    <tr>\n",
       "      <th>0</th>\n",
       "      <td>2025-09-21</td>\n",
       "      <td>46015</td>\n",
       "      <td>13747</td>\n",
       "      <td>59762</td>\n",
       "      <td>16523</td>\n",
       "      <td>11223</td>\n",
       "      <td>27746</td>\n",
       "      <td>13767</td>\n",
       "      <td>1242</td>\n",
       "      <td>15009</td>\n",
       "      <td>15725</td>\n",
       "      <td>1282</td>\n",
       "      <td>17007</td>\n",
       "    </tr>\n",
       "  </tbody>\n",
       "</table>\n",
       "<p>147 rows × 13 columns</p>\n",
       "</div>"
      ],
      "text/plain": [
       "          date  ice_all  cbp_all  total_all  ice_other  cbp_other  \\\n",
       "146 2019-05-04    19549    30096      49645       1797      24625   \n",
       "145 2019-06-01    19060    33405      52465       1772      27895   \n",
       "144 2019-08-03    18468    37186      55654       1658      31827   \n",
       "143 2019-08-31    18101    34829      52930       1841      29577   \n",
       "142 2019-09-21    18170    33132      51302       1862      28404   \n",
       "..         ...      ...      ...        ...        ...        ...   \n",
       "4   2025-07-27    42074    14871      56945      13947      12527   \n",
       "3   2025-08-10    44811    14569      59380      14947      12000   \n",
       "2   2025-08-24    46595    14631      61226      15764      11664   \n",
       "1   2025-09-07    44844    13922      58766      15502      11228   \n",
       "0   2025-09-21    46015    13747      59762      16523      11223   \n",
       "\n",
       "     total_other  ice_pend  cbp_pend  total_pend  ice_conv  cbp_conv  \\\n",
       "146        26422      4571      1115        5686     13181      4356   \n",
       "145        29667      4410      1163        5573     12878      4347   \n",
       "144        33485      4249      1244        5493     12561      4115   \n",
       "143        31418      4146      1169        5315     12114      4083   \n",
       "142        30266      4328      1013        5341     11980      3715   \n",
       "..           ...       ...       ...         ...       ...       ...   \n",
       "4          26474     12937      1050       13987     15190      1294   \n",
       "3          26947     13708      1167       14875     16156      1402   \n",
       "2          27428     14212      1381       15593     16619      1586   \n",
       "1          26730     13546      1313       14859     15796      1381   \n",
       "0          27746     13767      1242       15009     15725      1282   \n",
       "\n",
       "     total_conv  \n",
       "146       17537  \n",
       "145       17225  \n",
       "144       16676  \n",
       "143       16197  \n",
       "142       15695  \n",
       "..          ...  \n",
       "4         16484  \n",
       "3         17558  \n",
       "2         18205  \n",
       "1         17177  \n",
       "0         17007  \n",
       "\n",
       "[147 rows x 13 columns]"
      ]
     },
     "execution_count": 13,
     "metadata": {},
     "output_type": "execute_result"
    }
   ],
   "source": [
    "df_detention = be.get_detention_data()\n",
    "df_detention[\"date\"] = pd.to_datetime(df_detention[\"date\"])\n",
    "df_detention = df_detention.sort_values(\"date\")\n",
    "df_detention"
   ]
  },
  {
   "cell_type": "code",
   "execution_count": 14,
   "id": "e842cc2d",
   "metadata": {},
   "outputs": [
    {
     "data": {
      "text/html": [
       "<div>\n",
       "<style scoped>\n",
       "    .dataframe tbody tr th:only-of-type {\n",
       "        vertical-align: middle;\n",
       "    }\n",
       "\n",
       "    .dataframe tbody tr th {\n",
       "        vertical-align: top;\n",
       "    }\n",
       "\n",
       "    .dataframe thead th {\n",
       "        text-align: right;\n",
       "    }\n",
       "</style>\n",
       "<table border=\"1\" class=\"dataframe\">\n",
       "  <thead>\n",
       "    <tr style=\"text-align: right;\">\n",
       "      <th></th>\n",
       "      <th>date</th>\n",
       "      <th>Coastal Border</th>\n",
       "      <th>Northern Land Border</th>\n",
       "      <th>Southwest Land Border</th>\n",
       "      <th>ice_all</th>\n",
       "      <th>cbp_all</th>\n",
       "      <th>total_all</th>\n",
       "      <th>ice_other</th>\n",
       "      <th>cbp_other</th>\n",
       "      <th>total_other</th>\n",
       "      <th>ice_pend</th>\n",
       "      <th>cbp_pend</th>\n",
       "      <th>total_pend</th>\n",
       "      <th>ice_conv</th>\n",
       "      <th>cbp_conv</th>\n",
       "      <th>total_conv</th>\n",
       "    </tr>\n",
       "  </thead>\n",
       "  <tbody>\n",
       "    <tr>\n",
       "      <th>0</th>\n",
       "      <td>1999-10-01</td>\n",
       "      <td>740.0</td>\n",
       "      <td>1250.0</td>\n",
       "      <td>87820.0</td>\n",
       "      <td>NaN</td>\n",
       "      <td>NaN</td>\n",
       "      <td>NaN</td>\n",
       "      <td>NaN</td>\n",
       "      <td>NaN</td>\n",
       "      <td>NaN</td>\n",
       "      <td>NaN</td>\n",
       "      <td>NaN</td>\n",
       "      <td>NaN</td>\n",
       "      <td>NaN</td>\n",
       "      <td>NaN</td>\n",
       "      <td>NaN</td>\n",
       "    </tr>\n",
       "    <tr>\n",
       "      <th>1</th>\n",
       "      <td>1999-11-01</td>\n",
       "      <td>500.0</td>\n",
       "      <td>960.0</td>\n",
       "      <td>74360.0</td>\n",
       "      <td>NaN</td>\n",
       "      <td>NaN</td>\n",
       "      <td>NaN</td>\n",
       "      <td>NaN</td>\n",
       "      <td>NaN</td>\n",
       "      <td>NaN</td>\n",
       "      <td>NaN</td>\n",
       "      <td>NaN</td>\n",
       "      <td>NaN</td>\n",
       "      <td>NaN</td>\n",
       "      <td>NaN</td>\n",
       "      <td>NaN</td>\n",
       "    </tr>\n",
       "    <tr>\n",
       "      <th>2</th>\n",
       "      <td>1999-12-01</td>\n",
       "      <td>530.0</td>\n",
       "      <td>1010.0</td>\n",
       "      <td>66260.0</td>\n",
       "      <td>NaN</td>\n",
       "      <td>NaN</td>\n",
       "      <td>NaN</td>\n",
       "      <td>NaN</td>\n",
       "      <td>NaN</td>\n",
       "      <td>NaN</td>\n",
       "      <td>NaN</td>\n",
       "      <td>NaN</td>\n",
       "      <td>NaN</td>\n",
       "      <td>NaN</td>\n",
       "      <td>NaN</td>\n",
       "      <td>NaN</td>\n",
       "    </tr>\n",
       "    <tr>\n",
       "      <th>3</th>\n",
       "      <td>2000-01-01</td>\n",
       "      <td>690.0</td>\n",
       "      <td>1140.0</td>\n",
       "      <td>175380.0</td>\n",
       "      <td>NaN</td>\n",
       "      <td>NaN</td>\n",
       "      <td>NaN</td>\n",
       "      <td>NaN</td>\n",
       "      <td>NaN</td>\n",
       "      <td>NaN</td>\n",
       "      <td>NaN</td>\n",
       "      <td>NaN</td>\n",
       "      <td>NaN</td>\n",
       "      <td>NaN</td>\n",
       "      <td>NaN</td>\n",
       "      <td>NaN</td>\n",
       "    </tr>\n",
       "    <tr>\n",
       "      <th>4</th>\n",
       "      <td>2000-02-01</td>\n",
       "      <td>780.0</td>\n",
       "      <td>1080.0</td>\n",
       "      <td>200620.0</td>\n",
       "      <td>NaN</td>\n",
       "      <td>NaN</td>\n",
       "      <td>NaN</td>\n",
       "      <td>NaN</td>\n",
       "      <td>NaN</td>\n",
       "      <td>NaN</td>\n",
       "      <td>NaN</td>\n",
       "      <td>NaN</td>\n",
       "      <td>NaN</td>\n",
       "      <td>NaN</td>\n",
       "      <td>NaN</td>\n",
       "      <td>NaN</td>\n",
       "    </tr>\n",
       "    <tr>\n",
       "      <th>...</th>\n",
       "      <td>...</td>\n",
       "      <td>...</td>\n",
       "      <td>...</td>\n",
       "      <td>...</td>\n",
       "      <td>...</td>\n",
       "      <td>...</td>\n",
       "      <td>...</td>\n",
       "      <td>...</td>\n",
       "      <td>...</td>\n",
       "      <td>...</td>\n",
       "      <td>...</td>\n",
       "      <td>...</td>\n",
       "      <td>...</td>\n",
       "      <td>...</td>\n",
       "      <td>...</td>\n",
       "      <td>...</td>\n",
       "    </tr>\n",
       "    <tr>\n",
       "      <th>440</th>\n",
       "      <td>2025-07-27</td>\n",
       "      <td>NaN</td>\n",
       "      <td>NaN</td>\n",
       "      <td>NaN</td>\n",
       "      <td>42074.0</td>\n",
       "      <td>14871.0</td>\n",
       "      <td>56945.0</td>\n",
       "      <td>13947.0</td>\n",
       "      <td>12527.0</td>\n",
       "      <td>26474.0</td>\n",
       "      <td>12937.0</td>\n",
       "      <td>1050.0</td>\n",
       "      <td>13987.0</td>\n",
       "      <td>15190.0</td>\n",
       "      <td>1294.0</td>\n",
       "      <td>16484.0</td>\n",
       "    </tr>\n",
       "    <tr>\n",
       "      <th>441</th>\n",
       "      <td>2025-08-10</td>\n",
       "      <td>NaN</td>\n",
       "      <td>NaN</td>\n",
       "      <td>NaN</td>\n",
       "      <td>44811.0</td>\n",
       "      <td>14569.0</td>\n",
       "      <td>59380.0</td>\n",
       "      <td>14947.0</td>\n",
       "      <td>12000.0</td>\n",
       "      <td>26947.0</td>\n",
       "      <td>13708.0</td>\n",
       "      <td>1167.0</td>\n",
       "      <td>14875.0</td>\n",
       "      <td>16156.0</td>\n",
       "      <td>1402.0</td>\n",
       "      <td>17558.0</td>\n",
       "    </tr>\n",
       "    <tr>\n",
       "      <th>442</th>\n",
       "      <td>2025-08-24</td>\n",
       "      <td>NaN</td>\n",
       "      <td>NaN</td>\n",
       "      <td>NaN</td>\n",
       "      <td>46595.0</td>\n",
       "      <td>14631.0</td>\n",
       "      <td>61226.0</td>\n",
       "      <td>15764.0</td>\n",
       "      <td>11664.0</td>\n",
       "      <td>27428.0</td>\n",
       "      <td>14212.0</td>\n",
       "      <td>1381.0</td>\n",
       "      <td>15593.0</td>\n",
       "      <td>16619.0</td>\n",
       "      <td>1586.0</td>\n",
       "      <td>18205.0</td>\n",
       "    </tr>\n",
       "    <tr>\n",
       "      <th>443</th>\n",
       "      <td>2025-09-07</td>\n",
       "      <td>NaN</td>\n",
       "      <td>NaN</td>\n",
       "      <td>NaN</td>\n",
       "      <td>44844.0</td>\n",
       "      <td>13922.0</td>\n",
       "      <td>58766.0</td>\n",
       "      <td>15502.0</td>\n",
       "      <td>11228.0</td>\n",
       "      <td>26730.0</td>\n",
       "      <td>13546.0</td>\n",
       "      <td>1313.0</td>\n",
       "      <td>14859.0</td>\n",
       "      <td>15796.0</td>\n",
       "      <td>1381.0</td>\n",
       "      <td>17177.0</td>\n",
       "    </tr>\n",
       "    <tr>\n",
       "      <th>444</th>\n",
       "      <td>2025-09-21</td>\n",
       "      <td>NaN</td>\n",
       "      <td>NaN</td>\n",
       "      <td>NaN</td>\n",
       "      <td>46015.0</td>\n",
       "      <td>13747.0</td>\n",
       "      <td>59762.0</td>\n",
       "      <td>16523.0</td>\n",
       "      <td>11223.0</td>\n",
       "      <td>27746.0</td>\n",
       "      <td>13767.0</td>\n",
       "      <td>1242.0</td>\n",
       "      <td>15009.0</td>\n",
       "      <td>15725.0</td>\n",
       "      <td>1282.0</td>\n",
       "      <td>17007.0</td>\n",
       "    </tr>\n",
       "  </tbody>\n",
       "</table>\n",
       "<p>445 rows × 16 columns</p>\n",
       "</div>"
      ],
      "text/plain": [
       "          date  Coastal Border  Northern Land Border  Southwest Land Border  \\\n",
       "0   1999-10-01           740.0                1250.0                87820.0   \n",
       "1   1999-11-01           500.0                 960.0                74360.0   \n",
       "2   1999-12-01           530.0                1010.0                66260.0   \n",
       "3   2000-01-01           690.0                1140.0               175380.0   \n",
       "4   2000-02-01           780.0                1080.0               200620.0   \n",
       "..         ...             ...                   ...                    ...   \n",
       "440 2025-07-27             NaN                   NaN                    NaN   \n",
       "441 2025-08-10             NaN                   NaN                    NaN   \n",
       "442 2025-08-24             NaN                   NaN                    NaN   \n",
       "443 2025-09-07             NaN                   NaN                    NaN   \n",
       "444 2025-09-21             NaN                   NaN                    NaN   \n",
       "\n",
       "     ice_all  cbp_all  total_all  ice_other  cbp_other  total_other  ice_pend  \\\n",
       "0        NaN      NaN        NaN        NaN        NaN          NaN       NaN   \n",
       "1        NaN      NaN        NaN        NaN        NaN          NaN       NaN   \n",
       "2        NaN      NaN        NaN        NaN        NaN          NaN       NaN   \n",
       "3        NaN      NaN        NaN        NaN        NaN          NaN       NaN   \n",
       "4        NaN      NaN        NaN        NaN        NaN          NaN       NaN   \n",
       "..       ...      ...        ...        ...        ...          ...       ...   \n",
       "440  42074.0  14871.0    56945.0    13947.0    12527.0      26474.0   12937.0   \n",
       "441  44811.0  14569.0    59380.0    14947.0    12000.0      26947.0   13708.0   \n",
       "442  46595.0  14631.0    61226.0    15764.0    11664.0      27428.0   14212.0   \n",
       "443  44844.0  13922.0    58766.0    15502.0    11228.0      26730.0   13546.0   \n",
       "444  46015.0  13747.0    59762.0    16523.0    11223.0      27746.0   13767.0   \n",
       "\n",
       "     cbp_pend  total_pend  ice_conv  cbp_conv  total_conv  \n",
       "0         NaN         NaN       NaN       NaN         NaN  \n",
       "1         NaN         NaN       NaN       NaN         NaN  \n",
       "2         NaN         NaN       NaN       NaN         NaN  \n",
       "3         NaN         NaN       NaN       NaN         NaN  \n",
       "4         NaN         NaN       NaN       NaN         NaN  \n",
       "..        ...         ...       ...       ...         ...  \n",
       "440    1050.0     13987.0   15190.0    1294.0     16484.0  \n",
       "441    1167.0     14875.0   16156.0    1402.0     17558.0  \n",
       "442    1381.0     15593.0   16619.0    1586.0     18205.0  \n",
       "443    1313.0     14859.0   15796.0    1381.0     17177.0  \n",
       "444    1242.0     15009.0   15725.0    1282.0     17007.0  \n",
       "\n",
       "[445 rows x 16 columns]"
      ]
     },
     "execution_count": 14,
     "metadata": {},
     "output_type": "execute_result"
    }
   ],
   "source": [
    "df_all = df_encounters.merge(df_detention, on=\"date\", how=\"outer\")\n",
    "df_all"
   ]
  },
  {
   "cell_type": "markdown",
   "id": "33ee20e0",
   "metadata": {},
   "source": [
    "# Subsetting\n",
    "\n",
    "The goal of this graph is to highlight what relationship, if any, exists between the SW Land Border Encounters and ICE detainees detained by CBP. This is hard because the datasets only overlap for a small portion of the graph:\n",
    "  * The Detention dataset starts after the Encounters data\n",
    "  * The Encounters dataset ends before the Detention dataset\n",
    "  \n",
    "Prior to graphing, let's subset `df_all` to dates where the two datasets overlap."
   ]
  },
  {
   "cell_type": "code",
   "execution_count": 15,
   "id": "08bf0e6b",
   "metadata": {},
   "outputs": [
    {
     "data": {
      "application/vnd.plotly.v1+json": {
       "config": {
        "plotlyServerURL": "https://plot.ly"
       },
       "data": [
        {
         "hovertemplate": "source=Southwest Land Border<br>date=%{x}<br>value=%{y}<extra></extra>",
         "legendgroup": "Southwest Land Border",
         "line": {
          "color": "#636efa",
          "dash": "solid"
         },
         "marker": {
          "symbol": "circle"
         },
         "mode": "lines+markers",
         "name": "Southwest Land Border",
         "orientation": "v",
         "showlegend": true,
         "type": "scatter",
         "x": [
          "2019-05-04T00:00:00",
          "2019-06-01T00:00:00",
          "2019-07-01T00:00:00",
          "2019-08-01T00:00:00",
          "2019-08-03T00:00:00",
          "2019-08-31T00:00:00",
          "2019-09-01T00:00:00",
          "2019-09-21T00:00:00",
          "2019-09-30T00:00:00",
          "2019-10-01T00:00:00",
          "2019-10-26T00:00:00",
          "2019-11-01T00:00:00",
          "2019-11-30T00:00:00",
          "2019-12-01T00:00:00",
          "2019-12-21T00:00:00",
          "2020-01-01T00:00:00",
          "2020-01-04T00:00:00",
          "2020-02-01T00:00:00",
          "2020-02-08T00:00:00",
          "2020-02-29T00:00:00",
          "2020-03-01T00:00:00",
          "2020-03-21T00:00:00",
          "2020-04-01T00:00:00",
          "2020-04-11T00:00:00",
          "2020-04-18T00:00:00",
          "2020-04-25T00:00:00",
          "2020-05-01T00:00:00",
          "2020-05-02T00:00:00",
          "2020-05-09T00:00:00",
          "2020-05-16T00:00:00",
          "2020-05-23T00:00:00",
          "2020-05-30T00:00:00",
          "2020-06-01T00:00:00",
          "2020-06-06T00:00:00",
          "2020-06-13T00:00:00",
          "2020-06-20T00:00:00",
          "2020-06-27T00:00:00",
          "2020-07-01T00:00:00",
          "2020-07-04T00:00:00",
          "2020-07-11T00:00:00",
          "2020-07-18T00:00:00",
          "2020-07-25T00:00:00",
          "2020-08-01T00:00:00",
          "2020-08-08T00:00:00",
          "2020-08-21T00:00:00",
          "2020-09-01T00:00:00",
          "2020-09-04T00:00:00",
          "2020-09-18T00:00:00",
          "2020-10-01T00:00:00",
          "2020-11-01T00:00:00",
          "2020-11-14T00:00:00",
          "2020-11-26T00:00:00",
          "2020-12-01T00:00:00",
          "2020-12-10T00:00:00",
          "2020-12-30T00:00:00",
          "2021-01-01T00:00:00",
          "2021-01-07T00:00:00",
          "2021-01-22T00:00:00",
          "2021-02-01T00:00:00",
          "2021-02-11T00:00:00",
          "2021-02-25T00:00:00",
          "2021-03-01T00:00:00",
          "2021-03-17T00:00:00",
          "2021-03-31T00:00:00",
          "2021-04-01T00:00:00",
          "2021-04-14T00:00:00",
          "2021-05-01T00:00:00",
          "2021-05-03T00:00:00",
          "2021-05-13T00:00:00",
          "2021-05-28T00:00:00",
          "2021-06-01T00:00:00",
          "2021-06-11T00:00:00",
          "2021-06-24T00:00:00",
          "2021-07-01T00:00:00",
          "2021-07-08T00:00:00",
          "2021-07-22T00:00:00",
          "2021-08-01T00:00:00",
          "2021-08-06T00:00:00",
          "2021-08-24T00:00:00",
          "2021-09-01T00:00:00",
          "2021-09-13T00:00:00",
          "2021-09-16T00:00:00",
          "2021-10-01T00:00:00",
          "2021-11-01T00:00:00",
          "2021-11-21T00:00:00",
          "2021-12-01T00:00:00",
          "2021-12-05T00:00:00",
          "2021-12-19T00:00:00",
          "2022-01-01T00:00:00",
          "2022-01-02T00:00:00",
          "2022-01-16T00:00:00",
          "2022-02-01T00:00:00",
          "2022-02-13T00:00:00",
          "2022-02-27T00:00:00",
          "2022-03-01T00:00:00",
          "2022-03-13T00:00:00",
          "2022-03-27T00:00:00",
          "2022-04-01T00:00:00",
          "2022-04-11T00:00:00",
          "2022-04-24T00:00:00",
          "2022-05-01T00:00:00",
          "2022-05-07T00:00:00",
          "2022-06-01T00:00:00",
          "2022-06-05T00:00:00",
          "2022-06-19T00:00:00",
          "2022-07-01T00:00:00",
          "2022-07-05T00:00:00",
          "2022-07-17T00:00:00",
          "2022-07-31T00:00:00",
          "2022-08-01T00:00:00",
          "2022-08-15T00:00:00",
          "2022-09-01T00:00:00",
          "2022-09-10T00:00:00",
          "2022-09-25T00:00:00",
          "2022-10-01T00:00:00",
          "2022-10-31T00:00:00",
          "2022-11-01T00:00:00",
          "2022-11-20T00:00:00",
          "2022-12-01T00:00:00",
          "2022-12-04T00:00:00",
          "2022-12-18T00:00:00",
          "2023-01-01T00:00:00",
          "2023-01-15T00:00:00",
          "2023-01-29T00:00:00",
          "2023-02-01T00:00:00",
          "2023-02-12T00:00:00",
          "2023-02-26T00:00:00",
          "2023-03-01T00:00:00",
          "2023-03-12T00:00:00",
          "2023-03-26T00:00:00",
          "2023-04-01T00:00:00",
          "2023-04-09T00:00:00",
          "2023-04-23T00:00:00",
          "2023-05-01T00:00:00",
          "2023-05-07T00:00:00",
          "2023-05-21T00:00:00",
          "2023-06-01T00:00:00",
          "2023-06-04T00:00:00",
          "2023-06-18T00:00:00",
          "2023-07-01T00:00:00",
          "2023-07-02T00:00:00",
          "2023-07-16T00:00:00",
          "2023-07-30T00:00:00",
          "2023-08-01T00:00:00",
          "2023-08-13T00:00:00",
          "2023-08-27T00:00:00",
          "2023-09-01T00:00:00",
          "2023-09-10T00:00:00",
          "2023-09-24T00:00:00",
          "2023-10-01T00:00:00",
          "2023-10-03T00:00:00",
          "2023-11-01T00:00:00",
          "2023-11-05T00:00:00",
          "2023-11-19T00:00:00",
          "2023-12-01T00:00:00",
          "2023-12-03T00:00:00",
          "2023-12-17T00:00:00",
          "2023-12-31T00:00:00",
          "2024-01-01T00:00:00",
          "2024-01-13T00:00:00",
          "2024-01-28T00:00:00",
          "2024-02-01T00:00:00",
          "2024-02-11T00:00:00",
          "2024-02-25T00:00:00",
          "2024-03-01T00:00:00",
          "2024-03-10T00:00:00",
          "2024-03-24T00:00:00",
          "2024-04-01T00:00:00",
          "2024-04-07T00:00:00",
          "2024-04-21T00:00:00",
          "2024-05-01T00:00:00",
          "2024-05-05T00:00:00",
          "2024-05-19T00:00:00",
          "2024-06-01T00:00:00",
          "2024-06-02T00:00:00",
          "2024-06-16T00:00:00",
          "2024-06-30T00:00:00",
          "2024-07-01T00:00:00",
          "2024-07-14T00:00:00",
          "2024-08-01T00:00:00",
          "2024-08-11T00:00:00",
          "2024-08-25T00:00:00",
          "2024-09-01T00:00:00",
          "2024-09-08T00:00:00",
          "2024-10-01T00:00:00",
          "2024-11-01T00:00:00"
         ],
         "xaxis": "x",
         "y": {
          "bdata": "AAAAAAAA+H8AAAAAQCv3QAAAAADAkvFAAAAAAAC/6EAAAAAAAAD4fwAAAAAAAPh/AAAAAMDH40AAAAAAAAD4fwAAAAAAAPh/AAAAAABJ4UAAAAAAAAD4fwAAAAAAXuBAAAAAAAAA+H8AAAAAQArgQAAAAAAAAPh/AAAAAICG3EAAAAAAAAD4fwAAAAAAYN1AAAAAAAAA+H8AAAAAAAD4fwAAAACArd1AAAAAAAAA+H8AAAAAAJrPQAAAAAAAAPh/AAAAAAAA+H8AAAAAAAD4fwAAAACAFdVAAAAAAAAA+H8AAAAAAAD4fwAAAAAAAPh/AAAAAAAA+H8AAAAAAAD4fwAAAAAAGd5AAAAAAAAA+H8AAAAAAAD4fwAAAAAAAPh/AAAAAAAA+H8AAAAAANTiQAAAAAAAAPh/AAAAAAAA+H8AAAAAAAD4fwAAAAAAAPh/AAAAAAAW50AAAAAAAAD4fwAAAAAAAPh/AAAAAIC/6kAAAAAAAAD4fwAAAAAAAPh/AAAAAGDa8EAAAAAAIOPwQAAAAAAAAPh/AAAAAAAA+H8AAAAAQF7xQAAAAAAAAPh/AAAAAAAA+H8AAAAAgGPyQAAAAAAAAPh/AAAAAAAA+H8AAAAAgNb3QAAAAAAAAPh/AAAAAAAA+H8AAAAAIKgEQQAAAAAAAPh/AAAAAAAA+H8AAAAAIDQFQQAAAAAAAPh/AAAAAFATBUEAAAAAAAD4fwAAAAAAAPh/AAAAAAAA+H8AAAAA0M4FQQAAAAAAAPh/AAAAAAAA+H8AAAAAoH4IQQAAAAAAAPh/AAAAAAAA+H8AAAAA8PwHQQAAAAAAAPh/AAAAAAAA+H8AAAAAgKUGQQAAAAAAAPh/AAAAAAAA+H8AAAAAMGwDQQAAAABgYwRBAAAAAAAA+H8AAAAAQNMEQQAAAAAAAPh/AAAAAAAA+H8AAAAAQA0CQQAAAAAAAPh/AAAAAAAA+H8AAAAAEG4DQQAAAAAAAPh/AAAAAAAA+H8AAAAAYMcJQQAAAAAAAPh/AAAAAAAA+H8AAAAAYNcIQQAAAAAAAPh/AAAAAAAA+H8AAAAAkGMLQQAAAAAAAPh/AAAAAIB8B0EAAAAAAAD4fwAAAAAAAPh/AAAAADAyBkEAAAAAAAD4fwAAAAAAAPh/AAAAAAAA+H8AAAAAUDAGQQAAAAAAAPh/AAAAAIBXCUEAAAAAAAD4fwAAAAAAAPh/AAAAAFAKCUEAAAAAAAD4fwAAAAAAWglBAAAAAAAA+H8AAAAAIBoLQQAAAAAAAPh/AAAAAAAA+H8AAAAAYJ7/QAAAAAAAAPh/AAAAAAAA+H8AAAAAgN3/QAAAAAAAAPh/AAAAAAAA+H8AAAAAsPoDQQAAAAAAAPh/AAAAAAAA+H8AAAAAgHMGQQAAAAAAAPh/AAAAAAAA+H8AAAAAoOsEQQAAAAAAAPh/AAAAAAAA+H8AAAAAQE34QAAAAAAAAPh/AAAAAAAA+H8AAAAAADEAQQAAAAAAAPh/AAAAAAAA+H8AAAAAAAD4fwAAAADQGQZBAAAAAAAA+H8AAAAAAAD4fwAAAABAtApBAAAAAAAA+H8AAAAAAAD4fwAAAABwCgdBAAAAAAAA+H8AAAAAMFQHQQAAAAAAAPh/AAAAAAAA+H8AAAAAYHwOQQAAAAAAAPh/AAAAAAAA+H8AAAAAAAD4fwAAAADAU/5AAAAAAAAA+H8AAAAAAAD4fwAAAAAAKwFBAAAAAAAA+H8AAAAAAAD4fwAAAADwxwBBAAAAAAAA+H8AAAAAAAD4fwAAAABAeP9AAAAAAAAA+H8AAAAAAAD4fwAAAABgyfxAAAAAAAAA+H8AAAAAAAD4fwAAAACgZPRAAAAAAAAA+H8AAAAAAAD4fwAAAAAAAPh/AAAAAACK60AAAAAAAAD4fwAAAABAU+xAAAAAAAAA+H8AAAAAAAD4fwAAAACATOpAAAAAAAAA+H8AAAAAQJrrQAAAAABAwuZA",
          "dtype": "f8"
         },
         "yaxis": "y"
        },
        {
         "hovertemplate": "source=cbp_all<br>date=%{x}<br>value=%{y}<extra></extra>",
         "legendgroup": "cbp_all",
         "line": {
          "color": "#EF553B",
          "dash": "solid"
         },
         "marker": {
          "symbol": "circle"
         },
         "mode": "lines+markers",
         "name": "cbp_all",
         "orientation": "v",
         "showlegend": true,
         "type": "scatter",
         "x": [
          "2019-05-04T00:00:00",
          "2019-06-01T00:00:00",
          "2019-07-01T00:00:00",
          "2019-08-01T00:00:00",
          "2019-08-03T00:00:00",
          "2019-08-31T00:00:00",
          "2019-09-01T00:00:00",
          "2019-09-21T00:00:00",
          "2019-09-30T00:00:00",
          "2019-10-01T00:00:00",
          "2019-10-26T00:00:00",
          "2019-11-01T00:00:00",
          "2019-11-30T00:00:00",
          "2019-12-01T00:00:00",
          "2019-12-21T00:00:00",
          "2020-01-01T00:00:00",
          "2020-01-04T00:00:00",
          "2020-02-01T00:00:00",
          "2020-02-08T00:00:00",
          "2020-02-29T00:00:00",
          "2020-03-01T00:00:00",
          "2020-03-21T00:00:00",
          "2020-04-01T00:00:00",
          "2020-04-11T00:00:00",
          "2020-04-18T00:00:00",
          "2020-04-25T00:00:00",
          "2020-05-01T00:00:00",
          "2020-05-02T00:00:00",
          "2020-05-09T00:00:00",
          "2020-05-16T00:00:00",
          "2020-05-23T00:00:00",
          "2020-05-30T00:00:00",
          "2020-06-01T00:00:00",
          "2020-06-06T00:00:00",
          "2020-06-13T00:00:00",
          "2020-06-20T00:00:00",
          "2020-06-27T00:00:00",
          "2020-07-01T00:00:00",
          "2020-07-04T00:00:00",
          "2020-07-11T00:00:00",
          "2020-07-18T00:00:00",
          "2020-07-25T00:00:00",
          "2020-08-01T00:00:00",
          "2020-08-08T00:00:00",
          "2020-08-21T00:00:00",
          "2020-09-01T00:00:00",
          "2020-09-04T00:00:00",
          "2020-09-18T00:00:00",
          "2020-10-01T00:00:00",
          "2020-11-01T00:00:00",
          "2020-11-14T00:00:00",
          "2020-11-26T00:00:00",
          "2020-12-01T00:00:00",
          "2020-12-10T00:00:00",
          "2020-12-30T00:00:00",
          "2021-01-01T00:00:00",
          "2021-01-07T00:00:00",
          "2021-01-22T00:00:00",
          "2021-02-01T00:00:00",
          "2021-02-11T00:00:00",
          "2021-02-25T00:00:00",
          "2021-03-01T00:00:00",
          "2021-03-17T00:00:00",
          "2021-03-31T00:00:00",
          "2021-04-01T00:00:00",
          "2021-04-14T00:00:00",
          "2021-05-01T00:00:00",
          "2021-05-03T00:00:00",
          "2021-05-13T00:00:00",
          "2021-05-28T00:00:00",
          "2021-06-01T00:00:00",
          "2021-06-11T00:00:00",
          "2021-06-24T00:00:00",
          "2021-07-01T00:00:00",
          "2021-07-08T00:00:00",
          "2021-07-22T00:00:00",
          "2021-08-01T00:00:00",
          "2021-08-06T00:00:00",
          "2021-08-24T00:00:00",
          "2021-09-01T00:00:00",
          "2021-09-13T00:00:00",
          "2021-09-16T00:00:00",
          "2021-10-01T00:00:00",
          "2021-11-01T00:00:00",
          "2021-11-21T00:00:00",
          "2021-12-01T00:00:00",
          "2021-12-05T00:00:00",
          "2021-12-19T00:00:00",
          "2022-01-01T00:00:00",
          "2022-01-02T00:00:00",
          "2022-01-16T00:00:00",
          "2022-02-01T00:00:00",
          "2022-02-13T00:00:00",
          "2022-02-27T00:00:00",
          "2022-03-01T00:00:00",
          "2022-03-13T00:00:00",
          "2022-03-27T00:00:00",
          "2022-04-01T00:00:00",
          "2022-04-11T00:00:00",
          "2022-04-24T00:00:00",
          "2022-05-01T00:00:00",
          "2022-05-07T00:00:00",
          "2022-06-01T00:00:00",
          "2022-06-05T00:00:00",
          "2022-06-19T00:00:00",
          "2022-07-01T00:00:00",
          "2022-07-05T00:00:00",
          "2022-07-17T00:00:00",
          "2022-07-31T00:00:00",
          "2022-08-01T00:00:00",
          "2022-08-15T00:00:00",
          "2022-09-01T00:00:00",
          "2022-09-10T00:00:00",
          "2022-09-25T00:00:00",
          "2022-10-01T00:00:00",
          "2022-10-31T00:00:00",
          "2022-11-01T00:00:00",
          "2022-11-20T00:00:00",
          "2022-12-01T00:00:00",
          "2022-12-04T00:00:00",
          "2022-12-18T00:00:00",
          "2023-01-01T00:00:00",
          "2023-01-15T00:00:00",
          "2023-01-29T00:00:00",
          "2023-02-01T00:00:00",
          "2023-02-12T00:00:00",
          "2023-02-26T00:00:00",
          "2023-03-01T00:00:00",
          "2023-03-12T00:00:00",
          "2023-03-26T00:00:00",
          "2023-04-01T00:00:00",
          "2023-04-09T00:00:00",
          "2023-04-23T00:00:00",
          "2023-05-01T00:00:00",
          "2023-05-07T00:00:00",
          "2023-05-21T00:00:00",
          "2023-06-01T00:00:00",
          "2023-06-04T00:00:00",
          "2023-06-18T00:00:00",
          "2023-07-01T00:00:00",
          "2023-07-02T00:00:00",
          "2023-07-16T00:00:00",
          "2023-07-30T00:00:00",
          "2023-08-01T00:00:00",
          "2023-08-13T00:00:00",
          "2023-08-27T00:00:00",
          "2023-09-01T00:00:00",
          "2023-09-10T00:00:00",
          "2023-09-24T00:00:00",
          "2023-10-01T00:00:00",
          "2023-10-03T00:00:00",
          "2023-11-01T00:00:00",
          "2023-11-05T00:00:00",
          "2023-11-19T00:00:00",
          "2023-12-01T00:00:00",
          "2023-12-03T00:00:00",
          "2023-12-17T00:00:00",
          "2023-12-31T00:00:00",
          "2024-01-01T00:00:00",
          "2024-01-13T00:00:00",
          "2024-01-28T00:00:00",
          "2024-02-01T00:00:00",
          "2024-02-11T00:00:00",
          "2024-02-25T00:00:00",
          "2024-03-01T00:00:00",
          "2024-03-10T00:00:00",
          "2024-03-24T00:00:00",
          "2024-04-01T00:00:00",
          "2024-04-07T00:00:00",
          "2024-04-21T00:00:00",
          "2024-05-01T00:00:00",
          "2024-05-05T00:00:00",
          "2024-05-19T00:00:00",
          "2024-06-01T00:00:00",
          "2024-06-02T00:00:00",
          "2024-06-16T00:00:00",
          "2024-06-30T00:00:00",
          "2024-07-01T00:00:00",
          "2024-07-14T00:00:00",
          "2024-08-01T00:00:00",
          "2024-08-11T00:00:00",
          "2024-08-25T00:00:00",
          "2024-09-01T00:00:00",
          "2024-09-08T00:00:00",
          "2024-10-01T00:00:00",
          "2024-11-01T00:00:00"
         ],
         "xaxis": "x",
         "y": {
          "bdata": "AAAAAABk3UAAAAAAoE/gQAAAAAAAAPh/AAAAAAAA+H8AAAAAQCjiQAAAAACgAeFAAAAAAAAA+H8AAAAAgC3gQAAAAABASt9AAAAAAAAA+H8AAAAAQPjdQAAAAAAAAPh/AAAAAIDw2UAAAAAAAAD4fwAAAACAe9dAAAAAAAAA+H8AAAAAgBjXQAAAAAAAAPh/AAAAAMBB1EAAAAAAAC7TQAAAAAAAAPh/AAAAAEBd0kAAAAAAAAD4fwAAAACAJc5AAAAAAABzzEAAAAAAAP7KQAAAAAAAAPh/AAAAAIDCyUAAAAAAgGvIQAAAAAAANsdAAAAAAAAxxkAAAAAAAKXFQAAAAAAAAPh/AAAAAACuxEAAAAAAgMfDQAAAAAAAHsNAAAAAAIA0wkAAAAAAAAD4fwAAAACAD8JAAAAAAICKwUAAAAAAgEfBQAAAAACAX8BAAAAAAACpv0AAAAAAAAG+QAAAAAAA8rxAAAAAAAAA+H8AAAAAAES7QAAAAAAAurlAAAAAAAAA+H8AAAAAAAD4fwAAAAAAC7RAAAAAAADuskAAAAAAAAD4fwAAAAAAmbJAAAAAAADRsUAAAAAAAAD4fwAAAAAAfrJAAAAAAADcsEAAAAAAAAD4fwAAAAAAQrJAAAAAAAArs0AAAAAAAAD4fwAAAAAABbxAAAAAAADLv0AAAAAAAAD4fwAAAAAAM8NAAAAAAAAA+H8AAAAAAB/FQAAAAAAAxMtAAAAAAAB10EAAAAAAAAD4fwAAAACAZNNAAAAAAIAM1UAAAAAAAAD4fwAAAABAFdZAAAAAAMCz1UAAAAAAAAD4fwAAAADAetRAAAAAAEAX1EAAAAAAAAD4fwAAAABAC9JAAAAAAMCL0EAAAAAAQLvQQAAAAAAAAPh/AAAAAABQ0UAAAAAAAAD4fwAAAACAydBAAAAAAAA9z0AAAAAAAAD4fwAAAACAANFAAAAAAICSz0AAAAAAAAD4fwAAAACAXs1AAAAAAICTyUAAAAAAAAD4fwAAAACAkc1AAAAAAICczkAAAAAAAAD4fwAAAAAAocpAAAAAAIC1y0AAAAAAAAD4fwAAAADAfNBAAAAAAAAA+H8AAAAAAFvSQAAAAADAANFAAAAAAAAA+H8AAAAAALfQQAAAAADAJtBAAAAAAMBv0EAAAAAAAAD4fwAAAABAxdBAAAAAAAAA+H8AAAAAAAzSQAAAAABAHdFAAAAAAAAA+H8AAAAAQEbVQAAAAAAAAPh/AAAAAIBM1UAAAAAAAAD4fwAAAAAAUtRAAAAAAAAWzUAAAAAAADXIQAAAAACAC8lAAAAAAAABz0AAAAAAAAD4fwAAAAAAW9FAAAAAAIB60UAAAAAAAAD4fwAAAAAA3dFAAAAAAED40EAAAAAAAAD4fwAAAAAANM9AAAAAAACKzUAAAAAAAAD4fwAAAAAAK8dAAAAAAAB60UAAAAAAAAD4fwAAAABANdRAAAAAAICM00AAAAAAAAD4fwAAAABA2NNAAAAAAABP1EAAAAAAgJHTQAAAAAAAAPh/AAAAAEDO00AAAAAAwJPWQAAAAAAAAPh/AAAAAICQ2UAAAAAAQEfZQAAAAAAAAPh/AAAAAIA/2kAAAAAAAAD4fwAAAACAHt1AAAAAAMA83EAAAAAAAAD4fwAAAABA3dlAAAAAAMBE2UAAAAAAQKXZQAAAAAAAAPh/AAAAAMBF2kAAAAAAwOXaQAAAAAAAAPh/AAAAAEBj2kAAAAAAADzbQAAAAAAAAPh/AAAAAMD52kAAAAAAAKjYQAAAAAAAAPh/AAAAAEA+1kAAAAAAgMTVQAAAAAAAAPh/AAAAAMCy10AAAAAAgJvXQAAAAAAAAPh/AAAAAEBM2EAAAAAAABXZQAAAAACAGdhAAAAAAAAA+H8AAAAAADLXQAAAAAAAAPh/AAAAAABX1kAAAAAAwC7WQAAAAAAAAPh/AAAAAIBG10AAAAAAAAD4fwAAAAAAAPh/",
          "dtype": "f8"
         },
         "yaxis": "y"
        }
       ],
       "layout": {
        "legend": {
         "title": {
          "text": "source"
         },
         "tracegroupgap": 0
        },
        "template": {
         "data": {
          "bar": [
           {
            "error_x": {
             "color": "#2a3f5f"
            },
            "error_y": {
             "color": "#2a3f5f"
            },
            "marker": {
             "line": {
              "color": "white",
              "width": 0.5
             },
             "pattern": {
              "fillmode": "overlay",
              "size": 10,
              "solidity": 0.2
             }
            },
            "type": "bar"
           }
          ],
          "barpolar": [
           {
            "marker": {
             "line": {
              "color": "white",
              "width": 0.5
             },
             "pattern": {
              "fillmode": "overlay",
              "size": 10,
              "solidity": 0.2
             }
            },
            "type": "barpolar"
           }
          ],
          "carpet": [
           {
            "aaxis": {
             "endlinecolor": "#2a3f5f",
             "gridcolor": "#C8D4E3",
             "linecolor": "#C8D4E3",
             "minorgridcolor": "#C8D4E3",
             "startlinecolor": "#2a3f5f"
            },
            "baxis": {
             "endlinecolor": "#2a3f5f",
             "gridcolor": "#C8D4E3",
             "linecolor": "#C8D4E3",
             "minorgridcolor": "#C8D4E3",
             "startlinecolor": "#2a3f5f"
            },
            "type": "carpet"
           }
          ],
          "choropleth": [
           {
            "colorbar": {
             "outlinewidth": 0,
             "ticks": ""
            },
            "type": "choropleth"
           }
          ],
          "contour": [
           {
            "colorbar": {
             "outlinewidth": 0,
             "ticks": ""
            },
            "colorscale": [
             [
              0,
              "#0d0887"
             ],
             [
              0.1111111111111111,
              "#46039f"
             ],
             [
              0.2222222222222222,
              "#7201a8"
             ],
             [
              0.3333333333333333,
              "#9c179e"
             ],
             [
              0.4444444444444444,
              "#bd3786"
             ],
             [
              0.5555555555555556,
              "#d8576b"
             ],
             [
              0.6666666666666666,
              "#ed7953"
             ],
             [
              0.7777777777777778,
              "#fb9f3a"
             ],
             [
              0.8888888888888888,
              "#fdca26"
             ],
             [
              1,
              "#f0f921"
             ]
            ],
            "type": "contour"
           }
          ],
          "contourcarpet": [
           {
            "colorbar": {
             "outlinewidth": 0,
             "ticks": ""
            },
            "type": "contourcarpet"
           }
          ],
          "heatmap": [
           {
            "colorbar": {
             "outlinewidth": 0,
             "ticks": ""
            },
            "colorscale": [
             [
              0,
              "#0d0887"
             ],
             [
              0.1111111111111111,
              "#46039f"
             ],
             [
              0.2222222222222222,
              "#7201a8"
             ],
             [
              0.3333333333333333,
              "#9c179e"
             ],
             [
              0.4444444444444444,
              "#bd3786"
             ],
             [
              0.5555555555555556,
              "#d8576b"
             ],
             [
              0.6666666666666666,
              "#ed7953"
             ],
             [
              0.7777777777777778,
              "#fb9f3a"
             ],
             [
              0.8888888888888888,
              "#fdca26"
             ],
             [
              1,
              "#f0f921"
             ]
            ],
            "type": "heatmap"
           }
          ],
          "histogram": [
           {
            "marker": {
             "pattern": {
              "fillmode": "overlay",
              "size": 10,
              "solidity": 0.2
             }
            },
            "type": "histogram"
           }
          ],
          "histogram2d": [
           {
            "colorbar": {
             "outlinewidth": 0,
             "ticks": ""
            },
            "colorscale": [
             [
              0,
              "#0d0887"
             ],
             [
              0.1111111111111111,
              "#46039f"
             ],
             [
              0.2222222222222222,
              "#7201a8"
             ],
             [
              0.3333333333333333,
              "#9c179e"
             ],
             [
              0.4444444444444444,
              "#bd3786"
             ],
             [
              0.5555555555555556,
              "#d8576b"
             ],
             [
              0.6666666666666666,
              "#ed7953"
             ],
             [
              0.7777777777777778,
              "#fb9f3a"
             ],
             [
              0.8888888888888888,
              "#fdca26"
             ],
             [
              1,
              "#f0f921"
             ]
            ],
            "type": "histogram2d"
           }
          ],
          "histogram2dcontour": [
           {
            "colorbar": {
             "outlinewidth": 0,
             "ticks": ""
            },
            "colorscale": [
             [
              0,
              "#0d0887"
             ],
             [
              0.1111111111111111,
              "#46039f"
             ],
             [
              0.2222222222222222,
              "#7201a8"
             ],
             [
              0.3333333333333333,
              "#9c179e"
             ],
             [
              0.4444444444444444,
              "#bd3786"
             ],
             [
              0.5555555555555556,
              "#d8576b"
             ],
             [
              0.6666666666666666,
              "#ed7953"
             ],
             [
              0.7777777777777778,
              "#fb9f3a"
             ],
             [
              0.8888888888888888,
              "#fdca26"
             ],
             [
              1,
              "#f0f921"
             ]
            ],
            "type": "histogram2dcontour"
           }
          ],
          "mesh3d": [
           {
            "colorbar": {
             "outlinewidth": 0,
             "ticks": ""
            },
            "type": "mesh3d"
           }
          ],
          "parcoords": [
           {
            "line": {
             "colorbar": {
              "outlinewidth": 0,
              "ticks": ""
             }
            },
            "type": "parcoords"
           }
          ],
          "pie": [
           {
            "automargin": true,
            "type": "pie"
           }
          ],
          "scatter": [
           {
            "fillpattern": {
             "fillmode": "overlay",
             "size": 10,
             "solidity": 0.2
            },
            "type": "scatter"
           }
          ],
          "scatter3d": [
           {
            "line": {
             "colorbar": {
              "outlinewidth": 0,
              "ticks": ""
             }
            },
            "marker": {
             "colorbar": {
              "outlinewidth": 0,
              "ticks": ""
             }
            },
            "type": "scatter3d"
           }
          ],
          "scattercarpet": [
           {
            "marker": {
             "colorbar": {
              "outlinewidth": 0,
              "ticks": ""
             }
            },
            "type": "scattercarpet"
           }
          ],
          "scattergeo": [
           {
            "marker": {
             "colorbar": {
              "outlinewidth": 0,
              "ticks": ""
             }
            },
            "type": "scattergeo"
           }
          ],
          "scattergl": [
           {
            "marker": {
             "colorbar": {
              "outlinewidth": 0,
              "ticks": ""
             }
            },
            "type": "scattergl"
           }
          ],
          "scattermap": [
           {
            "marker": {
             "colorbar": {
              "outlinewidth": 0,
              "ticks": ""
             }
            },
            "type": "scattermap"
           }
          ],
          "scattermapbox": [
           {
            "marker": {
             "colorbar": {
              "outlinewidth": 0,
              "ticks": ""
             }
            },
            "type": "scattermapbox"
           }
          ],
          "scatterpolar": [
           {
            "marker": {
             "colorbar": {
              "outlinewidth": 0,
              "ticks": ""
             }
            },
            "type": "scatterpolar"
           }
          ],
          "scatterpolargl": [
           {
            "marker": {
             "colorbar": {
              "outlinewidth": 0,
              "ticks": ""
             }
            },
            "type": "scatterpolargl"
           }
          ],
          "scatterternary": [
           {
            "marker": {
             "colorbar": {
              "outlinewidth": 0,
              "ticks": ""
             }
            },
            "type": "scatterternary"
           }
          ],
          "surface": [
           {
            "colorbar": {
             "outlinewidth": 0,
             "ticks": ""
            },
            "colorscale": [
             [
              0,
              "#0d0887"
             ],
             [
              0.1111111111111111,
              "#46039f"
             ],
             [
              0.2222222222222222,
              "#7201a8"
             ],
             [
              0.3333333333333333,
              "#9c179e"
             ],
             [
              0.4444444444444444,
              "#bd3786"
             ],
             [
              0.5555555555555556,
              "#d8576b"
             ],
             [
              0.6666666666666666,
              "#ed7953"
             ],
             [
              0.7777777777777778,
              "#fb9f3a"
             ],
             [
              0.8888888888888888,
              "#fdca26"
             ],
             [
              1,
              "#f0f921"
             ]
            ],
            "type": "surface"
           }
          ],
          "table": [
           {
            "cells": {
             "fill": {
              "color": "#EBF0F8"
             },
             "line": {
              "color": "white"
             }
            },
            "header": {
             "fill": {
              "color": "#C8D4E3"
             },
             "line": {
              "color": "white"
             }
            },
            "type": "table"
           }
          ]
         },
         "layout": {
          "annotationdefaults": {
           "arrowcolor": "#2a3f5f",
           "arrowhead": 0,
           "arrowwidth": 1
          },
          "autotypenumbers": "strict",
          "coloraxis": {
           "colorbar": {
            "outlinewidth": 0,
            "ticks": ""
           }
          },
          "colorscale": {
           "diverging": [
            [
             0,
             "#8e0152"
            ],
            [
             0.1,
             "#c51b7d"
            ],
            [
             0.2,
             "#de77ae"
            ],
            [
             0.3,
             "#f1b6da"
            ],
            [
             0.4,
             "#fde0ef"
            ],
            [
             0.5,
             "#f7f7f7"
            ],
            [
             0.6,
             "#e6f5d0"
            ],
            [
             0.7,
             "#b8e186"
            ],
            [
             0.8,
             "#7fbc41"
            ],
            [
             0.9,
             "#4d9221"
            ],
            [
             1,
             "#276419"
            ]
           ],
           "sequential": [
            [
             0,
             "#0d0887"
            ],
            [
             0.1111111111111111,
             "#46039f"
            ],
            [
             0.2222222222222222,
             "#7201a8"
            ],
            [
             0.3333333333333333,
             "#9c179e"
            ],
            [
             0.4444444444444444,
             "#bd3786"
            ],
            [
             0.5555555555555556,
             "#d8576b"
            ],
            [
             0.6666666666666666,
             "#ed7953"
            ],
            [
             0.7777777777777778,
             "#fb9f3a"
            ],
            [
             0.8888888888888888,
             "#fdca26"
            ],
            [
             1,
             "#f0f921"
            ]
           ],
           "sequentialminus": [
            [
             0,
             "#0d0887"
            ],
            [
             0.1111111111111111,
             "#46039f"
            ],
            [
             0.2222222222222222,
             "#7201a8"
            ],
            [
             0.3333333333333333,
             "#9c179e"
            ],
            [
             0.4444444444444444,
             "#bd3786"
            ],
            [
             0.5555555555555556,
             "#d8576b"
            ],
            [
             0.6666666666666666,
             "#ed7953"
            ],
            [
             0.7777777777777778,
             "#fb9f3a"
            ],
            [
             0.8888888888888888,
             "#fdca26"
            ],
            [
             1,
             "#f0f921"
            ]
           ]
          },
          "colorway": [
           "#636efa",
           "#EF553B",
           "#00cc96",
           "#ab63fa",
           "#FFA15A",
           "#19d3f3",
           "#FF6692",
           "#B6E880",
           "#FF97FF",
           "#FECB52"
          ],
          "font": {
           "color": "#2a3f5f"
          },
          "geo": {
           "bgcolor": "white",
           "lakecolor": "white",
           "landcolor": "white",
           "showlakes": true,
           "showland": true,
           "subunitcolor": "#C8D4E3"
          },
          "hoverlabel": {
           "align": "left"
          },
          "hovermode": "closest",
          "mapbox": {
           "style": "light"
          },
          "paper_bgcolor": "white",
          "plot_bgcolor": "white",
          "polar": {
           "angularaxis": {
            "gridcolor": "#EBF0F8",
            "linecolor": "#EBF0F8",
            "ticks": ""
           },
           "bgcolor": "white",
           "radialaxis": {
            "gridcolor": "#EBF0F8",
            "linecolor": "#EBF0F8",
            "ticks": ""
           }
          },
          "scene": {
           "xaxis": {
            "backgroundcolor": "white",
            "gridcolor": "#DFE8F3",
            "gridwidth": 2,
            "linecolor": "#EBF0F8",
            "showbackground": true,
            "ticks": "",
            "zerolinecolor": "#EBF0F8"
           },
           "yaxis": {
            "backgroundcolor": "white",
            "gridcolor": "#DFE8F3",
            "gridwidth": 2,
            "linecolor": "#EBF0F8",
            "showbackground": true,
            "ticks": "",
            "zerolinecolor": "#EBF0F8"
           },
           "zaxis": {
            "backgroundcolor": "white",
            "gridcolor": "#DFE8F3",
            "gridwidth": 2,
            "linecolor": "#EBF0F8",
            "showbackground": true,
            "ticks": "",
            "zerolinecolor": "#EBF0F8"
           }
          },
          "shapedefaults": {
           "line": {
            "color": "#2a3f5f"
           }
          },
          "ternary": {
           "aaxis": {
            "gridcolor": "#DFE8F3",
            "linecolor": "#A2B1C6",
            "ticks": ""
           },
           "baxis": {
            "gridcolor": "#DFE8F3",
            "linecolor": "#A2B1C6",
            "ticks": ""
           },
           "bgcolor": "white",
           "caxis": {
            "gridcolor": "#DFE8F3",
            "linecolor": "#A2B1C6",
            "ticks": ""
           }
          },
          "title": {
           "x": 0.05
          },
          "xaxis": {
           "automargin": true,
           "gridcolor": "#EBF0F8",
           "linecolor": "#EBF0F8",
           "ticks": "",
           "title": {
            "standoff": 15
           },
           "zerolinecolor": "#EBF0F8",
           "zerolinewidth": 2
          },
          "yaxis": {
           "automargin": true,
           "gridcolor": "#EBF0F8",
           "linecolor": "#EBF0F8",
           "ticks": "",
           "title": {
            "standoff": 15
           },
           "zerolinecolor": "#EBF0F8",
           "zerolinewidth": 2
          }
         }
        },
        "title": {
         "text": "Southwest and CBP Over Time"
        },
        "xaxis": {
         "anchor": "y",
         "domain": [
          0,
          1
         ],
         "title": {
          "text": "date"
         }
        },
        "yaxis": {
         "anchor": "x",
         "domain": [
          0,
          1
         ],
         "title": {
          "text": "value"
         }
        }
       }
      },
      "image/png": "[encoded data removed]"
     },
     "metadata": {},
     "output_type": "display_data"
    }
   ],
   "source": [
    "# Without this, it renders both colors as black!\n",
    "px.defaults.template = \"plotly_white\"\n",
    "\n",
    "# Subset to rows where detention data is available (it starts later than encounters data)\n",
    "first_valid_date = df_all[df_all[\"cbp_all\"].notna()][\"date\"].min()\n",
    "\n",
    "# Subset to rows where encounters data is available (it ends earlier than detention data)\n",
    "last_valid_date = df_all[df_all[\"Southwest Land Border\"].notna()][\"date\"].max()\n",
    "\n",
    "# Subset to shared date range and make a copy to avoid chained assignment issues\n",
    "df_subset = df_all[df_all['date'].between(first_valid_date, last_valid_date, 'both')].copy()\n",
    "\n",
    "df_melted = df_subset.melt(\n",
    "    id_vars=\"date\",\n",
    "    value_vars=[\"Southwest Land Border\", \"cbp_all\"],\n",
    "    var_name=\"source\",\n",
    "    value_name=\"value\",\n",
    ")\n",
    "\n",
    "px.line(\n",
    "    df_melted,\n",
    "    x=\"date\",\n",
    "    y=\"value\",\n",
    "    color=\"source\",\n",
    "    title=\"Southwest and CBP Over Time\",\n",
    "    markers=True,\n",
    ")"
   ]
  },
  {
   "cell_type": "markdown",
   "id": "1f6cb116",
   "metadata": {},
   "source": [
    "While the Encounters data is monthly, the Detention dataset is irregular. This seems to cause plotly to not draw lines between all the points. Let's interpolate the data and try again."
   ]
  },
  {
   "cell_type": "markdown",
   "id": "552c2685",
   "metadata": {},
   "source": [
    "## Interpolation\n",
    "\n",
    "Our eventual goal is to graph the data. However, the join introduced NaNs, and plotly does not draw lines between points if there is a NaN in between. For example:"
   ]
  },
  {
   "cell_type": "code",
   "execution_count": 16,
   "id": "e8b4044a",
   "metadata": {},
   "outputs": [
    {
     "data": {
      "application/vnd.plotly.v1+json": {
       "config": {
        "plotlyServerURL": "https://plot.ly"
       },
       "data": [
        {
         "hovertemplate": "source=Southwest Land Border<br>date=%{x}<br>value=%{y}<extra></extra>",
         "legendgroup": "Southwest Land Border",
         "line": {
          "color": "#636efa",
          "dash": "solid"
         },
         "marker": {
          "symbol": "circle"
         },
         "mode": "lines",
         "name": "Southwest Land Border",
         "orientation": "v",
         "showlegend": true,
         "type": "scatter",
         "x": [
          "2019-05-04T00:00:00",
          "2019-06-01T00:00:00",
          "2019-07-01T00:00:00",
          "2019-08-01T00:00:00",
          "2019-08-03T00:00:00",
          "2019-08-31T00:00:00",
          "2019-09-01T00:00:00",
          "2019-09-21T00:00:00",
          "2019-09-30T00:00:00",
          "2019-10-01T00:00:00",
          "2019-10-26T00:00:00",
          "2019-11-01T00:00:00",
          "2019-11-30T00:00:00",
          "2019-12-01T00:00:00",
          "2019-12-21T00:00:00",
          "2020-01-01T00:00:00",
          "2020-01-04T00:00:00",
          "2020-02-01T00:00:00",
          "2020-02-08T00:00:00",
          "2020-02-29T00:00:00",
          "2020-03-01T00:00:00",
          "2020-03-21T00:00:00",
          "2020-04-01T00:00:00",
          "2020-04-11T00:00:00",
          "2020-04-18T00:00:00",
          "2020-04-25T00:00:00",
          "2020-05-01T00:00:00",
          "2020-05-02T00:00:00",
          "2020-05-09T00:00:00",
          "2020-05-16T00:00:00",
          "2020-05-23T00:00:00",
          "2020-05-30T00:00:00",
          "2020-06-01T00:00:00",
          "2020-06-06T00:00:00",
          "2020-06-13T00:00:00",
          "2020-06-20T00:00:00",
          "2020-06-27T00:00:00",
          "2020-07-01T00:00:00",
          "2020-07-04T00:00:00",
          "2020-07-11T00:00:00",
          "2020-07-18T00:00:00",
          "2020-07-25T00:00:00",
          "2020-08-01T00:00:00",
          "2020-08-08T00:00:00",
          "2020-08-21T00:00:00",
          "2020-09-01T00:00:00",
          "2020-09-04T00:00:00",
          "2020-09-18T00:00:00",
          "2020-10-01T00:00:00",
          "2020-11-01T00:00:00",
          "2020-11-14T00:00:00",
          "2020-11-26T00:00:00",
          "2020-12-01T00:00:00",
          "2020-12-10T00:00:00",
          "2020-12-30T00:00:00",
          "2021-01-01T00:00:00",
          "2021-01-07T00:00:00",
          "2021-01-22T00:00:00",
          "2021-02-01T00:00:00",
          "2021-02-11T00:00:00",
          "2021-02-25T00:00:00",
          "2021-03-01T00:00:00",
          "2021-03-17T00:00:00",
          "2021-03-31T00:00:00",
          "2021-04-01T00:00:00",
          "2021-04-14T00:00:00",
          "2021-05-01T00:00:00",
          "2021-05-03T00:00:00",
          "2021-05-13T00:00:00",
          "2021-05-28T00:00:00",
          "2021-06-01T00:00:00",
          "2021-06-11T00:00:00",
          "2021-06-24T00:00:00",
          "2021-07-01T00:00:00",
          "2021-07-08T00:00:00",
          "2021-07-22T00:00:00",
          "2021-08-01T00:00:00",
          "2021-08-06T00:00:00",
          "2021-08-24T00:00:00",
          "2021-09-01T00:00:00",
          "2021-09-13T00:00:00",
          "2021-09-16T00:00:00",
          "2021-10-01T00:00:00",
          "2021-11-01T00:00:00",
          "2021-11-21T00:00:00",
          "2021-12-01T00:00:00",
          "2021-12-05T00:00:00",
          "2021-12-19T00:00:00",
          "2022-01-01T00:00:00",
          "2022-01-02T00:00:00",
          "2022-01-16T00:00:00",
          "2022-02-01T00:00:00",
          "2022-02-13T00:00:00",
          "2022-02-27T00:00:00",
          "2022-03-01T00:00:00",
          "2022-03-13T00:00:00",
          "2022-03-27T00:00:00",
          "2022-04-01T00:00:00",
          "2022-04-11T00:00:00",
          "2022-04-24T00:00:00",
          "2022-05-01T00:00:00",
          "2022-05-07T00:00:00",
          "2022-06-01T00:00:00",
          "2022-06-05T00:00:00",
          "2022-06-19T00:00:00",
          "2022-07-01T00:00:00",
          "2022-07-05T00:00:00",
          "2022-07-17T00:00:00",
          "2022-07-31T00:00:00",
          "2022-08-01T00:00:00",
          "2022-08-15T00:00:00",
          "2022-09-01T00:00:00",
          "2022-09-10T00:00:00",
          "2022-09-25T00:00:00",
          "2022-10-01T00:00:00",
          "2022-10-31T00:00:00",
          "2022-11-01T00:00:00",
          "2022-11-20T00:00:00",
          "2022-12-01T00:00:00",
          "2022-12-04T00:00:00",
          "2022-12-18T00:00:00",
          "2023-01-01T00:00:00",
          "2023-01-15T00:00:00",
          "2023-01-29T00:00:00",
          "2023-02-01T00:00:00",
          "2023-02-12T00:00:00",
          "2023-02-26T00:00:00",
          "2023-03-01T00:00:00",
          "2023-03-12T00:00:00",
          "2023-03-26T00:00:00",
          "2023-04-01T00:00:00",
          "2023-04-09T00:00:00",
          "2023-04-23T00:00:00",
          "2023-05-01T00:00:00",
          "2023-05-07T00:00:00",
          "2023-05-21T00:00:00",
          "2023-06-01T00:00:00",
          "2023-06-04T00:00:00",
          "2023-06-18T00:00:00",
          "2023-07-01T00:00:00",
          "2023-07-02T00:00:00",
          "2023-07-16T00:00:00",
          "2023-07-30T00:00:00",
          "2023-08-01T00:00:00",
          "2023-08-13T00:00:00",
          "2023-08-27T00:00:00",
          "2023-09-01T00:00:00",
          "2023-09-10T00:00:00",
          "2023-09-24T00:00:00",
          "2023-10-01T00:00:00",
          "2023-10-03T00:00:00",
          "2023-11-01T00:00:00",
          "2023-11-05T00:00:00",
          "2023-11-19T00:00:00",
          "2023-12-01T00:00:00",
          "2023-12-03T00:00:00",
          "2023-12-17T00:00:00",
          "2023-12-31T00:00:00",
          "2024-01-01T00:00:00",
          "2024-01-13T00:00:00",
          "2024-01-28T00:00:00",
          "2024-02-01T00:00:00",
          "2024-02-11T00:00:00",
          "2024-02-25T00:00:00",
          "2024-03-01T00:00:00",
          "2024-03-10T00:00:00",
          "2024-03-24T00:00:00",
          "2024-04-01T00:00:00",
          "2024-04-07T00:00:00",
          "2024-04-21T00:00:00",
          "2024-05-01T00:00:00",
          "2024-05-05T00:00:00",
          "2024-05-19T00:00:00",
          "2024-06-01T00:00:00",
          "2024-06-02T00:00:00",
          "2024-06-16T00:00:00",
          "2024-06-30T00:00:00",
          "2024-07-01T00:00:00",
          "2024-07-14T00:00:00",
          "2024-08-01T00:00:00",
          "2024-08-11T00:00:00",
          "2024-08-25T00:00:00",
          "2024-09-01T00:00:00",
          "2024-09-08T00:00:00",
          "2024-10-01T00:00:00",
          "2024-11-01T00:00:00"
         ],
         "xaxis": "x",
         "y": {
          "bdata": "AAAAAAAA+H8AAAAAQCv3QAAAAADAkvFAAAAAAAC/6EAAAAAAQBfnQAAAAACAb+VAAAAAAMDH40BVVVVV1fLiQKuqqqrqHeJAAAAAAABJ4UAAAAAAgNPgQAAAAAAAXuBAAAAAACA04EAAAAAAQArgQAAAAACATd5AAAAAAICG3EAAAAAAQPPcQAAAAAAAYN1AVVVVVdV53UCrqqqqqpPdQAAAAACArd1AAAAAAEC91kAAAAAAAJrPQAAAAAAgH9FAAAAAAEBx0kAAAAAAYMPTQAAAAACAFdVAVVVVVRWW1kCrqqqqqhbYQAAAAABAl9lAVVVVVdUX20CrqqqqapjcQAAAAAAAGd5AAAAAAACc30AAAAAAgI/gQAAAAAAAUeFAAAAAAIAS4kAAAAAAANTiQAAAAAAAruNAAAAAAACI5EAAAAAAAGLlQAAAAAAAPOZAAAAAAAAW50AAAAAAgE7oQAAAAAAAh+lAAAAAAIC/6kAAAAAAQBHtQAAAAAAAY+9AAAAAAGDa8EAAAAAAIOPwQKuqqqoqDPFAVVVVVTU18UAAAAAAQF7xQFVVVVVVtfFAq6qqqmoM8kAAAAAAgGPyQAAAAACANPRAAAAAAIAF9kAAAAAAgNb3QAAAAADAqf1AAAAAAIC+AUEAAAAAIKgEQauqqqrK1gRBVVVVVXUFBUEAAAAAIDQFQQAAAAC4IwVBAAAAAFATBUEAAAAAMEIFQQAAAAAQcQVBAAAAAPCfBUEAAAAA0M4FQVVVVVUVtAZBq6qqqlqZB0EAAAAAoH4IQVVVVVVlUwhBq6qqqiooCEEAAAAA8PwHQVVVVVV1igdBq6qqqvoXB0EAAAAAgKUGQVVVVVVlkgVBq6qqqkp/BEEAAAAAMGwDQQAAAABgYwRBAAAAAFCbBEEAAAAAQNMEQVVVVVWV5gNBq6qqqur5AkEAAAAAQA0CQauqqqraggJBVVVVVXX4AkEAAAAAEG4DQVVVVVXViwVBq6qqqpqpB0EAAAAAYMcJQQAAAABgdwlBAAAAAGAnCUEAAAAAYNcIQVVVVVXFsAlBq6qqqiqKCkEAAAAAkGMLQQAAAAAIcAlBAAAAAIB8B0FVVVVVZQ4HQauqqqpKoAZBAAAAADAyBkEAAAAAuDEGQQAAAABAMQZBAAAAAMgwBkEAAAAAUDAGQQAAAADowwdBAAAAAIBXCUFVVVVVxT0JQauqqqoKJAlBAAAAAFAKCUEAAAAAKDIJQQAAAAAAWglBAAAAABA6CkEAAAAAIBoLQauqqqp6VgdBVVVVVdWSA0EAAAAAYJ7/QKuqqqpqs/9AVVVVVXXI/0AAAAAAgN3/QAAAAAAQSAFBAAAAAGChAkEAAAAAsPoDQQAAAACgzQRBAAAAAJCgBUEAAAAAgHMGQQAAAADg8AVBAAAAAEBuBUEAAAAAoOsEQauqqqpK/wFBqqqqquol/kAAAAAAQE34QFVVVVXV/vpAq6qqqmqw/UAAAAAAADEAQQAAAAA0qwFBAAAAAGglA0EAAAAAnJ8EQQAAAADQGQZBAAAAAKCiB0EAAAAAcCsJQQAAAABAtApBVVVVVaV7CUGrqqqqCkMIQQAAAABwCgdBAAAAAFAvB0EAAAAAMFQHQauqqqrqtglBVVVVVaUZDEEAAAAAYHwOQQAAAADApwpBAAAAACDTBkEAAAAAgP4CQQAAAADAU/5AVVVVVdWp/0BVVVVV9X8AQQAAAAAAKwFBq6qqqvoJAUFVVVVV9egAQQAAAADwxwBBq6qqqqpuAEFVVVVVZRUAQQAAAABAeP9Aq6qqqkqT/kBVVVVVVa79QAAAAABgyfxAAAAAACD9+UAAAAAA4DD3QAAAAACgZPRAAAAAALi88kAAAAAA0BTxQAAAAADQ2e5AAAAAAACK60AAAAAAoO7rQAAAAABAU+xAVVVVVVWm60CrqqqqavnqQAAAAACATOpAAAAAAGDz6kAAAAAAQJrrQAAAAABAwuZA",
          "dtype": "f8"
         },
         "yaxis": "y"
        },
        {
         "hovertemplate": "source=cbp_all<br>date=%{x}<br>value=%{y}<extra></extra>",
         "legendgroup": "cbp_all",
         "line": {
          "color": "#EF553B",
          "dash": "solid"
         },
         "marker": {
          "symbol": "circle"
         },
         "mode": "lines",
         "name": "cbp_all",
         "orientation": "v",
         "showlegend": true,
         "type": "scatter",
         "x": [
          "2019-05-04T00:00:00",
          "2019-06-01T00:00:00",
          "2019-07-01T00:00:00",
          "2019-08-01T00:00:00",
          "2019-08-03T00:00:00",
          "2019-08-31T00:00:00",
          "2019-09-01T00:00:00",
          "2019-09-21T00:00:00",
          "2019-09-30T00:00:00",
          "2019-10-01T00:00:00",
          "2019-10-26T00:00:00",
          "2019-11-01T00:00:00",
          "2019-11-30T00:00:00",
          "2019-12-01T00:00:00",
          "2019-12-21T00:00:00",
          "2020-01-01T00:00:00",
          "2020-01-04T00:00:00",
          "2020-02-01T00:00:00",
          "2020-02-08T00:00:00",
          "2020-02-29T00:00:00",
          "2020-03-01T00:00:00",
          "2020-03-21T00:00:00",
          "2020-04-01T00:00:00",
          "2020-04-11T00:00:00",
          "2020-04-18T00:00:00",
          "2020-04-25T00:00:00",
          "2020-05-01T00:00:00",
          "2020-05-02T00:00:00",
          "2020-05-09T00:00:00",
          "2020-05-16T00:00:00",
          "2020-05-23T00:00:00",
          "2020-05-30T00:00:00",
          "2020-06-01T00:00:00",
          "2020-06-06T00:00:00",
          "2020-06-13T00:00:00",
          "2020-06-20T00:00:00",
          "2020-06-27T00:00:00",
          "2020-07-01T00:00:00",
          "2020-07-04T00:00:00",
          "2020-07-11T00:00:00",
          "2020-07-18T00:00:00",
          "2020-07-25T00:00:00",
          "2020-08-01T00:00:00",
          "2020-08-08T00:00:00",
          "2020-08-21T00:00:00",
          "2020-09-01T00:00:00",
          "2020-09-04T00:00:00",
          "2020-09-18T00:00:00",
          "2020-10-01T00:00:00",
          "2020-11-01T00:00:00",
          "2020-11-14T00:00:00",
          "2020-11-26T00:00:00",
          "2020-12-01T00:00:00",
          "2020-12-10T00:00:00",
          "2020-12-30T00:00:00",
          "2021-01-01T00:00:00",
          "2021-01-07T00:00:00",
          "2021-01-22T00:00:00",
          "2021-02-01T00:00:00",
          "2021-02-11T00:00:00",
          "2021-02-25T00:00:00",
          "2021-03-01T00:00:00",
          "2021-03-17T00:00:00",
          "2021-03-31T00:00:00",
          "2021-04-01T00:00:00",
          "2021-04-14T00:00:00",
          "2021-05-01T00:00:00",
          "2021-05-03T00:00:00",
          "2021-05-13T00:00:00",
          "2021-05-28T00:00:00",
          "2021-06-01T00:00:00",
          "2021-06-11T00:00:00",
          "2021-06-24T00:00:00",
          "2021-07-01T00:00:00",
          "2021-07-08T00:00:00",
          "2021-07-22T00:00:00",
          "2021-08-01T00:00:00",
          "2021-08-06T00:00:00",
          "2021-08-24T00:00:00",
          "2021-09-01T00:00:00",
          "2021-09-13T00:00:00",
          "2021-09-16T00:00:00",
          "2021-10-01T00:00:00",
          "2021-11-01T00:00:00",
          "2021-11-21T00:00:00",
          "2021-12-01T00:00:00",
          "2021-12-05T00:00:00",
          "2021-12-19T00:00:00",
          "2022-01-01T00:00:00",
          "2022-01-02T00:00:00",
          "2022-01-16T00:00:00",
          "2022-02-01T00:00:00",
          "2022-02-13T00:00:00",
          "2022-02-27T00:00:00",
          "2022-03-01T00:00:00",
          "2022-03-13T00:00:00",
          "2022-03-27T00:00:00",
          "2022-04-01T00:00:00",
          "2022-04-11T00:00:00",
          "2022-04-24T00:00:00",
          "2022-05-01T00:00:00",
          "2022-05-07T00:00:00",
          "2022-06-01T00:00:00",
          "2022-06-05T00:00:00",
          "2022-06-19T00:00:00",
          "2022-07-01T00:00:00",
          "2022-07-05T00:00:00",
          "2022-07-17T00:00:00",
          "2022-07-31T00:00:00",
          "2022-08-01T00:00:00",
          "2022-08-15T00:00:00",
          "2022-09-01T00:00:00",
          "2022-09-10T00:00:00",
          "2022-09-25T00:00:00",
          "2022-10-01T00:00:00",
          "2022-10-31T00:00:00",
          "2022-11-01T00:00:00",
          "2022-11-20T00:00:00",
          "2022-12-01T00:00:00",
          "2022-12-04T00:00:00",
          "2022-12-18T00:00:00",
          "2023-01-01T00:00:00",
          "2023-01-15T00:00:00",
          "2023-01-29T00:00:00",
          "2023-02-01T00:00:00",
          "2023-02-12T00:00:00",
          "2023-02-26T00:00:00",
          "2023-03-01T00:00:00",
          "2023-03-12T00:00:00",
          "2023-03-26T00:00:00",
          "2023-04-01T00:00:00",
          "2023-04-09T00:00:00",
          "2023-04-23T00:00:00",
          "2023-05-01T00:00:00",
          "2023-05-07T00:00:00",
          "2023-05-21T00:00:00",
          "2023-06-01T00:00:00",
          "2023-06-04T00:00:00",
          "2023-06-18T00:00:00",
          "2023-07-01T00:00:00",
          "2023-07-02T00:00:00",
          "2023-07-16T00:00:00",
          "2023-07-30T00:00:00",
          "2023-08-01T00:00:00",
          "2023-08-13T00:00:00",
          "2023-08-27T00:00:00",
          "2023-09-01T00:00:00",
          "2023-09-10T00:00:00",
          "2023-09-24T00:00:00",
          "2023-10-01T00:00:00",
          "2023-10-03T00:00:00",
          "2023-11-01T00:00:00",
          "2023-11-05T00:00:00",
          "2023-11-19T00:00:00",
          "2023-12-01T00:00:00",
          "2023-12-03T00:00:00",
          "2023-12-17T00:00:00",
          "2023-12-31T00:00:00",
          "2024-01-01T00:00:00",
          "2024-01-13T00:00:00",
          "2024-01-28T00:00:00",
          "2024-02-01T00:00:00",
          "2024-02-11T00:00:00",
          "2024-02-25T00:00:00",
          "2024-03-01T00:00:00",
          "2024-03-10T00:00:00",
          "2024-03-24T00:00:00",
          "2024-04-01T00:00:00",
          "2024-04-07T00:00:00",
          "2024-04-21T00:00:00",
          "2024-05-01T00:00:00",
          "2024-05-05T00:00:00",
          "2024-05-19T00:00:00",
          "2024-06-01T00:00:00",
          "2024-06-02T00:00:00",
          "2024-06-16T00:00:00",
          "2024-06-30T00:00:00",
          "2024-07-01T00:00:00",
          "2024-07-14T00:00:00",
          "2024-08-01T00:00:00",
          "2024-08-11T00:00:00",
          "2024-08-25T00:00:00",
          "2024-09-01T00:00:00",
          "2024-09-08T00:00:00",
          "2024-10-01T00:00:00",
          "2024-11-01T00:00:00"
         ],
         "xaxis": "x",
         "y": {
          "bdata": "AAAAAABk3UAAAAAAoE/gQKuqqqoq7eBAVVVVVbWK4UAAAAAAQCjiQAAAAACgAeFAAAAAAJCX4EAAAAAAgC3gQAAAAABASt9AAAAAAECh3kAAAAAAQPjdQAAAAABg9NtAAAAAAIDw2UAAAAAAALbYQAAAAACAe9dAAAAAAABK10AAAAAAgBjXQAAAAAAgrdVAAAAAAMBB1EAAAAAAAC7TQAAAAACgxdJAAAAAAEBd0kAAAAAAALjQQAAAAACAJc5AAAAAAABzzEAAAAAAAP7KQAAAAABAYMpAAAAAAIDCyUAAAAAAgGvIQAAAAAAANsdAAAAAAAAxxkAAAAAAAKXFQAAAAACAKcVAAAAAAACuxEAAAAAAgMfDQAAAAAAAHsNAAAAAAIA0wkAAAAAAACLCQAAAAACAD8JAAAAAAICKwUAAAAAAgEfBQAAAAACAX8BAAAAAAACpv0AAAAAAAAG+QAAAAAAA8rxAAAAAAAAbvEAAAAAAAES7QAAAAAAAurlAAAAAAADVt0AAAAAAAPC1QAAAAAAAC7RAAAAAAADuskAAAAAAgMOyQAAAAAAAmbJAAAAAAADRsUAAAAAAgCeyQAAAAAAAfrJAAAAAAADcsEAAAAAAAI+xQAAAAAAAQrJAAAAAAAArs0AAAAAAAJi3QAAAAAAABbxAAAAAAADLv0AAAAAAQIzBQAAAAAAAM8NAAAAAAAApxEAAAAAAAB/FQAAAAAAAxMtAAAAAAAB10EAAAAAAwOzRQAAAAACAZNNAAAAAAIAM1UAAAAAA4JDVQAAAAABAFdZAAAAAAMCz1UAAAAAAQBfVQAAAAADAetRAAAAAAEAX1EAAAAAAQBHTQAAAAABAC9JAAAAAAMCL0EAAAAAAQLvQQAAAAACgBdFAAAAAAABQ0UAAAAAAwAzRQAAAAACAydBAAAAAAAA9z0AAAAAAgE/QQAAAAACAANFAAAAAAICSz0AAAAAAgHjOQAAAAACAXs1AAAAAAICTyUAAAAAAgJLLQAAAAACAkc1AAAAAAICczkAAAAAAwJ7MQAAAAAAAocpAAAAAAIC1y0AAAAAAgFfOQAAAAADAfNBAAAAAAOBr0UAAAAAAAFvSQAAAAADAANFAAAAAAODb0EAAAAAAALfQQAAAAADAJtBAAAAAAMBv0EAAAAAAgJrQQAAAAABAxdBAAAAAAKBo0UAAAAAAAAzSQAAAAABAHdFAAAAAAMAx00AAAAAAQEbVQAAAAABgSdVAAAAAAIBM1UAAAAAAQM/UQAAAAAAAUtRAAAAAAAAWzUAAAAAAADXIQAAAAACAC8lAAAAAAAABz0AAAAAAwG3QQAAAAAAAW9FAAAAAAIB60UAAAAAAwKvRQAAAAAAA3dFAAAAAAED40EAAAAAAIEnQQAAAAAAANM9AAAAAAACKzUAAAAAAgFrKQAAAAAAAK8dAAAAAAAB60UAAAAAAoNfSQAAAAABANdRAAAAAAICM00AAAAAAYLLTQAAAAABA2NNAAAAAAABP1EAAAAAAgJHTQAAAAADgr9NAAAAAAEDO00AAAAAAwJPWQAAAAAAgEthAAAAAAICQ2UAAAAAAQEfZQAAAAABgw9lAAAAAAIA/2kAAAAAAAK/bQAAAAACAHt1AAAAAAMA83EAAAAAAAA3bQAAAAABA3dlAAAAAAMBE2UAAAAAAQKXZQAAAAACA9dlAAAAAAMBF2kAAAAAAwOXaQAAAAACApNpAAAAAAEBj2kAAAAAAADzbQAAAAADgGttAAAAAAMD52kAAAAAAAKjYQAAAAAAgc9dAAAAAAEA+1kAAAAAAgMTVQAAAAACgu9ZAAAAAAMCy10AAAAAAgJvXQAAAAADg89dAAAAAAEBM2EAAAAAAABXZQAAAAACAGdhAAAAAAMCl10AAAAAAADLXQAAAAACAxNZAAAAAAABX1kAAAAAAwC7WQAAAAACgutZAAAAAAIBG10AAAAAAgEbXQAAAAACARtdA",
          "dtype": "f8"
         },
         "yaxis": "y"
        }
       ],
       "layout": {
        "legend": {
         "title": {
          "text": "source"
         },
         "tracegroupgap": 0
        },
        "template": {
         "data": {
          "bar": [
           {
            "error_x": {
             "color": "#2a3f5f"
            },
            "error_y": {
             "color": "#2a3f5f"
            },
            "marker": {
             "line": {
              "color": "white",
              "width": 0.5
             },
             "pattern": {
              "fillmode": "overlay",
              "size": 10,
              "solidity": 0.2
             }
            },
            "type": "bar"
           }
          ],
          "barpolar": [
           {
            "marker": {
             "line": {
              "color": "white",
              "width": 0.5
             },
             "pattern": {
              "fillmode": "overlay",
              "size": 10,
              "solidity": 0.2
             }
            },
            "type": "barpolar"
           }
          ],
          "carpet": [
           {
            "aaxis": {
             "endlinecolor": "#2a3f5f",
             "gridcolor": "#C8D4E3",
             "linecolor": "#C8D4E3",
             "minorgridcolor": "#C8D4E3",
             "startlinecolor": "#2a3f5f"
            },
            "baxis": {
             "endlinecolor": "#2a3f5f",
             "gridcolor": "#C8D4E3",
             "linecolor": "#C8D4E3",
             "minorgridcolor": "#C8D4E3",
             "startlinecolor": "#2a3f5f"
            },
            "type": "carpet"
           }
          ],
          "choropleth": [
           {
            "colorbar": {
             "outlinewidth": 0,
             "ticks": ""
            },
            "type": "choropleth"
           }
          ],
          "contour": [
           {
            "colorbar": {
             "outlinewidth": 0,
             "ticks": ""
            },
            "colorscale": [
             [
              0,
              "#0d0887"
             ],
             [
              0.1111111111111111,
              "#46039f"
             ],
             [
              0.2222222222222222,
              "#7201a8"
             ],
             [
              0.3333333333333333,
              "#9c179e"
             ],
             [
              0.4444444444444444,
              "#bd3786"
             ],
             [
              0.5555555555555556,
              "#d8576b"
             ],
             [
              0.6666666666666666,
              "#ed7953"
             ],
             [
              0.7777777777777778,
              "#fb9f3a"
             ],
             [
              0.8888888888888888,
              "#fdca26"
             ],
             [
              1,
              "#f0f921"
             ]
            ],
            "type": "contour"
           }
          ],
          "contourcarpet": [
           {
            "colorbar": {
             "outlinewidth": 0,
             "ticks": ""
            },
            "type": "contourcarpet"
           }
          ],
          "heatmap": [
           {
            "colorbar": {
             "outlinewidth": 0,
             "ticks": ""
            },
            "colorscale": [
             [
              0,
              "#0d0887"
             ],
             [
              0.1111111111111111,
              "#46039f"
             ],
             [
              0.2222222222222222,
              "#7201a8"
             ],
             [
              0.3333333333333333,
              "#9c179e"
             ],
             [
              0.4444444444444444,
              "#bd3786"
             ],
             [
              0.5555555555555556,
              "#d8576b"
             ],
             [
              0.6666666666666666,
              "#ed7953"
             ],
             [
              0.7777777777777778,
              "#fb9f3a"
             ],
             [
              0.8888888888888888,
              "#fdca26"
             ],
             [
              1,
              "#f0f921"
             ]
            ],
            "type": "heatmap"
           }
          ],
          "histogram": [
           {
            "marker": {
             "pattern": {
              "fillmode": "overlay",
              "size": 10,
              "solidity": 0.2
             }
            },
            "type": "histogram"
           }
          ],
          "histogram2d": [
           {
            "colorbar": {
             "outlinewidth": 0,
             "ticks": ""
            },
            "colorscale": [
             [
              0,
              "#0d0887"
             ],
             [
              0.1111111111111111,
              "#46039f"
             ],
             [
              0.2222222222222222,
              "#7201a8"
             ],
             [
              0.3333333333333333,
              "#9c179e"
             ],
             [
              0.4444444444444444,
              "#bd3786"
             ],
             [
              0.5555555555555556,
              "#d8576b"
             ],
             [
              0.6666666666666666,
              "#ed7953"
             ],
             [
              0.7777777777777778,
              "#fb9f3a"
             ],
             [
              0.8888888888888888,
              "#fdca26"
             ],
             [
              1,
              "#f0f921"
             ]
            ],
            "type": "histogram2d"
           }
          ],
          "histogram2dcontour": [
           {
            "colorbar": {
             "outlinewidth": 0,
             "ticks": ""
            },
            "colorscale": [
             [
              0,
              "#0d0887"
             ],
             [
              0.1111111111111111,
              "#46039f"
             ],
             [
              0.2222222222222222,
              "#7201a8"
             ],
             [
              0.3333333333333333,
              "#9c179e"
             ],
             [
              0.4444444444444444,
              "#bd3786"
             ],
             [
              0.5555555555555556,
              "#d8576b"
             ],
             [
              0.6666666666666666,
              "#ed7953"
             ],
             [
              0.7777777777777778,
              "#fb9f3a"
             ],
             [
              0.8888888888888888,
              "#fdca26"
             ],
             [
              1,
              "#f0f921"
             ]
            ],
            "type": "histogram2dcontour"
           }
          ],
          "mesh3d": [
           {
            "colorbar": {
             "outlinewidth": 0,
             "ticks": ""
            },
            "type": "mesh3d"
           }
          ],
          "parcoords": [
           {
            "line": {
             "colorbar": {
              "outlinewidth": 0,
              "ticks": ""
             }
            },
            "type": "parcoords"
           }
          ],
          "pie": [
           {
            "automargin": true,
            "type": "pie"
           }
          ],
          "scatter": [
           {
            "fillpattern": {
             "fillmode": "overlay",
             "size": 10,
             "solidity": 0.2
            },
            "type": "scatter"
           }
          ],
          "scatter3d": [
           {
            "line": {
             "colorbar": {
              "outlinewidth": 0,
              "ticks": ""
             }
            },
            "marker": {
             "colorbar": {
              "outlinewidth": 0,
              "ticks": ""
             }
            },
            "type": "scatter3d"
           }
          ],
          "scattercarpet": [
           {
            "marker": {
             "colorbar": {
              "outlinewidth": 0,
              "ticks": ""
             }
            },
            "type": "scattercarpet"
           }
          ],
          "scattergeo": [
           {
            "marker": {
             "colorbar": {
              "outlinewidth": 0,
              "ticks": ""
             }
            },
            "type": "scattergeo"
           }
          ],
          "scattergl": [
           {
            "marker": {
             "colorbar": {
              "outlinewidth": 0,
              "ticks": ""
             }
            },
            "type": "scattergl"
           }
          ],
          "scattermap": [
           {
            "marker": {
             "colorbar": {
              "outlinewidth": 0,
              "ticks": ""
             }
            },
            "type": "scattermap"
           }
          ],
          "scattermapbox": [
           {
            "marker": {
             "colorbar": {
              "outlinewidth": 0,
              "ticks": ""
             }
            },
            "type": "scattermapbox"
           }
          ],
          "scatterpolar": [
           {
            "marker": {
             "colorbar": {
              "outlinewidth": 0,
              "ticks": ""
             }
            },
            "type": "scatterpolar"
           }
          ],
          "scatterpolargl": [
           {
            "marker": {
             "colorbar": {
              "outlinewidth": 0,
              "ticks": ""
             }
            },
            "type": "scatterpolargl"
           }
          ],
          "scatterternary": [
           {
            "marker": {
             "colorbar": {
              "outlinewidth": 0,
              "ticks": ""
             }
            },
            "type": "scatterternary"
           }
          ],
          "surface": [
           {
            "colorbar": {
             "outlinewidth": 0,
             "ticks": ""
            },
            "colorscale": [
             [
              0,
              "#0d0887"
             ],
             [
              0.1111111111111111,
              "#46039f"
             ],
             [
              0.2222222222222222,
              "#7201a8"
             ],
             [
              0.3333333333333333,
              "#9c179e"
             ],
             [
              0.4444444444444444,
              "#bd3786"
             ],
             [
              0.5555555555555556,
              "#d8576b"
             ],
             [
              0.6666666666666666,
              "#ed7953"
             ],
             [
              0.7777777777777778,
              "#fb9f3a"
             ],
             [
              0.8888888888888888,
              "#fdca26"
             ],
             [
              1,
              "#f0f921"
             ]
            ],
            "type": "surface"
           }
          ],
          "table": [
           {
            "cells": {
             "fill": {
              "color": "#EBF0F8"
             },
             "line": {
              "color": "white"
             }
            },
            "header": {
             "fill": {
              "color": "#C8D4E3"
             },
             "line": {
              "color": "white"
             }
            },
            "type": "table"
           }
          ]
         },
         "layout": {
          "annotationdefaults": {
           "arrowcolor": "#2a3f5f",
           "arrowhead": 0,
           "arrowwidth": 1
          },
          "autotypenumbers": "strict",
          "coloraxis": {
           "colorbar": {
            "outlinewidth": 0,
            "ticks": ""
           }
          },
          "colorscale": {
           "diverging": [
            [
             0,
             "#8e0152"
            ],
            [
             0.1,
             "#c51b7d"
            ],
            [
             0.2,
             "#de77ae"
            ],
            [
             0.3,
             "#f1b6da"
            ],
            [
             0.4,
             "#fde0ef"
            ],
            [
             0.5,
             "#f7f7f7"
            ],
            [
             0.6,
             "#e6f5d0"
            ],
            [
             0.7,
             "#b8e186"
            ],
            [
             0.8,
             "#7fbc41"
            ],
            [
             0.9,
             "#4d9221"
            ],
            [
             1,
             "#276419"
            ]
           ],
           "sequential": [
            [
             0,
             "#0d0887"
            ],
            [
             0.1111111111111111,
             "#46039f"
            ],
            [
             0.2222222222222222,
             "#7201a8"
            ],
            [
             0.3333333333333333,
             "#9c179e"
            ],
            [
             0.4444444444444444,
             "#bd3786"
            ],
            [
             0.5555555555555556,
             "#d8576b"
            ],
            [
             0.6666666666666666,
             "#ed7953"
            ],
            [
             0.7777777777777778,
             "#fb9f3a"
            ],
            [
             0.8888888888888888,
             "#fdca26"
            ],
            [
             1,
             "#f0f921"
            ]
           ],
           "sequentialminus": [
            [
             0,
             "#0d0887"
            ],
            [
             0.1111111111111111,
             "#46039f"
            ],
            [
             0.2222222222222222,
             "#7201a8"
            ],
            [
             0.3333333333333333,
             "#9c179e"
            ],
            [
             0.4444444444444444,
             "#bd3786"
            ],
            [
             0.5555555555555556,
             "#d8576b"
            ],
            [
             0.6666666666666666,
             "#ed7953"
            ],
            [
             0.7777777777777778,
             "#fb9f3a"
            ],
            [
             0.8888888888888888,
             "#fdca26"
            ],
            [
             1,
             "#f0f921"
            ]
           ]
          },
          "colorway": [
           "#636efa",
           "#EF553B",
           "#00cc96",
           "#ab63fa",
           "#FFA15A",
           "#19d3f3",
           "#FF6692",
           "#B6E880",
           "#FF97FF",
           "#FECB52"
          ],
          "font": {
           "color": "#2a3f5f"
          },
          "geo": {
           "bgcolor": "white",
           "lakecolor": "white",
           "landcolor": "white",
           "showlakes": true,
           "showland": true,
           "subunitcolor": "#C8D4E3"
          },
          "hoverlabel": {
           "align": "left"
          },
          "hovermode": "closest",
          "mapbox": {
           "style": "light"
          },
          "paper_bgcolor": "white",
          "plot_bgcolor": "white",
          "polar": {
           "angularaxis": {
            "gridcolor": "#EBF0F8",
            "linecolor": "#EBF0F8",
            "ticks": ""
           },
           "bgcolor": "white",
           "radialaxis": {
            "gridcolor": "#EBF0F8",
            "linecolor": "#EBF0F8",
            "ticks": ""
           }
          },
          "scene": {
           "xaxis": {
            "backgroundcolor": "white",
            "gridcolor": "#DFE8F3",
            "gridwidth": 2,
            "linecolor": "#EBF0F8",
            "showbackground": true,
            "ticks": "",
            "zerolinecolor": "#EBF0F8"
           },
           "yaxis": {
            "backgroundcolor": "white",
            "gridcolor": "#DFE8F3",
            "gridwidth": 2,
            "linecolor": "#EBF0F8",
            "showbackground": true,
            "ticks": "",
            "zerolinecolor": "#EBF0F8"
           },
           "zaxis": {
            "backgroundcolor": "white",
            "gridcolor": "#DFE8F3",
            "gridwidth": 2,
            "linecolor": "#EBF0F8",
            "showbackground": true,
            "ticks": "",
            "zerolinecolor": "#EBF0F8"
           }
          },
          "shapedefaults": {
           "line": {
            "color": "#2a3f5f"
           }
          },
          "ternary": {
           "aaxis": {
            "gridcolor": "#DFE8F3",
            "linecolor": "#A2B1C6",
            "ticks": ""
           },
           "baxis": {
            "gridcolor": "#DFE8F3",
            "linecolor": "#A2B1C6",
            "ticks": ""
           },
           "bgcolor": "white",
           "caxis": {
            "gridcolor": "#DFE8F3",
            "linecolor": "#A2B1C6",
            "ticks": ""
           }
          },
          "title": {
           "x": 0.05
          },
          "xaxis": {
           "automargin": true,
           "gridcolor": "#EBF0F8",
           "linecolor": "#EBF0F8",
           "ticks": "",
           "title": {
            "standoff": 15
           },
           "zerolinecolor": "#EBF0F8",
           "zerolinewidth": 2
          },
          "yaxis": {
           "automargin": true,
           "gridcolor": "#EBF0F8",
           "linecolor": "#EBF0F8",
           "ticks": "",
           "title": {
            "standoff": 15
           },
           "zerolinecolor": "#EBF0F8",
           "zerolinewidth": 2
          }
         }
        },
        "title": {
         "text": "Southwest and CBP Over Time"
        },
        "xaxis": {
         "anchor": "y",
         "domain": [
          0,
          1
         ],
         "title": {
          "text": "date"
         }
        },
        "yaxis": {
         "anchor": "x",
         "domain": [
          0,
          1
         ],
         "title": {
          "text": "value"
         }
        }
       }
      },
      "image/png": "[encoded data removed]"
     },
     "metadata": {},
     "output_type": "display_data"
    }
   ],
   "source": [
    "df_subset['Southwest Land Border'] = df_subset['Southwest Land Border'].interpolate()\n",
    "df_subset['cbp_all'] = df_subset['cbp_all'].interpolate()\n",
    "\n",
    "df_melted = df_subset.melt(\n",
    "    id_vars=\"date\",\n",
    "    value_vars=[\"Southwest Land Border\", \"cbp_all\"],\n",
    "    var_name=\"source\",\n",
    "    value_name=\"value\",\n",
    ")\n",
    "\n",
    "px.line(\n",
    "    df_melted,\n",
    "    x=\"date\",\n",
    "    y=\"value\",\n",
    "    color=\"source\",\n",
    "    title=\"Southwest and CBP Over Time\",\n",
    " #   markers=True,\n",
    ")"
   ]
  },
  {
   "cell_type": "code",
   "execution_count": 21,
   "id": "4dea8281",
   "metadata": {},
   "outputs": [
    {
     "data": {
      "application/vnd.plotly.v1+json": {
       "config": {
        "plotlyServerURL": "https://plot.ly"
       },
       "data": [
        {
         "line": {
          "color": "#1f77b4"
         },
         "name": "Southwest Land Border",
         "type": "scatter",
         "x": [
          "2019-05-04T00:00:00",
          "2019-06-01T00:00:00",
          "2019-07-01T00:00:00",
          "2019-08-01T00:00:00",
          "2019-08-03T00:00:00",
          "2019-08-31T00:00:00",
          "2019-09-01T00:00:00",
          "2019-09-21T00:00:00",
          "2019-09-30T00:00:00",
          "2019-10-01T00:00:00",
          "2019-10-26T00:00:00",
          "2019-11-01T00:00:00",
          "2019-11-30T00:00:00",
          "2019-12-01T00:00:00",
          "2019-12-21T00:00:00",
          "2020-01-01T00:00:00",
          "2020-01-04T00:00:00",
          "2020-02-01T00:00:00",
          "2020-02-08T00:00:00",
          "2020-02-29T00:00:00",
          "2020-03-01T00:00:00",
          "2020-03-21T00:00:00",
          "2020-04-01T00:00:00",
          "2020-04-11T00:00:00",
          "2020-04-18T00:00:00",
          "2020-04-25T00:00:00",
          "2020-05-01T00:00:00",
          "2020-05-02T00:00:00",
          "2020-05-09T00:00:00",
          "2020-05-16T00:00:00",
          "2020-05-23T00:00:00",
          "2020-05-30T00:00:00",
          "2020-06-01T00:00:00",
          "2020-06-06T00:00:00",
          "2020-06-13T00:00:00",
          "2020-06-20T00:00:00",
          "2020-06-27T00:00:00",
          "2020-07-01T00:00:00",
          "2020-07-04T00:00:00",
          "2020-07-11T00:00:00",
          "2020-07-18T00:00:00",
          "2020-07-25T00:00:00",
          "2020-08-01T00:00:00",
          "2020-08-08T00:00:00",
          "2020-08-21T00:00:00",
          "2020-09-01T00:00:00",
          "2020-09-04T00:00:00",
          "2020-09-18T00:00:00",
          "2020-10-01T00:00:00",
          "2020-11-01T00:00:00",
          "2020-11-14T00:00:00",
          "2020-11-26T00:00:00",
          "2020-12-01T00:00:00",
          "2020-12-10T00:00:00",
          "2020-12-30T00:00:00",
          "2021-01-01T00:00:00",
          "2021-01-07T00:00:00",
          "2021-01-22T00:00:00",
          "2021-02-01T00:00:00",
          "2021-02-11T00:00:00",
          "2021-02-25T00:00:00",
          "2021-03-01T00:00:00",
          "2021-03-17T00:00:00",
          "2021-03-31T00:00:00",
          "2021-04-01T00:00:00",
          "2021-04-14T00:00:00",
          "2021-05-01T00:00:00",
          "2021-05-03T00:00:00",
          "2021-05-13T00:00:00",
          "2021-05-28T00:00:00",
          "2021-06-01T00:00:00",
          "2021-06-11T00:00:00",
          "2021-06-24T00:00:00",
          "2021-07-01T00:00:00",
          "2021-07-08T00:00:00",
          "2021-07-22T00:00:00",
          "2021-08-01T00:00:00",
          "2021-08-06T00:00:00",
          "2021-08-24T00:00:00",
          "2021-09-01T00:00:00",
          "2021-09-13T00:00:00",
          "2021-09-16T00:00:00",
          "2021-10-01T00:00:00",
          "2021-11-01T00:00:00",
          "2021-11-21T00:00:00",
          "2021-12-01T00:00:00",
          "2021-12-05T00:00:00",
          "2021-12-19T00:00:00",
          "2022-01-01T00:00:00",
          "2022-01-02T00:00:00",
          "2022-01-16T00:00:00",
          "2022-02-01T00:00:00",
          "2022-02-13T00:00:00",
          "2022-02-27T00:00:00",
          "2022-03-01T00:00:00",
          "2022-03-13T00:00:00",
          "2022-03-27T00:00:00",
          "2022-04-01T00:00:00",
          "2022-04-11T00:00:00",
          "2022-04-24T00:00:00",
          "2022-05-01T00:00:00",
          "2022-05-07T00:00:00",
          "2022-06-01T00:00:00",
          "2022-06-05T00:00:00",
          "2022-06-19T00:00:00",
          "2022-07-01T00:00:00",
          "2022-07-05T00:00:00",
          "2022-07-17T00:00:00",
          "2022-07-31T00:00:00",
          "2022-08-01T00:00:00",
          "2022-08-15T00:00:00",
          "2022-09-01T00:00:00",
          "2022-09-10T00:00:00",
          "2022-09-25T00:00:00",
          "2022-10-01T00:00:00",
          "2022-10-31T00:00:00",
          "2022-11-01T00:00:00",
          "2022-11-20T00:00:00",
          "2022-12-01T00:00:00",
          "2022-12-04T00:00:00",
          "2022-12-18T00:00:00",
          "2023-01-01T00:00:00",
          "2023-01-15T00:00:00",
          "2023-01-29T00:00:00",
          "2023-02-01T00:00:00",
          "2023-02-12T00:00:00",
          "2023-02-26T00:00:00",
          "2023-03-01T00:00:00",
          "2023-03-12T00:00:00",
          "2023-03-26T00:00:00",
          "2023-04-01T00:00:00",
          "2023-04-09T00:00:00",
          "2023-04-23T00:00:00",
          "2023-05-01T00:00:00",
          "2023-05-07T00:00:00",
          "2023-05-21T00:00:00",
          "2023-06-01T00:00:00",
          "2023-06-04T00:00:00",
          "2023-06-18T00:00:00",
          "2023-07-01T00:00:00",
          "2023-07-02T00:00:00",
          "2023-07-16T00:00:00",
          "2023-07-30T00:00:00",
          "2023-08-01T00:00:00",
          "2023-08-13T00:00:00",
          "2023-08-27T00:00:00",
          "2023-09-01T00:00:00",
          "2023-09-10T00:00:00",
          "2023-09-24T00:00:00",
          "2023-10-01T00:00:00",
          "2023-10-03T00:00:00",
          "2023-11-01T00:00:00",
          "2023-11-05T00:00:00",
          "2023-11-19T00:00:00",
          "2023-12-01T00:00:00",
          "2023-12-03T00:00:00",
          "2023-12-17T00:00:00",
          "2023-12-31T00:00:00",
          "2024-01-01T00:00:00",
          "2024-01-13T00:00:00",
          "2024-01-28T00:00:00",
          "2024-02-01T00:00:00",
          "2024-02-11T00:00:00",
          "2024-02-25T00:00:00",
          "2024-03-01T00:00:00",
          "2024-03-10T00:00:00",
          "2024-03-24T00:00:00",
          "2024-04-01T00:00:00",
          "2024-04-07T00:00:00",
          "2024-04-21T00:00:00",
          "2024-05-01T00:00:00",
          "2024-05-05T00:00:00",
          "2024-05-19T00:00:00",
          "2024-06-01T00:00:00",
          "2024-06-02T00:00:00",
          "2024-06-16T00:00:00",
          "2024-06-30T00:00:00",
          "2024-07-01T00:00:00",
          "2024-07-14T00:00:00",
          "2024-08-01T00:00:00",
          "2024-08-11T00:00:00",
          "2024-08-25T00:00:00",
          "2024-09-01T00:00:00",
          "2024-09-08T00:00:00",
          "2024-10-01T00:00:00",
          "2024-11-01T00:00:00"
         ],
         "y": {
          "bdata": "AAAAAAAA+H8AAAAAQCv3QAAAAADAkvFAAAAAAAC/6EAAAAAAQBfnQAAAAACAb+VAAAAAAMDH40BVVVVV1fLiQKuqqqrqHeJAAAAAAABJ4UAAAAAAgNPgQAAAAAAAXuBAAAAAACA04EAAAAAAQArgQAAAAACATd5AAAAAAICG3EAAAAAAQPPcQAAAAAAAYN1AVVVVVdV53UCrqqqqqpPdQAAAAACArd1AAAAAAEC91kAAAAAAAJrPQAAAAAAgH9FAAAAAAEBx0kAAAAAAYMPTQAAAAACAFdVAVVVVVRWW1kCrqqqqqhbYQAAAAABAl9lAVVVVVdUX20CrqqqqapjcQAAAAAAAGd5AAAAAAACc30AAAAAAgI/gQAAAAAAAUeFAAAAAAIAS4kAAAAAAANTiQAAAAAAAruNAAAAAAACI5EAAAAAAAGLlQAAAAAAAPOZAAAAAAAAW50AAAAAAgE7oQAAAAAAAh+lAAAAAAIC/6kAAAAAAQBHtQAAAAAAAY+9AAAAAAGDa8EAAAAAAIOPwQKuqqqoqDPFAVVVVVTU18UAAAAAAQF7xQFVVVVVVtfFAq6qqqmoM8kAAAAAAgGPyQAAAAACANPRAAAAAAIAF9kAAAAAAgNb3QAAAAADAqf1AAAAAAIC+AUEAAAAAIKgEQauqqqrK1gRBVVVVVXUFBUEAAAAAIDQFQQAAAAC4IwVBAAAAAFATBUEAAAAAMEIFQQAAAAAQcQVBAAAAAPCfBUEAAAAA0M4FQVVVVVUVtAZBq6qqqlqZB0EAAAAAoH4IQVVVVVVlUwhBq6qqqiooCEEAAAAA8PwHQVVVVVV1igdBq6qqqvoXB0EAAAAAgKUGQVVVVVVlkgVBq6qqqkp/BEEAAAAAMGwDQQAAAABgYwRBAAAAAFCbBEEAAAAAQNMEQVVVVVWV5gNBq6qqqur5AkEAAAAAQA0CQauqqqraggJBVVVVVXX4AkEAAAAAEG4DQVVVVVXViwVBq6qqqpqpB0EAAAAAYMcJQQAAAABgdwlBAAAAAGAnCUEAAAAAYNcIQVVVVVXFsAlBq6qqqiqKCkEAAAAAkGMLQQAAAAAIcAlBAAAAAIB8B0FVVVVVZQ4HQauqqqpKoAZBAAAAADAyBkEAAAAAuDEGQQAAAABAMQZBAAAAAMgwBkEAAAAAUDAGQQAAAADowwdBAAAAAIBXCUFVVVVVxT0JQauqqqoKJAlBAAAAAFAKCUEAAAAAKDIJQQAAAAAAWglBAAAAABA6CkEAAAAAIBoLQauqqqp6VgdBVVVVVdWSA0EAAAAAYJ7/QKuqqqpqs/9AVVVVVXXI/0AAAAAAgN3/QAAAAAAQSAFBAAAAAGChAkEAAAAAsPoDQQAAAACgzQRBAAAAAJCgBUEAAAAAgHMGQQAAAADg8AVBAAAAAEBuBUEAAAAAoOsEQauqqqpK/wFBqqqqquol/kAAAAAAQE34QFVVVVXV/vpAq6qqqmqw/UAAAAAAADEAQQAAAAA0qwFBAAAAAGglA0EAAAAAnJ8EQQAAAADQGQZBAAAAAKCiB0EAAAAAcCsJQQAAAABAtApBVVVVVaV7CUGrqqqqCkMIQQAAAABwCgdBAAAAAFAvB0EAAAAAMFQHQauqqqrqtglBVVVVVaUZDEEAAAAAYHwOQQAAAADApwpBAAAAACDTBkEAAAAAgP4CQQAAAADAU/5AVVVVVdWp/0BVVVVV9X8AQQAAAAAAKwFBq6qqqvoJAUFVVVVV9egAQQAAAADwxwBBq6qqqqpuAEFVVVVVZRUAQQAAAABAeP9Aq6qqqkqT/kBVVVVVVa79QAAAAABgyfxAAAAAACD9+UAAAAAA4DD3QAAAAACgZPRAAAAAALi88kAAAAAA0BTxQAAAAADQ2e5AAAAAAACK60AAAAAAoO7rQAAAAABAU+xAVVVVVVWm60CrqqqqavnqQAAAAACATOpAAAAAAGDz6kAAAAAAQJrrQAAAAABAwuZA",
          "dtype": "f8"
         },
         "yaxis": "y"
        },
        {
         "line": {
          "color": "#ff7f0e"
         },
         "name": "CBP All",
         "type": "scatter",
         "x": [
          "2019-05-04T00:00:00",
          "2019-06-01T00:00:00",
          "2019-07-01T00:00:00",
          "2019-08-01T00:00:00",
          "2019-08-03T00:00:00",
          "2019-08-31T00:00:00",
          "2019-09-01T00:00:00",
          "2019-09-21T00:00:00",
          "2019-09-30T00:00:00",
          "2019-10-01T00:00:00",
          "2019-10-26T00:00:00",
          "2019-11-01T00:00:00",
          "2019-11-30T00:00:00",
          "2019-12-01T00:00:00",
          "2019-12-21T00:00:00",
          "2020-01-01T00:00:00",
          "2020-01-04T00:00:00",
          "2020-02-01T00:00:00",
          "2020-02-08T00:00:00",
          "2020-02-29T00:00:00",
          "2020-03-01T00:00:00",
          "2020-03-21T00:00:00",
          "2020-04-01T00:00:00",
          "2020-04-11T00:00:00",
          "2020-04-18T00:00:00",
          "2020-04-25T00:00:00",
          "2020-05-01T00:00:00",
          "2020-05-02T00:00:00",
          "2020-05-09T00:00:00",
          "2020-05-16T00:00:00",
          "2020-05-23T00:00:00",
          "2020-05-30T00:00:00",
          "2020-06-01T00:00:00",
          "2020-06-06T00:00:00",
          "2020-06-13T00:00:00",
          "2020-06-20T00:00:00",
          "2020-06-27T00:00:00",
          "2020-07-01T00:00:00",
          "2020-07-04T00:00:00",
          "2020-07-11T00:00:00",
          "2020-07-18T00:00:00",
          "2020-07-25T00:00:00",
          "2020-08-01T00:00:00",
          "2020-08-08T00:00:00",
          "2020-08-21T00:00:00",
          "2020-09-01T00:00:00",
          "2020-09-04T00:00:00",
          "2020-09-18T00:00:00",
          "2020-10-01T00:00:00",
          "2020-11-01T00:00:00",
          "2020-11-14T00:00:00",
          "2020-11-26T00:00:00",
          "2020-12-01T00:00:00",
          "2020-12-10T00:00:00",
          "2020-12-30T00:00:00",
          "2021-01-01T00:00:00",
          "2021-01-07T00:00:00",
          "2021-01-22T00:00:00",
          "2021-02-01T00:00:00",
          "2021-02-11T00:00:00",
          "2021-02-25T00:00:00",
          "2021-03-01T00:00:00",
          "2021-03-17T00:00:00",
          "2021-03-31T00:00:00",
          "2021-04-01T00:00:00",
          "2021-04-14T00:00:00",
          "2021-05-01T00:00:00",
          "2021-05-03T00:00:00",
          "2021-05-13T00:00:00",
          "2021-05-28T00:00:00",
          "2021-06-01T00:00:00",
          "2021-06-11T00:00:00",
          "2021-06-24T00:00:00",
          "2021-07-01T00:00:00",
          "2021-07-08T00:00:00",
          "2021-07-22T00:00:00",
          "2021-08-01T00:00:00",
          "2021-08-06T00:00:00",
          "2021-08-24T00:00:00",
          "2021-09-01T00:00:00",
          "2021-09-13T00:00:00",
          "2021-09-16T00:00:00",
          "2021-10-01T00:00:00",
          "2021-11-01T00:00:00",
          "2021-11-21T00:00:00",
          "2021-12-01T00:00:00",
          "2021-12-05T00:00:00",
          "2021-12-19T00:00:00",
          "2022-01-01T00:00:00",
          "2022-01-02T00:00:00",
          "2022-01-16T00:00:00",
          "2022-02-01T00:00:00",
          "2022-02-13T00:00:00",
          "2022-02-27T00:00:00",
          "2022-03-01T00:00:00",
          "2022-03-13T00:00:00",
          "2022-03-27T00:00:00",
          "2022-04-01T00:00:00",
          "2022-04-11T00:00:00",
          "2022-04-24T00:00:00",
          "2022-05-01T00:00:00",
          "2022-05-07T00:00:00",
          "2022-06-01T00:00:00",
          "2022-06-05T00:00:00",
          "2022-06-19T00:00:00",
          "2022-07-01T00:00:00",
          "2022-07-05T00:00:00",
          "2022-07-17T00:00:00",
          "2022-07-31T00:00:00",
          "2022-08-01T00:00:00",
          "2022-08-15T00:00:00",
          "2022-09-01T00:00:00",
          "2022-09-10T00:00:00",
          "2022-09-25T00:00:00",
          "2022-10-01T00:00:00",
          "2022-10-31T00:00:00",
          "2022-11-01T00:00:00",
          "2022-11-20T00:00:00",
          "2022-12-01T00:00:00",
          "2022-12-04T00:00:00",
          "2022-12-18T00:00:00",
          "2023-01-01T00:00:00",
          "2023-01-15T00:00:00",
          "2023-01-29T00:00:00",
          "2023-02-01T00:00:00",
          "2023-02-12T00:00:00",
          "2023-02-26T00:00:00",
          "2023-03-01T00:00:00",
          "2023-03-12T00:00:00",
          "2023-03-26T00:00:00",
          "2023-04-01T00:00:00",
          "2023-04-09T00:00:00",
          "2023-04-23T00:00:00",
          "2023-05-01T00:00:00",
          "2023-05-07T00:00:00",
          "2023-05-21T00:00:00",
          "2023-06-01T00:00:00",
          "2023-06-04T00:00:00",
          "2023-06-18T00:00:00",
          "2023-07-01T00:00:00",
          "2023-07-02T00:00:00",
          "2023-07-16T00:00:00",
          "2023-07-30T00:00:00",
          "2023-08-01T00:00:00",
          "2023-08-13T00:00:00",
          "2023-08-27T00:00:00",
          "2023-09-01T00:00:00",
          "2023-09-10T00:00:00",
          "2023-09-24T00:00:00",
          "2023-10-01T00:00:00",
          "2023-10-03T00:00:00",
          "2023-11-01T00:00:00",
          "2023-11-05T00:00:00",
          "2023-11-19T00:00:00",
          "2023-12-01T00:00:00",
          "2023-12-03T00:00:00",
          "2023-12-17T00:00:00",
          "2023-12-31T00:00:00",
          "2024-01-01T00:00:00",
          "2024-01-13T00:00:00",
          "2024-01-28T00:00:00",
          "2024-02-01T00:00:00",
          "2024-02-11T00:00:00",
          "2024-02-25T00:00:00",
          "2024-03-01T00:00:00",
          "2024-03-10T00:00:00",
          "2024-03-24T00:00:00",
          "2024-04-01T00:00:00",
          "2024-04-07T00:00:00",
          "2024-04-21T00:00:00",
          "2024-05-01T00:00:00",
          "2024-05-05T00:00:00",
          "2024-05-19T00:00:00",
          "2024-06-01T00:00:00",
          "2024-06-02T00:00:00",
          "2024-06-16T00:00:00",
          "2024-06-30T00:00:00",
          "2024-07-01T00:00:00",
          "2024-07-14T00:00:00",
          "2024-08-01T00:00:00",
          "2024-08-11T00:00:00",
          "2024-08-25T00:00:00",
          "2024-09-01T00:00:00",
          "2024-09-08T00:00:00",
          "2024-10-01T00:00:00",
          "2024-11-01T00:00:00"
         ],
         "y": {
          "bdata": "AAAAAABk3UAAAAAAoE/gQKuqqqoq7eBAVVVVVbWK4UAAAAAAQCjiQAAAAACgAeFAAAAAAJCX4EAAAAAAgC3gQAAAAABASt9AAAAAAECh3kAAAAAAQPjdQAAAAABg9NtAAAAAAIDw2UAAAAAAALbYQAAAAACAe9dAAAAAAABK10AAAAAAgBjXQAAAAAAgrdVAAAAAAMBB1EAAAAAAAC7TQAAAAACgxdJAAAAAAEBd0kAAAAAAALjQQAAAAACAJc5AAAAAAABzzEAAAAAAAP7KQAAAAABAYMpAAAAAAIDCyUAAAAAAgGvIQAAAAAAANsdAAAAAAAAxxkAAAAAAAKXFQAAAAACAKcVAAAAAAACuxEAAAAAAgMfDQAAAAAAAHsNAAAAAAIA0wkAAAAAAACLCQAAAAACAD8JAAAAAAICKwUAAAAAAgEfBQAAAAACAX8BAAAAAAACpv0AAAAAAAAG+QAAAAAAA8rxAAAAAAAAbvEAAAAAAAES7QAAAAAAAurlAAAAAAADVt0AAAAAAAPC1QAAAAAAAC7RAAAAAAADuskAAAAAAgMOyQAAAAAAAmbJAAAAAAADRsUAAAAAAgCeyQAAAAAAAfrJAAAAAAADcsEAAAAAAAI+xQAAAAAAAQrJAAAAAAAArs0AAAAAAAJi3QAAAAAAABbxAAAAAAADLv0AAAAAAQIzBQAAAAAAAM8NAAAAAAAApxEAAAAAAAB/FQAAAAAAAxMtAAAAAAAB10EAAAAAAwOzRQAAAAACAZNNAAAAAAIAM1UAAAAAA4JDVQAAAAABAFdZAAAAAAMCz1UAAAAAAQBfVQAAAAADAetRAAAAAAEAX1EAAAAAAQBHTQAAAAABAC9JAAAAAAMCL0EAAAAAAQLvQQAAAAACgBdFAAAAAAABQ0UAAAAAAwAzRQAAAAACAydBAAAAAAAA9z0AAAAAAgE/QQAAAAACAANFAAAAAAICSz0AAAAAAgHjOQAAAAACAXs1AAAAAAICTyUAAAAAAgJLLQAAAAACAkc1AAAAAAICczkAAAAAAwJ7MQAAAAAAAocpAAAAAAIC1y0AAAAAAgFfOQAAAAADAfNBAAAAAAOBr0UAAAAAAAFvSQAAAAADAANFAAAAAAODb0EAAAAAAALfQQAAAAADAJtBAAAAAAMBv0EAAAAAAgJrQQAAAAABAxdBAAAAAAKBo0UAAAAAAAAzSQAAAAABAHdFAAAAAAMAx00AAAAAAQEbVQAAAAABgSdVAAAAAAIBM1UAAAAAAQM/UQAAAAAAAUtRAAAAAAAAWzUAAAAAAADXIQAAAAACAC8lAAAAAAAABz0AAAAAAwG3QQAAAAAAAW9FAAAAAAIB60UAAAAAAwKvRQAAAAAAA3dFAAAAAAED40EAAAAAAIEnQQAAAAAAANM9AAAAAAACKzUAAAAAAgFrKQAAAAAAAK8dAAAAAAAB60UAAAAAAoNfSQAAAAABANdRAAAAAAICM00AAAAAAYLLTQAAAAABA2NNAAAAAAABP1EAAAAAAgJHTQAAAAADgr9NAAAAAAEDO00AAAAAAwJPWQAAAAAAgEthAAAAAAICQ2UAAAAAAQEfZQAAAAABgw9lAAAAAAIA/2kAAAAAAAK/bQAAAAACAHt1AAAAAAMA83EAAAAAAAA3bQAAAAABA3dlAAAAAAMBE2UAAAAAAQKXZQAAAAACA9dlAAAAAAMBF2kAAAAAAwOXaQAAAAACApNpAAAAAAEBj2kAAAAAAADzbQAAAAADgGttAAAAAAMD52kAAAAAAAKjYQAAAAAAgc9dAAAAAAEA+1kAAAAAAgMTVQAAAAACgu9ZAAAAAAMCy10AAAAAAgJvXQAAAAADg89dAAAAAAEBM2EAAAAAAABXZQAAAAACAGdhAAAAAAMCl10AAAAAAADLXQAAAAACAxNZAAAAAAABX1kAAAAAAwC7WQAAAAACgutZAAAAAAIBG10AAAAAAgEbXQAAAAACARtdA",
          "dtype": "f8"
         },
         "yaxis": "y2"
        }
       ],
       "layout": {
        "legend": {
         "x": 1,
         "y": 0.99
        },
        "template": {
         "data": {
          "bar": [
           {
            "error_x": {
             "color": "#2a3f5f"
            },
            "error_y": {
             "color": "#2a3f5f"
            },
            "marker": {
             "line": {
              "color": "white",
              "width": 0.5
             },
             "pattern": {
              "fillmode": "overlay",
              "size": 10,
              "solidity": 0.2
             }
            },
            "type": "bar"
           }
          ],
          "barpolar": [
           {
            "marker": {
             "line": {
              "color": "white",
              "width": 0.5
             },
             "pattern": {
              "fillmode": "overlay",
              "size": 10,
              "solidity": 0.2
             }
            },
            "type": "barpolar"
           }
          ],
          "carpet": [
           {
            "aaxis": {
             "endlinecolor": "#2a3f5f",
             "gridcolor": "#C8D4E3",
             "linecolor": "#C8D4E3",
             "minorgridcolor": "#C8D4E3",
             "startlinecolor": "#2a3f5f"
            },
            "baxis": {
             "endlinecolor": "#2a3f5f",
             "gridcolor": "#C8D4E3",
             "linecolor": "#C8D4E3",
             "minorgridcolor": "#C8D4E3",
             "startlinecolor": "#2a3f5f"
            },
            "type": "carpet"
           }
          ],
          "choropleth": [
           {
            "colorbar": {
             "outlinewidth": 0,
             "ticks": ""
            },
            "type": "choropleth"
           }
          ],
          "contour": [
           {
            "colorbar": {
             "outlinewidth": 0,
             "ticks": ""
            },
            "colorscale": [
             [
              0,
              "#0d0887"
             ],
             [
              0.1111111111111111,
              "#46039f"
             ],
             [
              0.2222222222222222,
              "#7201a8"
             ],
             [
              0.3333333333333333,
              "#9c179e"
             ],
             [
              0.4444444444444444,
              "#bd3786"
             ],
             [
              0.5555555555555556,
              "#d8576b"
             ],
             [
              0.6666666666666666,
              "#ed7953"
             ],
             [
              0.7777777777777778,
              "#fb9f3a"
             ],
             [
              0.8888888888888888,
              "#fdca26"
             ],
             [
              1,
              "#f0f921"
             ]
            ],
            "type": "contour"
           }
          ],
          "contourcarpet": [
           {
            "colorbar": {
             "outlinewidth": 0,
             "ticks": ""
            },
            "type": "contourcarpet"
           }
          ],
          "heatmap": [
           {
            "colorbar": {
             "outlinewidth": 0,
             "ticks": ""
            },
            "colorscale": [
             [
              0,
              "#0d0887"
             ],
             [
              0.1111111111111111,
              "#46039f"
             ],
             [
              0.2222222222222222,
              "#7201a8"
             ],
             [
              0.3333333333333333,
              "#9c179e"
             ],
             [
              0.4444444444444444,
              "#bd3786"
             ],
             [
              0.5555555555555556,
              "#d8576b"
             ],
             [
              0.6666666666666666,
              "#ed7953"
             ],
             [
              0.7777777777777778,
              "#fb9f3a"
             ],
             [
              0.8888888888888888,
              "#fdca26"
             ],
             [
              1,
              "#f0f921"
             ]
            ],
            "type": "heatmap"
           }
          ],
          "histogram": [
           {
            "marker": {
             "pattern": {
              "fillmode": "overlay",
              "size": 10,
              "solidity": 0.2
             }
            },
            "type": "histogram"
           }
          ],
          "histogram2d": [
           {
            "colorbar": {
             "outlinewidth": 0,
             "ticks": ""
            },
            "colorscale": [
             [
              0,
              "#0d0887"
             ],
             [
              0.1111111111111111,
              "#46039f"
             ],
             [
              0.2222222222222222,
              "#7201a8"
             ],
             [
              0.3333333333333333,
              "#9c179e"
             ],
             [
              0.4444444444444444,
              "#bd3786"
             ],
             [
              0.5555555555555556,
              "#d8576b"
             ],
             [
              0.6666666666666666,
              "#ed7953"
             ],
             [
              0.7777777777777778,
              "#fb9f3a"
             ],
             [
              0.8888888888888888,
              "#fdca26"
             ],
             [
              1,
              "#f0f921"
             ]
            ],
            "type": "histogram2d"
           }
          ],
          "histogram2dcontour": [
           {
            "colorbar": {
             "outlinewidth": 0,
             "ticks": ""
            },
            "colorscale": [
             [
              0,
              "#0d0887"
             ],
             [
              0.1111111111111111,
              "#46039f"
             ],
             [
              0.2222222222222222,
              "#7201a8"
             ],
             [
              0.3333333333333333,
              "#9c179e"
             ],
             [
              0.4444444444444444,
              "#bd3786"
             ],
             [
              0.5555555555555556,
              "#d8576b"
             ],
             [
              0.6666666666666666,
              "#ed7953"
             ],
             [
              0.7777777777777778,
              "#fb9f3a"
             ],
             [
              0.8888888888888888,
              "#fdca26"
             ],
             [
              1,
              "#f0f921"
             ]
            ],
            "type": "histogram2dcontour"
           }
          ],
          "mesh3d": [
           {
            "colorbar": {
             "outlinewidth": 0,
             "ticks": ""
            },
            "type": "mesh3d"
           }
          ],
          "parcoords": [
           {
            "line": {
             "colorbar": {
              "outlinewidth": 0,
              "ticks": ""
             }
            },
            "type": "parcoords"
           }
          ],
          "pie": [
           {
            "automargin": true,
            "type": "pie"
           }
          ],
          "scatter": [
           {
            "fillpattern": {
             "fillmode": "overlay",
             "size": 10,
             "solidity": 0.2
            },
            "type": "scatter"
           }
          ],
          "scatter3d": [
           {
            "line": {
             "colorbar": {
              "outlinewidth": 0,
              "ticks": ""
             }
            },
            "marker": {
             "colorbar": {
              "outlinewidth": 0,
              "ticks": ""
             }
            },
            "type": "scatter3d"
           }
          ],
          "scattercarpet": [
           {
            "marker": {
             "colorbar": {
              "outlinewidth": 0,
              "ticks": ""
             }
            },
            "type": "scattercarpet"
           }
          ],
          "scattergeo": [
           {
            "marker": {
             "colorbar": {
              "outlinewidth": 0,
              "ticks": ""
             }
            },
            "type": "scattergeo"
           }
          ],
          "scattergl": [
           {
            "marker": {
             "colorbar": {
              "outlinewidth": 0,
              "ticks": ""
             }
            },
            "type": "scattergl"
           }
          ],
          "scattermap": [
           {
            "marker": {
             "colorbar": {
              "outlinewidth": 0,
              "ticks": ""
             }
            },
            "type": "scattermap"
           }
          ],
          "scattermapbox": [
           {
            "marker": {
             "colorbar": {
              "outlinewidth": 0,
              "ticks": ""
             }
            },
            "type": "scattermapbox"
           }
          ],
          "scatterpolar": [
           {
            "marker": {
             "colorbar": {
              "outlinewidth": 0,
              "ticks": ""
             }
            },
            "type": "scatterpolar"
           }
          ],
          "scatterpolargl": [
           {
            "marker": {
             "colorbar": {
              "outlinewidth": 0,
              "ticks": ""
             }
            },
            "type": "scatterpolargl"
           }
          ],
          "scatterternary": [
           {
            "marker": {
             "colorbar": {
              "outlinewidth": 0,
              "ticks": ""
             }
            },
            "type": "scatterternary"
           }
          ],
          "surface": [
           {
            "colorbar": {
             "outlinewidth": 0,
             "ticks": ""
            },
            "colorscale": [
             [
              0,
              "#0d0887"
             ],
             [
              0.1111111111111111,
              "#46039f"
             ],
             [
              0.2222222222222222,
              "#7201a8"
             ],
             [
              0.3333333333333333,
              "#9c179e"
             ],
             [
              0.4444444444444444,
              "#bd3786"
             ],
             [
              0.5555555555555556,
              "#d8576b"
             ],
             [
              0.6666666666666666,
              "#ed7953"
             ],
             [
              0.7777777777777778,
              "#fb9f3a"
             ],
             [
              0.8888888888888888,
              "#fdca26"
             ],
             [
              1,
              "#f0f921"
             ]
            ],
            "type": "surface"
           }
          ],
          "table": [
           {
            "cells": {
             "fill": {
              "color": "#EBF0F8"
             },
             "line": {
              "color": "white"
             }
            },
            "header": {
             "fill": {
              "color": "#C8D4E3"
             },
             "line": {
              "color": "white"
             }
            },
            "type": "table"
           }
          ]
         },
         "layout": {
          "annotationdefaults": {
           "arrowcolor": "#2a3f5f",
           "arrowhead": 0,
           "arrowwidth": 1
          },
          "autotypenumbers": "strict",
          "coloraxis": {
           "colorbar": {
            "outlinewidth": 0,
            "ticks": ""
           }
          },
          "colorscale": {
           "diverging": [
            [
             0,
             "#8e0152"
            ],
            [
             0.1,
             "#c51b7d"
            ],
            [
             0.2,
             "#de77ae"
            ],
            [
             0.3,
             "#f1b6da"
            ],
            [
             0.4,
             "#fde0ef"
            ],
            [
             0.5,
             "#f7f7f7"
            ],
            [
             0.6,
             "#e6f5d0"
            ],
            [
             0.7,
             "#b8e186"
            ],
            [
             0.8,
             "#7fbc41"
            ],
            [
             0.9,
             "#4d9221"
            ],
            [
             1,
             "#276419"
            ]
           ],
           "sequential": [
            [
             0,
             "#0d0887"
            ],
            [
             0.1111111111111111,
             "#46039f"
            ],
            [
             0.2222222222222222,
             "#7201a8"
            ],
            [
             0.3333333333333333,
             "#9c179e"
            ],
            [
             0.4444444444444444,
             "#bd3786"
            ],
            [
             0.5555555555555556,
             "#d8576b"
            ],
            [
             0.6666666666666666,
             "#ed7953"
            ],
            [
             0.7777777777777778,
             "#fb9f3a"
            ],
            [
             0.8888888888888888,
             "#fdca26"
            ],
            [
             1,
             "#f0f921"
            ]
           ],
           "sequentialminus": [
            [
             0,
             "#0d0887"
            ],
            [
             0.1111111111111111,
             "#46039f"
            ],
            [
             0.2222222222222222,
             "#7201a8"
            ],
            [
             0.3333333333333333,
             "#9c179e"
            ],
            [
             0.4444444444444444,
             "#bd3786"
            ],
            [
             0.5555555555555556,
             "#d8576b"
            ],
            [
             0.6666666666666666,
             "#ed7953"
            ],
            [
             0.7777777777777778,
             "#fb9f3a"
            ],
            [
             0.8888888888888888,
             "#fdca26"
            ],
            [
             1,
             "#f0f921"
            ]
           ]
          },
          "colorway": [
           "#636efa",
           "#EF553B",
           "#00cc96",
           "#ab63fa",
           "#FFA15A",
           "#19d3f3",
           "#FF6692",
           "#B6E880",
           "#FF97FF",
           "#FECB52"
          ],
          "font": {
           "color": "#2a3f5f"
          },
          "geo": {
           "bgcolor": "white",
           "lakecolor": "white",
           "landcolor": "white",
           "showlakes": true,
           "showland": true,
           "subunitcolor": "#C8D4E3"
          },
          "hoverlabel": {
           "align": "left"
          },
          "hovermode": "closest",
          "mapbox": {
           "style": "light"
          },
          "paper_bgcolor": "white",
          "plot_bgcolor": "white",
          "polar": {
           "angularaxis": {
            "gridcolor": "#EBF0F8",
            "linecolor": "#EBF0F8",
            "ticks": ""
           },
           "bgcolor": "white",
           "radialaxis": {
            "gridcolor": "#EBF0F8",
            "linecolor": "#EBF0F8",
            "ticks": ""
           }
          },
          "scene": {
           "xaxis": {
            "backgroundcolor": "white",
            "gridcolor": "#DFE8F3",
            "gridwidth": 2,
            "linecolor": "#EBF0F8",
            "showbackground": true,
            "ticks": "",
            "zerolinecolor": "#EBF0F8"
           },
           "yaxis": {
            "backgroundcolor": "white",
            "gridcolor": "#DFE8F3",
            "gridwidth": 2,
            "linecolor": "#EBF0F8",
            "showbackground": true,
            "ticks": "",
            "zerolinecolor": "#EBF0F8"
           },
           "zaxis": {
            "backgroundcolor": "white",
            "gridcolor": "#DFE8F3",
            "gridwidth": 2,
            "linecolor": "#EBF0F8",
            "showbackground": true,
            "ticks": "",
            "zerolinecolor": "#EBF0F8"
           }
          },
          "shapedefaults": {
           "line": {
            "color": "#2a3f5f"
           }
          },
          "ternary": {
           "aaxis": {
            "gridcolor": "#DFE8F3",
            "linecolor": "#A2B1C6",
            "ticks": ""
           },
           "baxis": {
            "gridcolor": "#DFE8F3",
            "linecolor": "#A2B1C6",
            "ticks": ""
           },
           "bgcolor": "white",
           "caxis": {
            "gridcolor": "#DFE8F3",
            "linecolor": "#A2B1C6",
            "ticks": ""
           }
          },
          "title": {
           "x": 0.05
          },
          "xaxis": {
           "automargin": true,
           "gridcolor": "#EBF0F8",
           "linecolor": "#EBF0F8",
           "ticks": "",
           "title": {
            "standoff": 15
           },
           "zerolinecolor": "#EBF0F8",
           "zerolinewidth": 2
          },
          "yaxis": {
           "automargin": true,
           "gridcolor": "#EBF0F8",
           "linecolor": "#EBF0F8",
           "ticks": "",
           "title": {
            "standoff": 15
           },
           "zerolinecolor": "#EBF0F8",
           "zerolinewidth": 2
          }
         }
        },
        "title": {
         "text": "Southwest and CBP Over Time"
        },
        "xaxis": {
         "title": {
          "text": "Date"
         }
        },
        "yaxis": {
         "title": {
          "text": "Southwest Land Border"
         }
        },
        "yaxis2": {
         "overlaying": "y",
         "side": "right",
         "title": {
          "text": "CBP All"
         }
        }
       }
      },
      "image/png": "[encoded data removed]"
     },
     "metadata": {},
     "output_type": "display_data"
    }
   ],
   "source": [
    "import plotly.graph_objects as go\n",
    "\n",
    "fig = go.Figure()\n",
    "\n",
    "# First trace: Southwest Land Border (left y-axis)\n",
    "fig.add_trace(go.Scatter(\n",
    "    x=df_subset[\"date\"],\n",
    "    y=df_subset[\"Southwest Land Border\"],\n",
    "    name=\"Southwest Land Border\",\n",
    "    yaxis=\"y1\",\n",
    "    line=dict(color=\"#1f77b4\")\n",
    "))\n",
    "\n",
    "# Second trace: cbp_all (right y-axis)\n",
    "fig.add_trace(go.Scatter(\n",
    "    x=df_subset[\"date\"],\n",
    "    y=df_subset[\"cbp_all\"],\n",
    "    name=\"CBP All\",\n",
    "    yaxis=\"y2\",\n",
    "    line=dict(color=\"#ff7f0e\")\n",
    "))\n",
    "\n",
    "# Layout with dual y-axes\n",
    "fig.update_layout(\n",
    "    title=\"Southwest and CBP Over Time\",\n",
    "    xaxis=dict(title=\"Date\"),\n",
    "    yaxis=dict(title=\"Southwest Land Border\"),\n",
    "    yaxis2=dict(\n",
    "        title=\"CBP All\",\n",
    "        overlaying=\"y\",\n",
    "        side=\"right\"\n",
    "    ),\n",
    "    legend=dict(x=1, y=0.99),\n",
    "    template=\"plotly_white\"\n",
    ")\n",
    "\n",
    "fig.show()\n"
   ]
  },
  {
   "cell_type": "code",
   "execution_count": 22,
   "id": "f08bdc0f",
   "metadata": {},
   "outputs": [
    {
     "data": {
      "text/html": [
       "<div>\n",
       "<style scoped>\n",
       "    .dataframe tbody tr th:only-of-type {\n",
       "        vertical-align: middle;\n",
       "    }\n",
       "\n",
       "    .dataframe tbody tr th {\n",
       "        vertical-align: top;\n",
       "    }\n",
       "\n",
       "    .dataframe thead th {\n",
       "        text-align: right;\n",
       "    }\n",
       "</style>\n",
       "<table border=\"1\" class=\"dataframe\">\n",
       "  <thead>\n",
       "    <tr style=\"text-align: right;\">\n",
       "      <th></th>\n",
       "      <th>Southwest Land Border</th>\n",
       "      <th>cbp_all</th>\n",
       "    </tr>\n",
       "  </thead>\n",
       "  <tbody>\n",
       "    <tr>\n",
       "      <th>Southwest Land Border</th>\n",
       "      <td>1.000000</td>\n",
       "      <td>0.081134</td>\n",
       "    </tr>\n",
       "    <tr>\n",
       "      <th>cbp_all</th>\n",
       "      <td>0.081134</td>\n",
       "      <td>1.000000</td>\n",
       "    </tr>\n",
       "  </tbody>\n",
       "</table>\n",
       "</div>"
      ],
      "text/plain": [
       "                       Southwest Land Border   cbp_all\n",
       "Southwest Land Border               1.000000  0.081134\n",
       "cbp_all                             0.081134  1.000000"
      ]
     },
     "execution_count": 22,
     "metadata": {},
     "output_type": "execute_result"
    }
   ],
   "source": [
    "df_subset[[\"Southwest Land Border\", \"cbp_all\"]].corr()\n"
   ]
  },
  {
   "cell_type": "code",
   "execution_count": 29,
   "id": "ce173809",
   "metadata": {},
   "outputs": [
    {
     "name": "stdout",
     "output_type": "stream",
     "text": [
      "Lag 0: correlation = 0.081\n",
      "Lag 1: correlation = 0.125\n",
      "Lag 2: correlation = 0.169\n",
      "Lag 3: correlation = 0.215\n",
      "Lag 4: correlation = 0.266\n",
      "Lag 5: correlation = 0.317\n",
      "Lag 6: correlation = 0.366\n",
      "Lag 7: correlation = 0.413\n",
      "Lag 8: correlation = 0.457\n",
      "Lag 9: correlation = 0.495\n",
      "Lag 10: correlation = 0.528\n",
      "Lag 11: correlation = 0.552\n",
      "Lag 12: correlation = 0.569\n",
      "Lag 13: correlation = 0.581\n",
      "Lag 14: correlation = 0.589\n",
      "Lag 15: correlation = 0.598\n",
      "Lag 16: correlation = 0.610\n",
      "Lag 17: correlation = 0.624\n",
      "Lag 18: correlation = 0.635\n",
      "Lag 19: correlation = 0.642\n",
      "Lag 20: correlation = 0.644\n",
      "Lag 21: correlation = 0.644\n",
      "Lag 22: correlation = 0.641\n",
      "Lag 23: correlation = 0.638\n",
      "Lag 24: correlation = 0.633\n",
      "Lag 25: correlation = 0.629\n",
      "Lag 26: correlation = 0.626\n",
      "Lag 27: correlation = 0.628\n",
      "Lag 28: correlation = 0.633\n"
     ]
    }
   ],
   "source": [
    "for lag in range(0, 29):  # try lags from 0 to 28 days (i.e. 4 weeks)\n",
    "    shifted = df_subset[\"Southwest Land Border\"].shift(lag)\n",
    "    corr = shifted.corr(df_subset[\"cbp_all\"])\n",
    "    print(f\"Lag {lag}: correlation = {corr:.3f}\")\n"
   ]
  },
  {
   "cell_type": "code",
   "execution_count": 30,
   "id": "09ef7a02",
   "metadata": {},
   "outputs": [
    {
     "data": {
      "application/vnd.plotly.v1+json": {
       "config": {
        "plotlyServerURL": "https://plot.ly"
       },
       "data": [
        {
         "line": {
          "color": "#1f77b4"
         },
         "marker": {
          "size": 6
         },
         "mode": "lines+markers",
         "name": "Lagged Correlation",
         "type": "scatter",
         "x": [
          0,
          1,
          2,
          3,
          4,
          5,
          6,
          7,
          8,
          9,
          10,
          11,
          12,
          13,
          14,
          15,
          16,
          17,
          18,
          19,
          20,
          21,
          22,
          23,
          24,
          25,
          26,
          27,
          28
         ],
         "y": [
          0.08113392640389534,
          0.1248159874868862,
          0.1685858543221767,
          0.21526532099563067,
          0.2657672195749306,
          0.31657099360273433,
          0.3662574522713308,
          0.4133358116496854,
          0.45697385842289595,
          0.49535224709715725,
          0.5275032388531379,
          0.5521330163631334,
          0.56905585492127,
          0.5806717989846187,
          0.5887836570648423,
          0.5982613675671806,
          0.609944084375077,
          0.623891589987633,
          0.6353559636947332,
          0.6423377301753875,
          0.6443678228591636,
          0.6438894546051702,
          0.6412690009190576,
          0.6378005589577656,
          0.6333934049367524,
          0.6292714354505584,
          0.6259479428927385,
          0.627545134853565,
          0.6333623950830485
         ]
        }
       ],
       "layout": {
        "hovermode": "x unified",
        "template": {
         "data": {
          "bar": [
           {
            "error_x": {
             "color": "#2a3f5f"
            },
            "error_y": {
             "color": "#2a3f5f"
            },
            "marker": {
             "line": {
              "color": "white",
              "width": 0.5
             },
             "pattern": {
              "fillmode": "overlay",
              "size": 10,
              "solidity": 0.2
             }
            },
            "type": "bar"
           }
          ],
          "barpolar": [
           {
            "marker": {
             "line": {
              "color": "white",
              "width": 0.5
             },
             "pattern": {
              "fillmode": "overlay",
              "size": 10,
              "solidity": 0.2
             }
            },
            "type": "barpolar"
           }
          ],
          "carpet": [
           {
            "aaxis": {
             "endlinecolor": "#2a3f5f",
             "gridcolor": "#C8D4E3",
             "linecolor": "#C8D4E3",
             "minorgridcolor": "#C8D4E3",
             "startlinecolor": "#2a3f5f"
            },
            "baxis": {
             "endlinecolor": "#2a3f5f",
             "gridcolor": "#C8D4E3",
             "linecolor": "#C8D4E3",
             "minorgridcolor": "#C8D4E3",
             "startlinecolor": "#2a3f5f"
            },
            "type": "carpet"
           }
          ],
          "choropleth": [
           {
            "colorbar": {
             "outlinewidth": 0,
             "ticks": ""
            },
            "type": "choropleth"
           }
          ],
          "contour": [
           {
            "colorbar": {
             "outlinewidth": 0,
             "ticks": ""
            },
            "colorscale": [
             [
              0,
              "#0d0887"
             ],
             [
              0.1111111111111111,
              "#46039f"
             ],
             [
              0.2222222222222222,
              "#7201a8"
             ],
             [
              0.3333333333333333,
              "#9c179e"
             ],
             [
              0.4444444444444444,
              "#bd3786"
             ],
             [
              0.5555555555555556,
              "#d8576b"
             ],
             [
              0.6666666666666666,
              "#ed7953"
             ],
             [
              0.7777777777777778,
              "#fb9f3a"
             ],
             [
              0.8888888888888888,
              "#fdca26"
             ],
             [
              1,
              "#f0f921"
             ]
            ],
            "type": "contour"
           }
          ],
          "contourcarpet": [
           {
            "colorbar": {
             "outlinewidth": 0,
             "ticks": ""
            },
            "type": "contourcarpet"
           }
          ],
          "heatmap": [
           {
            "colorbar": {
             "outlinewidth": 0,
             "ticks": ""
            },
            "colorscale": [
             [
              0,
              "#0d0887"
             ],
             [
              0.1111111111111111,
              "#46039f"
             ],
             [
              0.2222222222222222,
              "#7201a8"
             ],
             [
              0.3333333333333333,
              "#9c179e"
             ],
             [
              0.4444444444444444,
              "#bd3786"
             ],
             [
              0.5555555555555556,
              "#d8576b"
             ],
             [
              0.6666666666666666,
              "#ed7953"
             ],
             [
              0.7777777777777778,
              "#fb9f3a"
             ],
             [
              0.8888888888888888,
              "#fdca26"
             ],
             [
              1,
              "#f0f921"
             ]
            ],
            "type": "heatmap"
           }
          ],
          "histogram": [
           {
            "marker": {
             "pattern": {
              "fillmode": "overlay",
              "size": 10,
              "solidity": 0.2
             }
            },
            "type": "histogram"
           }
          ],
          "histogram2d": [
           {
            "colorbar": {
             "outlinewidth": 0,
             "ticks": ""
            },
            "colorscale": [
             [
              0,
              "#0d0887"
             ],
             [
              0.1111111111111111,
              "#46039f"
             ],
             [
              0.2222222222222222,
              "#7201a8"
             ],
             [
              0.3333333333333333,
              "#9c179e"
             ],
             [
              0.4444444444444444,
              "#bd3786"
             ],
             [
              0.5555555555555556,
              "#d8576b"
             ],
             [
              0.6666666666666666,
              "#ed7953"
             ],
             [
              0.7777777777777778,
              "#fb9f3a"
             ],
             [
              0.8888888888888888,
              "#fdca26"
             ],
             [
              1,
              "#f0f921"
             ]
            ],
            "type": "histogram2d"
           }
          ],
          "histogram2dcontour": [
           {
            "colorbar": {
             "outlinewidth": 0,
             "ticks": ""
            },
            "colorscale": [
             [
              0,
              "#0d0887"
             ],
             [
              0.1111111111111111,
              "#46039f"
             ],
             [
              0.2222222222222222,
              "#7201a8"
             ],
             [
              0.3333333333333333,
              "#9c179e"
             ],
             [
              0.4444444444444444,
              "#bd3786"
             ],
             [
              0.5555555555555556,
              "#d8576b"
             ],
             [
              0.6666666666666666,
              "#ed7953"
             ],
             [
              0.7777777777777778,
              "#fb9f3a"
             ],
             [
              0.8888888888888888,
              "#fdca26"
             ],
             [
              1,
              "#f0f921"
             ]
            ],
            "type": "histogram2dcontour"
           }
          ],
          "mesh3d": [
           {
            "colorbar": {
             "outlinewidth": 0,
             "ticks": ""
            },
            "type": "mesh3d"
           }
          ],
          "parcoords": [
           {
            "line": {
             "colorbar": {
              "outlinewidth": 0,
              "ticks": ""
             }
            },
            "type": "parcoords"
           }
          ],
          "pie": [
           {
            "automargin": true,
            "type": "pie"
           }
          ],
          "scatter": [
           {
            "fillpattern": {
             "fillmode": "overlay",
             "size": 10,
             "solidity": 0.2
            },
            "type": "scatter"
           }
          ],
          "scatter3d": [
           {
            "line": {
             "colorbar": {
              "outlinewidth": 0,
              "ticks": ""
             }
            },
            "marker": {
             "colorbar": {
              "outlinewidth": 0,
              "ticks": ""
             }
            },
            "type": "scatter3d"
           }
          ],
          "scattercarpet": [
           {
            "marker": {
             "colorbar": {
              "outlinewidth": 0,
              "ticks": ""
             }
            },
            "type": "scattercarpet"
           }
          ],
          "scattergeo": [
           {
            "marker": {
             "colorbar": {
              "outlinewidth": 0,
              "ticks": ""
             }
            },
            "type": "scattergeo"
           }
          ],
          "scattergl": [
           {
            "marker": {
             "colorbar": {
              "outlinewidth": 0,
              "ticks": ""
             }
            },
            "type": "scattergl"
           }
          ],
          "scattermap": [
           {
            "marker": {
             "colorbar": {
              "outlinewidth": 0,
              "ticks": ""
             }
            },
            "type": "scattermap"
           }
          ],
          "scattermapbox": [
           {
            "marker": {
             "colorbar": {
              "outlinewidth": 0,
              "ticks": ""
             }
            },
            "type": "scattermapbox"
           }
          ],
          "scatterpolar": [
           {
            "marker": {
             "colorbar": {
              "outlinewidth": 0,
              "ticks": ""
             }
            },
            "type": "scatterpolar"
           }
          ],
          "scatterpolargl": [
           {
            "marker": {
             "colorbar": {
              "outlinewidth": 0,
              "ticks": ""
             }
            },
            "type": "scatterpolargl"
           }
          ],
          "scatterternary": [
           {
            "marker": {
             "colorbar": {
              "outlinewidth": 0,
              "ticks": ""
             }
            },
            "type": "scatterternary"
           }
          ],
          "surface": [
           {
            "colorbar": {
             "outlinewidth": 0,
             "ticks": ""
            },
            "colorscale": [
             [
              0,
              "#0d0887"
             ],
             [
              0.1111111111111111,
              "#46039f"
             ],
             [
              0.2222222222222222,
              "#7201a8"
             ],
             [
              0.3333333333333333,
              "#9c179e"
             ],
             [
              0.4444444444444444,
              "#bd3786"
             ],
             [
              0.5555555555555556,
              "#d8576b"
             ],
             [
              0.6666666666666666,
              "#ed7953"
             ],
             [
              0.7777777777777778,
              "#fb9f3a"
             ],
             [
              0.8888888888888888,
              "#fdca26"
             ],
             [
              1,
              "#f0f921"
             ]
            ],
            "type": "surface"
           }
          ],
          "table": [
           {
            "cells": {
             "fill": {
              "color": "#EBF0F8"
             },
             "line": {
              "color": "white"
             }
            },
            "header": {
             "fill": {
              "color": "#C8D4E3"
             },
             "line": {
              "color": "white"
             }
            },
            "type": "table"
           }
          ]
         },
         "layout": {
          "annotationdefaults": {
           "arrowcolor": "#2a3f5f",
           "arrowhead": 0,
           "arrowwidth": 1
          },
          "autotypenumbers": "strict",
          "coloraxis": {
           "colorbar": {
            "outlinewidth": 0,
            "ticks": ""
           }
          },
          "colorscale": {
           "diverging": [
            [
             0,
             "#8e0152"
            ],
            [
             0.1,
             "#c51b7d"
            ],
            [
             0.2,
             "#de77ae"
            ],
            [
             0.3,
             "#f1b6da"
            ],
            [
             0.4,
             "#fde0ef"
            ],
            [
             0.5,
             "#f7f7f7"
            ],
            [
             0.6,
             "#e6f5d0"
            ],
            [
             0.7,
             "#b8e186"
            ],
            [
             0.8,
             "#7fbc41"
            ],
            [
             0.9,
             "#4d9221"
            ],
            [
             1,
             "#276419"
            ]
           ],
           "sequential": [
            [
             0,
             "#0d0887"
            ],
            [
             0.1111111111111111,
             "#46039f"
            ],
            [
             0.2222222222222222,
             "#7201a8"
            ],
            [
             0.3333333333333333,
             "#9c179e"
            ],
            [
             0.4444444444444444,
             "#bd3786"
            ],
            [
             0.5555555555555556,
             "#d8576b"
            ],
            [
             0.6666666666666666,
             "#ed7953"
            ],
            [
             0.7777777777777778,
             "#fb9f3a"
            ],
            [
             0.8888888888888888,
             "#fdca26"
            ],
            [
             1,
             "#f0f921"
            ]
           ],
           "sequentialminus": [
            [
             0,
             "#0d0887"
            ],
            [
             0.1111111111111111,
             "#46039f"
            ],
            [
             0.2222222222222222,
             "#7201a8"
            ],
            [
             0.3333333333333333,
             "#9c179e"
            ],
            [
             0.4444444444444444,
             "#bd3786"
            ],
            [
             0.5555555555555556,
             "#d8576b"
            ],
            [
             0.6666666666666666,
             "#ed7953"
            ],
            [
             0.7777777777777778,
             "#fb9f3a"
            ],
            [
             0.8888888888888888,
             "#fdca26"
            ],
            [
             1,
             "#f0f921"
            ]
           ]
          },
          "colorway": [
           "#636efa",
           "#EF553B",
           "#00cc96",
           "#ab63fa",
           "#FFA15A",
           "#19d3f3",
           "#FF6692",
           "#B6E880",
           "#FF97FF",
           "#FECB52"
          ],
          "font": {
           "color": "#2a3f5f"
          },
          "geo": {
           "bgcolor": "white",
           "lakecolor": "white",
           "landcolor": "white",
           "showlakes": true,
           "showland": true,
           "subunitcolor": "#C8D4E3"
          },
          "hoverlabel": {
           "align": "left"
          },
          "hovermode": "closest",
          "mapbox": {
           "style": "light"
          },
          "paper_bgcolor": "white",
          "plot_bgcolor": "white",
          "polar": {
           "angularaxis": {
            "gridcolor": "#EBF0F8",
            "linecolor": "#EBF0F8",
            "ticks": ""
           },
           "bgcolor": "white",
           "radialaxis": {
            "gridcolor": "#EBF0F8",
            "linecolor": "#EBF0F8",
            "ticks": ""
           }
          },
          "scene": {
           "xaxis": {
            "backgroundcolor": "white",
            "gridcolor": "#DFE8F3",
            "gridwidth": 2,
            "linecolor": "#EBF0F8",
            "showbackground": true,
            "ticks": "",
            "zerolinecolor": "#EBF0F8"
           },
           "yaxis": {
            "backgroundcolor": "white",
            "gridcolor": "#DFE8F3",
            "gridwidth": 2,
            "linecolor": "#EBF0F8",
            "showbackground": true,
            "ticks": "",
            "zerolinecolor": "#EBF0F8"
           },
           "zaxis": {
            "backgroundcolor": "white",
            "gridcolor": "#DFE8F3",
            "gridwidth": 2,
            "linecolor": "#EBF0F8",
            "showbackground": true,
            "ticks": "",
            "zerolinecolor": "#EBF0F8"
           }
          },
          "shapedefaults": {
           "line": {
            "color": "#2a3f5f"
           }
          },
          "ternary": {
           "aaxis": {
            "gridcolor": "#DFE8F3",
            "linecolor": "#A2B1C6",
            "ticks": ""
           },
           "baxis": {
            "gridcolor": "#DFE8F3",
            "linecolor": "#A2B1C6",
            "ticks": ""
           },
           "bgcolor": "white",
           "caxis": {
            "gridcolor": "#DFE8F3",
            "linecolor": "#A2B1C6",
            "ticks": ""
           }
          },
          "title": {
           "x": 0.05
          },
          "xaxis": {
           "automargin": true,
           "gridcolor": "#EBF0F8",
           "linecolor": "#EBF0F8",
           "ticks": "",
           "title": {
            "standoff": 15
           },
           "zerolinecolor": "#EBF0F8",
           "zerolinewidth": 2
          },
          "yaxis": {
           "automargin": true,
           "gridcolor": "#EBF0F8",
           "linecolor": "#EBF0F8",
           "ticks": "",
           "title": {
            "standoff": 15
           },
           "zerolinecolor": "#EBF0F8",
           "zerolinewidth": 2
          }
         }
        },
        "title": {
         "text": "Lagged Correlation: Encounters vs. Detentions"
        },
        "xaxis": {
         "title": {
          "text": "Lag (days)"
         }
        },
        "yaxis": {
         "title": {
          "text": "Pearson Correlation"
         }
        }
       }
      },
      "image/png": "[encoded data removed]"
     },
     "metadata": {},
     "output_type": "display_data"
    }
   ],
   "source": [
    "import plotly.graph_objects as go\n",
    "\n",
    "lags = list(range(0, 29))  \n",
    "correlations = [\n",
    "    df_subset[\"Southwest Land Border\"].shift(lag).corr(df_subset[\"cbp_all\"])\n",
    "    for lag in lags\n",
    "]\n",
    "\n",
    "fig = go.Figure()\n",
    "\n",
    "fig.add_trace(go.Scatter(\n",
    "    x=lags,\n",
    "    y=correlations,\n",
    "    mode=\"lines+markers\",\n",
    "    name=\"Lagged Correlation\",\n",
    "    line=dict(color=\"#1f77b4\"),\n",
    "    marker=dict(size=6)\n",
    "))\n",
    "\n",
    "fig.update_layout(\n",
    "    title=\"Lagged Correlation: Encounters vs. Detentions\",\n",
    "    xaxis_title=\"Lag (days)\",\n",
    "    yaxis_title=\"Pearson Correlation\",\n",
    "    template=\"plotly_white\",\n",
    "    hovermode=\"x unified\"\n",
    ")\n",
    "\n",
    "fig.show()\n"
   ]
  }
 ],
 "metadata": {
  "kernelspec": {
   "display_name": ".venv",
   "language": "python",
   "name": "python3"
  },
  "language_info": {
   "codemirror_mode": {
    "name": "ipython",
    "version": 3
   },
   "file_extension": ".py",
   "mimetype": "text/x-python",
   "name": "python",
   "nbconvert_exporter": "python",
   "pygments_lexer": "ipython3",
   "version": "3.12.7"
  }
 },
 "nbformat": 4,
 "nbformat_minor": 5
}
